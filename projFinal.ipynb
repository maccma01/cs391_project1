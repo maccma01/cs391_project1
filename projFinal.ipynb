{
 "cells": [
  {
   "cell_type": "markdown",
   "metadata": {},
   "source": [
    "# Companies project"
   ]
  },
  {
   "cell_type": "markdown",
   "metadata": {},
   "source": [
    "### link to github with projFinal file: https://github.com/maccma01/cs391_project1\n",
    "### link to kaggle where to find companies data: https://www.kaggle.com/jsche4/open-data-500-companies\n",
    "\n",
    "\n",
    "### roughly 18 seconds to run from top to bottom\n",
    "\n",
    "\n",
    "### Goal: The goal of this project was to determine what factors make a company successful . \n",
    "### Brief description: We gathered data that included factors such as: state, company type (private, public..), company category (tech/finance...), revenue, etc. and we are trying to see how different models can predict how successful a new company can be based on the features we have. The determination of success comes from a degree of success variable that can be 0 (not successful), 1 (average), 2 (successful).\n",
    "\n",
    "\n",
    "### Group members: Mateus Maccieri, Tayvon Wright, Ogden Leyens\n",
    "\n",
    "\n",
    "\n",
    "### Summary findings: From our basic analysis we found out we mainly have a lot of small companies with small revenues, some small ones with big revenues, or big companies with huge revenues. There is not a lot of companies in between that can make our data more uniform. \n",
    "### Our degree of success boundaries are also very wide. This probably shows why we obtain around 95-98% accuracy score with support vector machines, along with the fact we have a lot of categorical data witihin our features. \n",
    "### The companies degrees that were predicted wrong are companies that have the revenue to size ratio very close to those boundaries.  \n",
    "### Multiple linear regression, however, has a R^2 of 1.0 and the fact that we have these big differences between our ratios and there is not good correlation between any two specific features make it very hard to interpret.\n",
    "### The other different models we tried such as neural networks and naive Bayes can definitely be improved by increasing the amount of data with a lot more medium to big companies.\n",
    "\n",
    "### As a conclusion, from our findings, the features that allow us to obtain a really good score with support vector machines are state, size, company type, company_category, the different business models, revenue, age\n",
    "\n",
    "### What's missing: We are missing a lot of data that can improve our models and that can allow us to draw better and clear conclusions. We are also missing better features to help us really understand the impact of each specific feature. We need more numerical continuous features as well to run regression."
   ]
  },
  {
   "cell_type": "markdown",
   "metadata": {},
   "source": [
    "# The data can be found in this link:\n",
    "\n",
    "https://www.kaggle.com/jsche4/open-data-500-companies\n",
    "\n"
   ]
  },
  {
   "cell_type": "code",
   "execution_count": 404,
   "metadata": {},
   "outputs": [],
   "source": [
    "# import numerical libraries\n",
    "import numpy as np   \n",
    "\n",
    "# import preprocessing imputer (to replace missing values)\n",
    "from sklearn.preprocessing import Imputer\n",
    "\n",
    "# to handle data in form of rows and columns \n",
    "import pandas as pd    \n",
    "\n",
    "# import ploting libraries\n",
    "import matplotlib.pyplot as plt   \n",
    "\n",
    "# draw the charts here as part of the notebook \n",
    "%matplotlib inline\n",
    "\n",
    "# import for statistical plots\n",
    "import seaborn as sns\n",
    "\n",
    "# import for math functions\n",
    "import math"
   ]
  },
  {
   "cell_type": "markdown",
   "metadata": {},
   "source": [
    "## Load data\n",
    "\n",
    "The data can be downloaded here: https://www.kaggle.com/jsche4/open-data-500-companies"
   ]
  },
  {
   "cell_type": "code",
   "execution_count": 405,
   "metadata": {},
   "outputs": [
    {
     "name": "stdout",
     "output_type": "stream",
     "text": [
      "                     0                            1             2   \\\n",
      "0          company_name                          url  year_founded   \n",
      "1  3 Round Stones, Inc.      http://3RoundStones.com          2010   \n",
      "2     48 Factoring Inc.  https://www.48factoring.com          2014   \n",
      "3           5PSolutions          www.5psolutions.com          2007   \n",
      "4        Abt Associates                 abtassoc.com          1965   \n",
      "\n",
      "              3      4        5         6                    7             8   \\\n",
      "0           city  state  country  zip_code  full_time_employees  company_type   \n",
      "1     Washington     DC       us     20004               10-Jan       Private   \n",
      "2   Philadelphia     PA       us     19087               51-200       Private   \n",
      "3        Fairfax     VA       us     22003               10-Jan       Private   \n",
      "4      Cambridge     MA       us      2138          1,001-5,000       Private   \n",
      "\n",
      "                      9                                                  10  \\\n",
      "0       company_category                                     revenue_source   \n",
      "1        Data/Technology  Data analysis for clients, Database licensing,...   \n",
      "2   Finance & Investment                                 Financial Services   \n",
      "3        Data/Technology  Subscriptions, User fees for web or mobile access   \n",
      "4  Research & Consulting      Data analysis for clients, Database licensing   \n",
      "\n",
      "                                                  11  \n",
      "0                                     business_model  \n",
      "1         Business to Business, Business to Consumer  \n",
      "2                               Business to Business  \n",
      "3  Business to Business, Business to Consumer, Bu...  \n",
      "4                                                NaN  \n"
     ]
    }
   ],
   "source": [
    "# data csv file contained in the same folder as the project\n",
    "datafn = 'us_companies.csv'\n",
    "\n",
    "df = pd.read_csv(datafn, na_values = ['?'], header = None)\n",
    "\n",
    "# check first five rows of the dataset\n",
    "print(df.head())"
   ]
  },
  {
   "cell_type": "markdown",
   "metadata": {},
   "source": [
    "______"
   ]
  },
  {
   "cell_type": "code",
   "execution_count": 406,
   "metadata": {},
   "outputs": [
    {
     "name": "stdout",
     "output_type": "stream",
     "text": [
      "Each element in the first row of the dataset should be the name of each column\n",
      "Reset first row index as 0 instead of 1 and drop initial columns that we do not need\n"
     ]
    }
   ],
   "source": [
    "print('Each element in the first row of the dataset should be the name of each column')\n",
    "print('Reset first row index as 0 instead of 1 and drop initial columns that we do not need')"
   ]
  },
  {
   "cell_type": "code",
   "execution_count": 407,
   "metadata": {
    "scrolled": true
   },
   "outputs": [
    {
     "name": "stdout",
     "output_type": "stream",
     "text": [
      "Index(['company_name', 'url', 'year_founded', 'city', 'state',\n",
      "       'full_time_employees', 'company_type', 'company_category',\n",
      "       'revenue_source', 'business_model'],\n",
      "      dtype='object', name=0)\n",
      "0          company_name                          url year_founded  \\\n",
      "0  3 Round Stones, Inc.      http://3RoundStones.com         2010   \n",
      "1     48 Factoring Inc.  https://www.48factoring.com         2014   \n",
      "2           5PSolutions          www.5psolutions.com         2007   \n",
      "3        Abt Associates                 abtassoc.com         1965   \n",
      "4                Accela        http://www.accela.com         1999   \n",
      "\n",
      "0           city state full_time_employees company_type  \\\n",
      "0     Washington    DC              10-Jan      Private   \n",
      "1   Philadelphia    PA              51-200      Private   \n",
      "2        Fairfax    VA              10-Jan      Private   \n",
      "3      Cambridge    MA         1,001-5,000      Private   \n",
      "4      San Ramon    CA           501-1,000      Private   \n",
      "\n",
      "0       company_category                                     revenue_source  \\\n",
      "0        Data/Technology  Data analysis for clients, Database licensing,...   \n",
      "1   Finance & Investment                                 Financial Services   \n",
      "2        Data/Technology  Subscriptions, User fees for web or mobile access   \n",
      "3  Research & Consulting      Data analysis for clients, Database licensing   \n",
      "4             Governance                            Not reported by company   \n",
      "\n",
      "0                                     business_model  \n",
      "0         Business to Business, Business to Consumer  \n",
      "1                               Business to Business  \n",
      "2  Business to Business, Business to Consumer, Bu...  \n",
      "3                                                NaN  \n",
      "4                               Business to Consumer  \n"
     ]
    }
   ],
   "source": [
    "df.columns = df.iloc[0]\n",
    "df.drop(axis = 0, index = 0, inplace = True)\n",
    "\n",
    "df.reset_index(drop = True, inplace = True)\n",
    "\n",
    "# drop url, zip_code\n",
    "df.drop(['zip_code', 'country'], axis = 1, inplace = True)\n",
    "print(df.columns)\n",
    "print(df.head())"
   ]
  },
  {
   "cell_type": "markdown",
   "metadata": {},
   "source": [
    "____"
   ]
  },
  {
   "cell_type": "code",
   "execution_count": 408,
   "metadata": {},
   "outputs": [
    {
     "name": "stdout",
     "output_type": "stream",
     "text": [
      "Checking the amount of NaN values per column\n",
      "\n",
      "The columns with few values will be fixed immediately, the ones with many values (>10) will be after.\n",
      "Checking column:  company_name\n",
      "0\n",
      "\n",
      "\n",
      "Checking column:  url\n",
      "0\n",
      "\n",
      "\n",
      "Checking column:  year_founded\n",
      "1\n",
      "\n",
      "\n",
      "Checking column:  city\n",
      "33\n",
      "\n",
      "\n",
      "Checking column:  state\n",
      "0\n",
      "\n",
      "\n",
      "Checking column:  full_time_employees\n",
      "29\n",
      "\n",
      "\n",
      "Checking column:  company_type\n",
      "16\n",
      "\n",
      "\n",
      "Checking column:  company_category\n",
      "3\n",
      "\n",
      "\n",
      "Checking column:  revenue_source\n",
      "10\n",
      "\n",
      "\n",
      "Checking column:  business_model\n",
      "76\n",
      "\n",
      "\n"
     ]
    }
   ],
   "source": [
    "print('Checking the amount of NaN values per column\\n')\n",
    "\n",
    "print('The columns with few values will be fixed immediately, the ones with many values (>10) will be after.')\n",
    "for col in df.columns:\n",
    "    print('Checking column: ', col)\n",
    "    print(df[col].isnull().sum(axis = 0))\n",
    "    print('\\n')"
   ]
  },
  {
   "cell_type": "code",
   "execution_count": 409,
   "metadata": {},
   "outputs": [
    {
     "name": "stdout",
     "output_type": "stream",
     "text": [
      "Getting value counts for each column\n",
      "\n",
      "Value counts:  company_name\n",
      "Rapid Cycle Solutions                  1\n",
      "PayScale, Inc.                         1\n",
      "Bridgewater                            1\n",
      "Knoema                                 1\n",
      "5PSolutions                            1\n",
      "ProPublica                             1\n",
      "Datamyne                               1\n",
      "SeeClickFix                            1\n",
      "Golden Helix                           1\n",
      "SigFig                                 1\n",
      "Boston Consulting Group                1\n",
      "Mozio                                  1\n",
      "DataMade                               1\n",
      "ReciPal                                1\n",
      "DataLogix                              1\n",
      "Connotate                              1\n",
      "MedWatcher                             1\n",
      "Revaluate                              1\n",
      "Altova                                 1\n",
      "(Leg)Cyte                              1\n",
      "Teradata                               1\n",
      "Yelp                                   1\n",
      "Ecodesk                                1\n",
      "Earthquake Alert!                      1\n",
      "Relationship Science                   1\n",
      "Enervee Corporation                    1\n",
      "Docket Alarm, Inc.                     1\n",
      "Dow Jones & Co.                        1\n",
      "Government Transaction Services        1\n",
      "Revelstone                             1\n",
      "                                      ..\n",
      "Telenav                                1\n",
      "Solar Census                           1\n",
      "Center for Responsive Politics         1\n",
      "Headlight                              1\n",
      "HealthMap                              1\n",
      "Fastcase                               1\n",
      "Accenture                              1\n",
      "AtSite                                 1\n",
      "First Fuel Software                    1\n",
      "Civic Impulse LLC                      1\n",
      "HelloWallet                            1\n",
      "Recargo                                1\n",
      "OnStar                                 1\n",
      "Tendril                                1\n",
      "McKinsey                               1\n",
      "Weather Channel                        1\n",
      "Iodine                                 1\n",
      "CB Insights                            1\n",
      "Experian                               1\n",
      "Geoscape                               1\n",
      "Lenddo                                 1\n",
      "Weight Watchers                        1\n",
      "YourMapper                             1\n",
      "Vizzuality                             1\n",
      "Nationwide Mutual Insurance Company    1\n",
      "CoolClimate                            1\n",
      "State Farm Insurance                   1\n",
      "Compared Care                          1\n",
      "Civic Insight                          1\n",
      "Adaptive                               1\n",
      "Name: company_name, Length: 529, dtype: int64\n",
      "\n",
      "\n",
      "Value counts:  url\n",
      "www.careset.com                                         2\n",
      "http://housefax.com/                                    1\n",
      "http://mhealthcoach.com                                 1\n",
      "www.navico.com                                          1\n",
      "https://www.hopstop.com/                                1\n",
      "http://cloudmade.com                                    1\n",
      "einstitutional.com                                      1\n",
      "http://www.randmcnally.com/                             1\n",
      "https://www.schwab.com                                  1\n",
      "www.collectiveip.com                                    1\n",
      "kimonolabs.com                                          1\n",
      "mapbox.com                                              1\n",
      "https://www.sigfig.com/                                 1\n",
      "www.atsiteinc.com                                       1\n",
      "www.rapidcyclesolutions.com                             1\n",
      "http://spothero.com/                                    1\n",
      "https://www.unigo.com/from-plusu.aspx                   1\n",
      "http://smartprocure.us/                                 1\n",
      "captricity.com                                          1\n",
      "www.crowdanalytix.com                                   1\n",
      "http://www.glassymedia.com/                             1\n",
      "http://www.marlinalter.com/                             1\n",
      "govtribe.com                                            1\n",
      "http://www.streamlinksoftware.com/                      1\n",
      "http://www.allianzusa.com                               1\n",
      "http://www.arpin.com                                    1\n",
      "http://www.quandl.com                                   1\n",
      "http://www.earth-observer.org/                          1\n",
      "http://amida-tech.com/index.html                        1\n",
      "http://www.municode.com                                 1\n",
      "                                                       ..\n",
      "http://acxiom.com                                       1\n",
      "http://www.osisoft.com                                  1\n",
      "https://www.firstpointresources.com/                    1\n",
      "http://www.jjkeller.com                                 1\n",
      "http://www.nextstepliving.com                           1\n",
      "farmlogs.com                                            1\n",
      "www.zebucompliance.com                                  1\n",
      "www.spotcrime.com                                       1\n",
      "http://www.informatica.com                              1\n",
      "http://www.zillow.com/                                  1\n",
      "http://www.statefarm.com/                               1\n",
      "https://revaluate.com/                                  1\n",
      "www.dataweave.com                                       1\n",
      "scienceexchange.com                                     1\n",
      "http://loseit.com                                       1\n",
      "http://www.spesohealth.com/                             1\n",
      "http://www.citigroup.com/citi/                          1\n",
      "http://www.usgreendata.com/                             1\n",
      "http://www.spikescavell.com/                            1\n",
      "http://www.cleanpowerfinance.com                        1\n",
      "www.CityScan.com                                        1\n",
      "xcential.com                                            1\n",
      "http://www.jpmorganchase.com/corporate/Home/home.htm    1\n",
      "http://www.dowjones.com                                 1\n",
      "http://www.wolfram.com/                                 1\n",
      "ez-xbrl.com                                             1\n",
      "http://codeforamerica.org                               1\n",
      "http://www.brightscope.com/                             1\n",
      "http://www.nationalvanlines.com                         1\n",
      "http://www.splunk.com/                                  1\n",
      "Name: url, Length: 528, dtype: int64\n",
      "\n",
      "\n",
      "Value counts:  year_founded\n",
      "2011    51\n",
      "2010    50\n",
      "2012    41\n",
      "2009    32\n",
      "2013    30\n",
      "2007    28\n",
      "2008    26\n",
      "2006    21\n",
      "2005    17\n",
      "2000    16\n",
      "2004    13\n",
      "2003    11\n",
      "1998    10\n",
      "2001    10\n",
      "1999    10\n",
      "2014     8\n",
      "1995     6\n",
      "2002     6\n",
      "1987     6\n",
      "1989     5\n",
      "1993     5\n",
      "1984     4\n",
      "1979     4\n",
      "1969     4\n",
      "1994     4\n",
      "1997     4\n",
      "1996     4\n",
      "1978     3\n",
      "1980     3\n",
      "1919     3\n",
      "        ..\n",
      "1986     1\n",
      "1896     1\n",
      "1864     1\n",
      "1885     1\n",
      "1856     1\n",
      "1841     1\n",
      "1899     1\n",
      "1981     1\n",
      "1909     1\n",
      "1836     1\n",
      "1931     1\n",
      "1905     1\n",
      "1962     1\n",
      "1972     1\n",
      "1891     1\n",
      "1941     1\n",
      "1907     1\n",
      "1868     1\n",
      "1961     1\n",
      "1966     1\n",
      "1895     1\n",
      "1860     1\n",
      "1953     1\n",
      "1950     1\n",
      "1876     1\n",
      "1845     1\n",
      "1967     1\n",
      "1971     1\n",
      "1913     1\n",
      "1963     1\n",
      "Name: year_founded, Length: 95, dtype: int64\n",
      "\n",
      "\n",
      "Value counts:  city\n",
      "New York                83\n",
      "San Francisco           45\n",
      "Boston                  21\n",
      "Washington              17\n",
      "Chicago                 17\n",
      "Seattle                 15\n",
      "Mountain View            8\n",
      "Cambridge                8\n",
      "Palo Alto                8\n",
      "Menlo Park               7\n",
      "Austin                   6\n",
      "Sunnyvale                6\n",
      "Atlanta                  6\n",
      "Denver                   5\n",
      "Baltimore                5\n",
      "Indianapolis             4\n",
      "Philadelphia             4\n",
      "Houston                  4\n",
      "Redwood City             4\n",
      "San Mateo                3\n",
      "Redmond                  3\n",
      "San Jose                 3\n",
      "Oakland                  3\n",
      "Berkeley                 3\n",
      "Washington DC            3\n",
      "Madison                  3\n",
      "Bellevue                 3\n",
      "Los Angeles              3\n",
      "Reston                   3\n",
      "Santa Monica             3\n",
      "                        ..\n",
      "Cincinnati               1\n",
      "Louisville               1\n",
      "Somerset                 1\n",
      "Ithaca                   1\n",
      "White River Junction     1\n",
      "Midlothian               1\n",
      "St. Paul                 1\n",
      "Fishers                  1\n",
      "San Ramon                1\n",
      "Encinitas                1\n",
      "Beverly                  1\n",
      "Deerfield Beach          1\n",
      "Friendswood              1\n",
      "Addison                  1\n",
      "Oakbrook Terrace         1\n",
      "New Haven                1\n",
      "Melville                 1\n",
      "Rockville                1\n",
      "Broadview                1\n",
      "Portsmouth               1\n",
      "Wyckoff                  1\n",
      "Vienna                   1\n",
      "Olathe                   1\n",
      "West Loop                1\n",
      "Hingham                  1\n",
      "Raleigh                  1\n",
      "Cedar City               1\n",
      "San Leandro              1\n",
      "Cary                     1\n",
      "Narberth                 1\n",
      "Name: city, Length: 202, dtype: int64\n",
      "\n",
      "\n",
      "Value counts:  state\n",
      "CA    132\n",
      "NY    106\n",
      "MA     42\n",
      "IL     26\n",
      "WA     25\n",
      "DC     25\n",
      "VA     22\n",
      "TX     17\n",
      "NJ     15\n",
      "MD     13\n",
      "CO     11\n",
      "PA     11\n",
      "CT      8\n",
      "IN      7\n",
      "GA      7\n",
      "FL      7\n",
      "OH      7\n",
      "MO      6\n",
      "NC      5\n",
      "MI      5\n",
      "WI      4\n",
      "TN      3\n",
      "MN      3\n",
      "AZ      3\n",
      "ME      2\n",
      "UT      2\n",
      "NH      2\n",
      "OR      2\n",
      "KY      1\n",
      "NV      1\n",
      "MT      1\n",
      "NE      1\n",
      "IA      1\n",
      "RI      1\n",
      "OK      1\n",
      "VT      1\n",
      "AL      1\n",
      "AR      1\n",
      "KA      1\n",
      "Name: state, dtype: int64\n",
      "\n",
      "\n",
      "Value counts:  full_time_employees\n",
      "10-Jan          143\n",
      "Nov-50          115\n",
      "51-200           93\n",
      "10,001+          56\n",
      "1,001-5,000      30\n",
      "201-500          25\n",
      "501-1,000        22\n",
      "5,001-10,000     16\n",
      "Name: full_time_employees, dtype: int64\n",
      "\n",
      "\n",
      "Value counts:  company_type\n",
      "Private                           396\n",
      "Public                             92\n",
      "Nonprofit                          15\n",
      "partnership                         4\n",
      "Partnership                         2\n",
      "sole proprietorship                 1\n",
      "nonprofit + commercial spinoff      1\n",
      "Permitting Assistance               1\n",
      "Public (Federal-USGS)               1\n",
      "Name: company_type, dtype: int64\n",
      "\n",
      "\n",
      "Value counts:  company_category\n",
      "Data/Technology              97\n",
      "Finance & Investment         75\n",
      "Business & Legal Services    44\n",
      "Governance                   43\n",
      "Healthcare                   40\n",
      "Geospatial/Mapping           30\n",
      "Energy                       28\n",
      "Transportation               28\n",
      "Research & Consulting        28\n",
      "Lifestyle & Consumer         25\n",
      "Housing/Real Estate          20\n",
      "Education                    19\n",
      "Scientific Research          17\n",
      "Insurance                    11\n",
      "Environment & Weather        11\n",
      "Food & Agriculture            6\n",
      "Data/Technology,              1\n",
      "Aerospace and Defense         1\n",
      "Media                         1\n",
      "Housing/Real Estate,          1\n",
      "Name: company_category, dtype: int64\n",
      "\n",
      "\n",
      "Value counts:  revenue_source\n",
      "Not reported by company                                                                                                                       284\n",
      "Software licensing                                                                                                                             21\n",
      "not reported by company                                                                                                                        18\n",
      "Data analysis for clients, Database licensing                                                                                                  17\n",
      "Not provided by company                                                                                                                        15\n",
      "Subscriptions                                                                                                                                  15\n",
      "Data analysis for clients, Database licensing, Subscriptions                                                                                   11\n",
      "Software licensing, Subscriptions                                                                                                               8\n",
      "Subscriptions, User fees for web or mobile access                                                                                               8\n",
      "Advertising                                                                                                                                     6\n",
      "Database licensing, Subscriptions                                                                                                               5\n",
      "Lead generation to other businesses                                                                                                             5\n",
      "Philanthropic grants                                                                                                                            4\n",
      "Database licensing                                                                                                                              3\n",
      "User fees for web or mobile access                                                                                                              3\n",
      "Lead generation to other businesses, Subscriptions                                                                                              3\n",
      "Data analysis for clients, Database licensing, Software licensing                                                                               3\n",
      "Advertising, Data analysis for clients, Database licensing, Subscriptions                                                                       3\n",
      "Data analysis for clients, Database licensing, Software licensing, Subscriptions, User fees for web or mobile access                            2\n",
      "Advertising, Lead generation to other businesses, Subscriptions                                                                                 2\n",
      "Consulting, Data analysis for clients, Database licensing, Software licensing                                                                   2\n",
      "Advertising, Lead generation to other businesses                                                                                                2\n",
      "Philanthropic grants, Subscriptions                                                                                                             2\n",
      "Advertising, Software licensing                                                                                                                 1\n",
      "Sale of hydrographic cartography                                                                                                                1\n",
      "Database licensing, Philanthropic grants, Software licensing, Subscriptions, User fees for web or mobile access                                 1\n",
      "Advertising, Data analysis for clients, Database licensing, Software licensing                                                                  1\n",
      "Data analysis for clients, Database licensing, Philanthropic grants, Software licensing, Subscriptions, User fees for web or mobile access      1\n",
      "Data analysis for clients, Database licensing, Software licensing, Information Brokering                                                        1\n",
      "Consulting, Data analysis for clients, Government contract                                                                                      1\n",
      "                                                                                                                                             ... \n",
      "Database licensing, Software licensing                                                                                                          1\n",
      "Data analysis for clients, Database licensing, Custom open source software development                                                          1\n",
      "Data analysis for clients, Database licensing, Online Marketplace                                                                               1\n",
      "Philanthropic grants, Not provided by company                                                                                                   1\n",
      "Philanthropic grants, User fees for web or mobile access                                                                                        1\n",
      "Data analysis for clients, Database licensing, Custom Development and Strategic Consulting                                                      1\n",
      "Software licensing, Subscriptions, partnerships                                                                                                 1\n",
      "Design consulting                                                                                                                               1\n",
      "Database licensing, Software licensing, Subscriptions                                                                                           1\n",
      "Consulting, Data analysis for clients, Lead generation to other businesses                                                                      1\n",
      "Data analysis for clients, Database licensing, Software licensing, Subscriptions                                                                1\n",
      "Lead generation to other businesses, Subscriptions, API                                                                                         1\n",
      "Subscriptions, Services                                                                                                                         1\n",
      "Advertising, Subscriptions, User fees for web or mobile access                                                                                  1\n",
      "Data analysis for clients, Database licensing, Subscriptions, Software Development Services, Open Source Software                               1\n",
      "Growing number of small businesses we are able to serve                                                                                         1\n",
      "Data analysis for clients, Database licensing, Open Data Portal Deployment                                                                      1\n",
      "Data analysis for clients, Database licensing, Web Design, Development                                                                          1\n",
      "Government contract, Software licensing, Subscriptions                                                                                          1\n",
      "Software licensing, Subscriptions, User fees for web or mobile access                                                                           1\n",
      "Membership fees, Subscriptions                                                                                                                  1\n",
      "Advertising, Data analysis for clients, Database licensing, Philanthropic grants, Software licensing, User fees for web or mobile access        1\n",
      "educational assessment, Data analysis for clients, Database licensing                                                                           1\n",
      "Customers                                                                                                                                       1\n",
      "IT and business hardware, software, and services                                                                                                1\n",
      "Advertising, Data analysis for clients, Database licensing, Software licensing, Subscriptions, User fees for web or mobile access               1\n",
      "Advertising, Lead generation to other businesses, Software licensing, User fees for web or mobile access, Feature upgrades within the app       1\n",
      "Data analysis for clients, Database licensing, User fees for web or mobile access                                                               1\n",
      "Advertising, User fees for web or mobile access                                                                                                 1\n",
      "Financial Services                                                                                                                              1\n",
      "Name: revenue_source, Length: 100, dtype: int64\n",
      "\n",
      "\n",
      "Value counts:  business_model\n",
      "Business to Business                                                            172\n",
      "Business to Consumer                                                            114\n",
      "Business to Business, Business to Consumer                                       63\n",
      "Business to Business, Business to Government                                     31\n",
      "Business to Business, Business to Consumer, Business to Government               19\n",
      "Business to Government                                                           12\n",
      "Business to Consumer, Business to Government                                      9\n",
      "Business to Government, nonprofit                                                 4\n",
      "Business to Business, academia                                                    4\n",
      "Business to Business, Business to Government, academia                            3\n",
      "nonprofit                                                                         3\n",
      "Business to Business, Business to Consumer, Business to Government, academia      2\n",
      "Business to Business, Business to Government, nonprofit                           2\n",
      "Business to Business, nonprofit                                                   2\n",
      "academia                                                                          1\n",
      "Business to Business, Business to Consumer, academia                              1\n",
      "Business to Government,                                                           1\n",
      "Business to Consumer, Business to Government, nonprofit                           1\n",
      "Business to Consumer, nonprofit                                                   1\n",
      "Business to Business, Business to Consumer,                                       1\n",
      "Business to Business, Business to Consumer, Business to Government,               1\n",
      "Business to Business, Business to Consumer, academia + nonprofit                  1\n",
      "Business to Government, academia + nonprofit                                      1\n",
      "Business to Business, Business to Government, academia + nonprofit                1\n",
      "Business to Business, Business to Consumer, nonprofit                             1\n",
      "Nonprofit                                                                         1\n",
      "Business to Government, Business to Nonprofit                                     1\n",
      "Name: business_model, dtype: int64\n",
      "\n",
      "\n"
     ]
    }
   ],
   "source": [
    "print('Getting value counts for each column\\n')\n",
    "for col in df.columns:\n",
    "    print('Value counts: ', col)\n",
    "    print(df[col].value_counts())\n",
    "    print('\\n')\n",
    "    "
   ]
  },
  {
   "cell_type": "code",
   "execution_count": 410,
   "metadata": {},
   "outputs": [
    {
     "name": "stdout",
     "output_type": "stream",
     "text": [
      "checking if all values are not spelled incorrectly\n",
      "\n",
      "Value counts:  company_name\n",
      "['3 Round Stones, Inc.' '48 Factoring Inc.' '5PSolutions' 'Abt Associates'\n",
      " 'Accela' 'Accenture' 'AccuWeather' 'Acxiom' 'Adaptive'\n",
      " 'Adobe Digital Government' 'Aidin' 'Alarm.com' 'Allianz'\n",
      " 'Allied Van Lines' 'AllState Insurance Group' 'Alltuition' 'Altova'\n",
      " 'Amazon Web Services' 'American Red Ball Movers'\n",
      " 'Amida Technology Solutions' 'Analytica' 'Apextech LLC' 'Appallicious'\n",
      " 'Aquicore' 'Archimedes Inc.' 'AreaVibes Inc.' 'Arpin Van Lines'\n",
      " 'Arrive Labs' 'ASC Partners' 'Asset4' 'Atlas Van Lines' 'AtSite'\n",
      " 'Aunt Bertha, Inc.' 'Aureus Sciences (*Now part of Elsevier)'\n",
      " 'AutoGrid Systems' 'Avalara' 'Avvo' 'Ayasdi' 'Azavea' 'BaleFire Global'\n",
      " 'Barchart' 'Be Informed' 'Bekins' 'Berkery Noyes MandASoft'\n",
      " 'Berkshire Hathaway' 'BetterLesson' 'BillGuard' 'Bing' 'Biovia' 'BizVizz'\n",
      " 'BlackRock' 'Bloomberg' 'Booz Allen Hamilton' 'Boston Consulting Group'\n",
      " 'Boundless' 'Bridgewater' 'Brightscope' 'BuildFax' 'Buildingeye'\n",
      " 'BuildZoom' 'Business and Legal Resources'\n",
      " 'Business Monitor International' 'Calcbench, Inc.'\n",
      " 'Cambridge Information Group' 'Cambridge Semantics' 'CAN Capital' 'Canon'\n",
      " 'Capital Cube' 'Cappex' 'Captricity' 'CareSet Systems' 'Careset.com'\n",
      " 'CARFAX' 'Caspio' 'Castle Biosciences' 'CB Insights' 'Ceiba Solutions'\n",
      " 'Center for Responsive Politics' 'Cerner' 'Certara' 'CGI'\n",
      " 'Charles River Associates' 'Charles Schwab Corp.'\n",
      " 'Chemical Abstracts Service' 'Child Care Desk' 'Chubb' 'Citigroup'\n",
      " 'CityScan' 'CitySourced' 'Civic Impulse LLC' 'Civic Insight' 'Civinomics'\n",
      " 'Civis Analytics' 'Clean Power Finance' 'ClearHealthCosts'\n",
      " 'ClearStory Data' 'Climate Corporation' 'CliniCast' 'Cloudmade'\n",
      " 'Cloudspyre' 'Code for America' 'Code-N' 'Collective IP'\n",
      " 'College Abacus, an ECMC initiative' 'College Board' 'Compared Care'\n",
      " 'Compendia Bioscience Life Technologies' 'Compliance and Risks'\n",
      " 'Computer Packages Inc' 'CONNECT-DOT LLC.' 'ConnectEDU' 'Connotate'\n",
      " 'Construction Monitor LLC' 'Consumer Reports' 'CoolClimate'\n",
      " 'Copyright Clearance Center' 'CoreLogic' 'CostQuest' 'Credit Karma'\n",
      " 'Credit Sesame' 'CrowdANALYTIX' 'Dabo Health' 'DataLogix' 'DataMade'\n",
      " 'DataMarket' 'Datamyne' 'DataWeave' 'Deloitte' 'DemystData'\n",
      " 'Department of Better Technology' 'Development Seed' 'Docket Alarm, Inc.'\n",
      " 'Dow Jones & Co.' 'Dun & Bradstreet' 'Earth Networks' 'EarthObserver App'\n",
      " 'Earthquake Alert!' 'Eat Shop Sleep' 'Ecodesk' 'eInstitutional' 'Embark'\n",
      " 'EMC' 'Energy Points, Inc.' 'Energy Solutions Forum'\n",
      " 'Enervee Corporation' 'Enigma.io' 'Ensco' 'Environmental Data Resources'\n",
      " 'Epsilon' 'Equal Pay for Women' 'Equifax' 'Equilar' 'Ernst & Young LLP'\n",
      " 'eScholar LLC.' 'Esri' 'Estately' 'Everyday Health' 'Evidera' 'Experian'\n",
      " 'Expert Health Data Programming, Inc.' 'Exversion' 'Ez-XBRL' 'Factset'\n",
      " 'Factual' 'Farmers' 'FarmLogs' 'Fastcase' 'Fidelity Investments'\n",
      " 'FindTheBest.com' 'First Fuel Software' 'FirstPoint, Inc.' 'Fitch'\n",
      " 'FlightAware' 'FlightStats' 'FlightView' 'Food+Tech Connect'\n",
      " 'Forrester Research' 'Foursquare' 'Fujitsu' 'Funding Circle'\n",
      " 'FutureAdvisor' 'Fuzion Apps, Inc.' 'Gallup' 'Galorath Incorporated'\n",
      " 'Garmin' 'Genability' 'GenoSpace' 'Geofeedia' 'Geolytics' 'Geoscape'\n",
      " 'GetRaised' 'GitHub' 'Glassy Media' 'Golden Helix' 'GoodGuide'\n",
      " 'Google Maps' 'Google Public Data Explorer'\n",
      " 'Government Transaction Services' 'Govini' 'GovTribe' 'Govzilla, Inc.'\n",
      " 'gRadiant Research LLC' 'Graebel Van Lines' 'Graematter, Inc.' 'Granicus'\n",
      " 'GreatSchools' 'GuideStar' 'H3 Biomedicine' 'Harris Corporation'\n",
      " 'HDScores, Inc' 'Headlight' 'Healthgrades' 'Healthline' 'HealthMap'\n",
      " 'HealthPocket, Inc.' 'HelloWallet' 'HERE' 'Honest Buildings' 'HopStop'\n",
      " 'Housefax' \"How's My Offer?\" 'IBM' 'ideas42' 'iFactor Consulting'\n",
      " 'IFI CLAIMS Patent Services' 'iMedicare' 'Impact Forecasting (Aon)'\n",
      " 'Impaq International' 'Import.io' 'IMS Health' 'InCadence' 'indoo.rs'\n",
      " 'InfoCommerce Group' 'Informatica' 'InnoCentive' 'Innography'\n",
      " 'Innovest Systems' 'Inovalon' 'Inrix Traffic' 'Intelius'\n",
      " 'Intermap Technologies' 'Investormill' 'Iodine' 'IPHIX' 'iRecycle'\n",
      " 'iTriage' 'IVES Group Inc' 'IW Financial' 'JJ Keller' 'J.P. Morgan Chase'\n",
      " 'Junar, Inc.' 'Junyo' 'Jurispect' 'Kaiser Permanante' 'karmadata'\n",
      " 'Keychain Logistics Corp.' 'KidAdmit, Inc.' 'Kimono Labs' 'KLD Research'\n",
      " 'Knoema' 'Knowledge Agency' 'KPMG' 'Kroll Bond Ratings Agency' 'Kyruus'\n",
      " 'Lawdragon' 'Legal Science Partners' '(Leg)Cyte' 'LegiNation, Inc.'\n",
      " 'LegiStorm' 'Lenddo' 'Lending Club' 'Level One Technologies' 'LexisNexis'\n",
      " 'Liberty Mutual Insurance Cos.' 'Lilly Open Innovation Drug Discovery'\n",
      " 'Liquid Robotics' 'Locavore' 'LOGIXDATA, LLC' 'LoopNet' 'Loqate, Inc.'\n",
      " 'LoseIt.com' 'LOVELAND Technologies' 'Lucid' 'Lumesis, Inc.'\n",
      " 'Mango Transit' 'Mapbox' 'Maponics' 'MapQuest' 'Marinexplore, Inc.'\n",
      " 'MarketSense' 'Marlin & Associates' 'Marlin Alter and Associates'\n",
      " 'McGraw Hill Financial' 'McKinsey' 'MedWatcher' 'Mercaris'\n",
      " 'Merrill Corp.' 'Merrill Lynch' 'MetLife' 'mHealthCoach'\n",
      " 'MicroBilt Corporation' 'Microsoft Windows Azure Marketplace' 'Mint'\n",
      " \"Moody's\" 'Morgan Stanley' 'Morningstar, Inc.' 'Mozio' 'MuckRock.com'\n",
      " 'Munetrix' 'Municode' 'National Van Lines'\n",
      " 'Nationwide Mutual Insurance Company' 'Nautilytics' 'Navico'\n",
      " 'NERA Economic Consulting' 'NerdWallet' 'New Media Parents'\n",
      " 'Next Step Living' 'NextBus' 'nGAP Incorporated' 'Nielsen' 'Noesis'\n",
      " 'NonprofitMetrics' 'North American Van Lines' 'Noveda Technologies'\n",
      " 'NuCivic' 'Numedii' 'Oliver Wyman' 'OnDeck' 'OnStar' 'Ontodia, Inc'\n",
      " 'Onvia' 'Open Data Nation' 'OpenCounter' 'OpenGov' 'OpenPlans'\n",
      " 'OpportunitySpace, Inc.' 'Optensity' 'optiGov' 'OptumInsight'\n",
      " 'Orlin Research' 'OSIsoft' 'OTC Markets' 'Outline' 'Oversight Systems'\n",
      " 'Overture Technologies' 'Owler' 'Palantir Technologies' 'Panjiva'\n",
      " 'Parsons Brinckerhoff' 'Patently-O' 'PatientsLikeMe' 'Pave' 'Paxata'\n",
      " 'PayScale, Inc.' 'PeerJ' 'People Power' 'Persint'\n",
      " 'Personal Democracy Media' 'Personal, Inc.' 'Personalis' \"Peterson's\"\n",
      " 'PEV4me.com' 'PIXIA Corp' 'PlaceILive.com' 'PlanetEcosystems' 'PlotWatt'\n",
      " 'Plus-U' 'PolicyMap' 'Politify' 'Poncho App' 'POPVOX' 'Porch'\n",
      " 'PossibilityU' 'PowerAdvocate' 'Practice Fusion' 'Predilytics'\n",
      " 'PricewaterhouseCoopers (PWC)' 'ProgrammableWeb'\n",
      " 'Progressive Insurance Group' 'Propeller Health' 'ProPublica'\n",
      " 'PublicEngines' 'PYA Analytics' 'Qado Energy, Inc.' 'Quandl' 'Quertle'\n",
      " 'Quid' 'R R Donnelley' 'RAND Corporation' 'Rand McNally' 'Rank and Filed'\n",
      " 'Ranku' 'Rapid Cycle Solutions' 'realtor.com' 'Recargo' 'ReciPal'\n",
      " 'Redfin' 'RedLaser' 'Reed Elsevier' 'REI Systems' 'Relationship Science'\n",
      " 'Remi' 'Retroficiency' 'Revaluate' 'Revelstone' 'Rezolve Group'\n",
      " 'Rivet Software' 'Roadify Transit' 'Robinson + Yu' 'Russell Investments'\n",
      " 'Sage Bionetworks' 'SAP' 'SAS' 'Scale Unlimited' 'Science Exchange'\n",
      " 'Seabourne' 'SeeClickFix' 'SigFig' 'Simple Energy' 'SimpleTuition'\n",
      " 'SlashDB' 'Smart Utility Systems' 'SmartAsset' 'SmartProcure'\n",
      " 'Smartronix' 'SnapSense' 'Social Explorer' 'Social Health Insights'\n",
      " 'SocialEffort Inc' 'Socrata' 'Solar Census' 'SolarList'\n",
      " 'Sophic Systems Alliance' 'S&P Capital IQ' 'SpaceCurve' 'SpeSo Health'\n",
      " 'Spikes Cavell Analytic Inc' 'Splunk' 'Spokeo' 'SpotCrime' 'SpotHero.com'\n",
      " 'Stamen Design' \"Standard and Poor's\" 'State Farm Insurance'\n",
      " 'Sterling Infosystems' 'Stevens Worldwide Van Lines'\n",
      " 'STILLWATER SUPERCOMPUTING INC' 'StockSmart' 'Stormpulse'\n",
      " 'StreamLink Software' 'StreetCred Software, Inc' 'StreetEasy' 'Suddath'\n",
      " 'Symcat' 'Synthicity' 'T. Rowe Price' 'Tableau Software' 'TagniFi'\n",
      " 'Telenav' 'Tendril' 'Teradata' 'The Advisory Board Company'\n",
      " 'The Bridgespan Group' 'The DocGraph Journal' 'The Govtech Fund'\n",
      " 'The Schork Report' 'The Vanguard Group' 'Think Computer Corporation'\n",
      " 'Thinknum' 'Thomson Reuters' 'TopCoder' 'TowerData' 'TransparaGov'\n",
      " 'TransUnion' 'TrialTrove' 'TrialX' 'Trintech' 'TrueCar' 'Trulia'\n",
      " 'TrustedID' 'TuvaLabs' 'Uber' 'Unigo LLC' 'United Mayflower'\n",
      " 'Urban Airship' 'Urban Mapping, Inc' 'US Green Data' 'U.S. News Schools'\n",
      " 'USAA Group' 'USSearch' 'Verdafero' 'Vimo' 'VisualDoD, LLC'\n",
      " 'Vital Axiom | Niinja' 'VitalChek' 'Vitals' 'Vizzuality' 'Votizen'\n",
      " 'Walk Score' 'WaterSmart Software' 'WattzOn' 'Way Better Patents'\n",
      " 'Weather Channel' 'Weather Decision Technologies' 'Weather Underground'\n",
      " 'WebFilings' 'Webitects' 'WebMD' 'Weight Watchers' 'WeMakeItSafer'\n",
      " 'Wheaton World Wide Moving' 'Whitby Group' 'Wolfram Research'\n",
      " 'Wolters Kluwer' 'Workhands' 'Xatori' 'Xcential' 'xDayta' 'Xignite'\n",
      " 'Yahoo' 'Zebu Compliance Solutions' 'Yelp' 'YourMapper' 'Zillow' 'ZocDoc'\n",
      " 'Zonability' 'Zoner' 'Zurich Insurance (Risk Room)']\n",
      "\n",
      "\n",
      "Value counts:  url\n",
      "['http://3RoundStones.com' 'https://www.48factoring.com'\n",
      " 'www.5psolutions.com' 'abtassoc.com' 'http://www.accela.com'\n",
      " 'http://www.accenture.com/us-en/pages/index.aspx'\n",
      " 'http://www.accuweather.com' 'http://acxiom.com'\n",
      " 'http://www.adaptive.com'\n",
      " 'http://www.adobe.com/solutions/government.html' 'http://www.myAidin.com'\n",
      " 'www.alarm.com' 'http://www.allianzusa.com' 'http://www.allied.com'\n",
      " 'http://www.allstate.com' 'https://www.alltuition.com'\n",
      " 'http://www.altova.com' 'http://aws.amazon.com' 'http://www.redball.com'\n",
      " 'http://amida-tech.com/index.html' 'http://www.analytica.net/'\n",
      " 'apextechllc.com' 'appallicious.com' 'http://www.aquicore.com/'\n",
      " 'http://archimedesmodel.com/' 'http://www.areavibes.com/'\n",
      " 'http://www.arpin.com' 'http://home.downloadarrive.com'\n",
      " 'http://www.asc-partners.com' 'asset4.com' 'http://www.atlasvanlines.com'\n",
      " 'www.atsiteinc.com' 'auntbertha.com' 'http://www.aureus-sciences.com'\n",
      " 'http://www.auto-grid.com' 'http://www.avalara.com' 'http://www.avvo.com'\n",
      " 'http://www.ayasdi.com/' 'azavea.com' 'http://balefireglobal.com'\n",
      " 'www.barchartmarketdata.com'\n",
      " 'http://www.beinformed.com/BeInformed/website/en?init=true'\n",
      " 'http://www.bekins.com' 'https://mandasoft.com/'\n",
      " 'http://www.berkshirehathaway.com' 'http://betterlesson.com'\n",
      " 'https://www.billguard.com' 'http://www.bing.com' 'http://accelrys.com'\n",
      " 'http://bizvizz.com' 'http://www.blackrock.com'\n",
      " 'http://www.bloomberg.com' 'http://www.boozallen.com'\n",
      " 'http://www.bcg.com' 'www.boundlessgeo.com' 'http://www.bwater.com'\n",
      " 'http://www.brightscope.com/' 'http://www.buildfax.com/'\n",
      " 'http://www.buildingeye.com' 'www.buildzoom.com' 'http://www.blr.com'\n",
      " 'www.businessmonitor.com' 'calcbench.com' 'http://www.cig.com'\n",
      " 'http://www.cambridgesemantics.com/home' 'http://www.cancapital.com/'\n",
      " 'http://www.canon.com' 'http://www.capitalcube.com' 'www.cappex.com'\n",
      " 'captricity.com' 'www.careset.com' 'http://www.carfax.com'\n",
      " 'http://www.caspio.com/' 'http://www.castlebiosciences.com'\n",
      " 'http://www.cbinsights.com/' 'http://www.ceibasolutions.com'\n",
      " 'www.opensecrets.org' 'http://www.cerner.com' 'http://www.certara.com'\n",
      " 'http://www.cgi.com/en' 'http://crai.com/' 'https://www.schwab.com'\n",
      " 'https://www.cas.org' 'http://childcaredesk.com' 'http://www.chubb.com'\n",
      " 'http://www.citigroup.com/citi/' 'www.CityScan.com'\n",
      " 'http://www.citysourced.com/' 'https://www.govtrack.us/civicimpulse'\n",
      " 'http://civicinsight.com' 'civinomics.com' 'http://civisanalytics.com/'\n",
      " 'http://www.cleanpowerfinance.com' 'clearhealthcosts.com'\n",
      " 'www.clearstorydata.com' 'http://www.climate.com' 'http://clinicast.net/'\n",
      " 'http://cloudmade.com' 'http://www.cloudspyre.com'\n",
      " 'http://codeforamerica.org' 'http://www.code-n.com'\n",
      " 'www.collectiveip.com' 'https://collegeabacus.org'\n",
      " 'http://www.collegeboard.org' 'comparedcare.com'\n",
      " 'http://www.lifetechnologies.com/us/en/home/life-science/cancer-research/cancer-genomics/compendia-bioscience-life-technologies.html'\n",
      " 'http://www.complianceandrisks.com' 'http://www.computerpackages.com/'\n",
      " 'http://conndot.com' 'http://www.connectedu.com'\n",
      " 'http://www.connotate.com' 'www.constructionmonitor.com'\n",
      " 'www.consumerreports.org' 'http://coolclimate.berkeley.edu'\n",
      " 'http://www.copyright.com' 'http://www.corelogic.com'\n",
      " 'http://www.costquest.com' 'https://www.creditkarma.com'\n",
      " 'creditsesame.com' 'www.crowdanalytix.com'\n",
      " 'https://www.dabohealth.com/#/' 'http://www.datalogix.com'\n",
      " 'http://datamade.us' 'datamarket.com' 'http://www.datamyne.com'\n",
      " 'www.dataweave.com' 'http://www.deloitte.com' 'http://demystdata.com'\n",
      " 'dobt.co' 'developmentseed.org' 'www.docketalarm.com'\n",
      " 'http://www.dowjones.com' 'http://www.dnb.com' 'www.earthnetworks.com'\n",
      " 'http://www.earth-observer.org/'\n",
      " 'https://play.google.com/store/apps/details?id=com.joshclemm.android.quake&hl=en'\n",
      " 'https://itunes.apple.com/us/app/eat-shop-sleep/id465262611'\n",
      " 'https://www.ecodesk.com' 'einstitutional.com' 'http://letsembark.com'\n",
      " 'http://www.emc.com/index.htm' 'http://energypoints.com/'\n",
      " 'energysolforum.com' 'http://enervee.com' 'enigma.io'\n",
      " 'http://www.enscoplc.com/Home/default.aspx' 'http://www.edrnet.com'\n",
      " 'http://www.epsilon.com' 'http://resources.alljobopenings.com/equality'\n",
      " 'http://www.equifax.com/home/en_us' 'http://www.equilar.com/'\n",
      " 'http://www.ey.com' 'http://www.escholar.com' 'esri.com'\n",
      " 'http://www.estately.com/' 'http://www.everydayhealth.com'\n",
      " 'http://www.evidera.com' 'http://www.experian.com' 'http://www.ehdp.com/'\n",
      " 'https://exversion.com' 'ez-xbrl.com' 'http://www.factset.com'\n",
      " 'http://www.factual.com' 'http://www.farmers.com' 'farmlogs.com'\n",
      " 'fastcase.com' 'https://www.fidelity.com' 'http://www.findthebest.com'\n",
      " 'http://firstfuel.com' 'https://www.firstpointresources.com/'\n",
      " 'https://www.fitchratings.com/web/en/dynamic/fitch-home.jsp'\n",
      " 'http://www.flightaware.com/' 'http://www.flightstats.com/'\n",
      " 'http://www.flightview.com/' 'http://www.foodtechconnect.com'\n",
      " 'http://www.forrester.com' 'https://foursquare.com'\n",
      " 'http://www.fujitsu.com/us/' 'https://www.fundingcircle.com'\n",
      " 'https://www.futureadvisor.com' 'www.fuzionapps.com'\n",
      " 'http://www.gallup.com' 'www.galorath.com' 'http://www.garmin.com/en-US'\n",
      " 'http://genability.com' 'https://www.genospace.com'\n",
      " 'http://geofeedia.com/' 'http://www.geolytics.com' 'www.geoscape.com'\n",
      " 'https://getraised.com' 'https://github.com'\n",
      " 'http://www.glassymedia.com/' 'http://www.goldenhelix.com/'\n",
      " 'http://www.goodguide.com' 'https://www.google.com/maps/about/explore/'\n",
      " 'https://www.google.com/intl/en/about/' 'http://www.ezgrantfiling.com'\n",
      " 'http://www.govini.com' 'govtribe.com' 'fdazilla.com'\n",
      " 'gradiant-research.com' 'http://www.graebelmoving.com'\n",
      " 'www.graematter.com' 'http://www.granicus.com' 'greatschools.org'\n",
      " 'http://www.guidestar.org' 'http://www.h3biomedicine.com'\n",
      " 'www.harris.com' 'http://hdscores.com' 'HeadlightData.com'\n",
      " 'http://www.healthgrades.com/' 'http://www.healthline.com'\n",
      " 'http://healthmap.org/' 'http://www.healthpocket.com'\n",
      " 'http://www.hellowallet.com/' 'http://here.com'\n",
      " 'https://www.honestbuildings.com' 'https://www.hopstop.com/'\n",
      " 'http://housefax.com/' 'http://hmo.launchrock.com/' 'www.ibm.com'\n",
      " 'ideas42.org' 'http://www.ifactorconsulting.com' 'www.ificlaims.com'\n",
      " 'http://imedicare.com'\n",
      " 'http://www.aon.com/impactforecasting/impact-forecasting.jsp'\n",
      " 'http://www.impaqint.com' 'http://import.io'\n",
      " 'http://www.imshealth.com/portal/site/imshealth' 'http://incadence.com'\n",
      " 'http://indoo.rs/' 'http://infocommercegroup.com'\n",
      " 'http://www.informatica.com' 'http://www.innocentive.com'\n",
      " 'http://www.innography.com' 'http://www.innovestsystems.com'\n",
      " 'http://www.inovalon.com/pages/default.aspx'\n",
      " 'http://www.inrixtraffic.com' 'http://corp.intelius.com/'\n",
      " 'www.intermap.com' 'www.investormill.com' 'www.iodine.com' 'iphix.net'\n",
      " 'http://earth911.com/irecycle/' 'itriagehealth.com'\n",
      " 'http://auditanalytics.com/' 'http://info.iwfinancial.com'\n",
      " 'http://www.jjkeller.com'\n",
      " 'http://www.jpmorganchase.com/corporate/Home/home.htm' 'www.Junar.com'\n",
      " 'http://junyo.com' 'jurispect.com'\n",
      " 'https://healthy.kaiserpermanente.org/html/kaiser/index.shtml'\n",
      " 'www.karmadata.com' 'www.keychainlogistics.com' 'www.kidadmit.com'\n",
      " 'kimonolabs.com' 'http://www.msci.com/products/esg/#'\n",
      " 'http://knoema.com/' 'http://www.knowledgeagency.com/'\n",
      " 'http://www.kpmg.com' 'https://www.krollbondratings.com/'\n",
      " 'http://kyruus.com' 'lawdragon.com' 'www.legalsciencepartners.net'\n",
      " 'http://www.legcyte.com' 'http://www.billtrack50.com/'\n",
      " 'http://www.legistorm.com/'\n",
      " 'https://www.lenddo.com/pages/what_is_lenddo/office'\n",
      " 'https://www.lendingclub.com' 'http://www.levelonetechnologies.com'\n",
      " 'http://www.lexisnexis.com/en-us/home.page'\n",
      " 'http://www.libertymutual.com' 'https://openinnovation.lilly.com/dd/'\n",
      " 'http://liquidr.com' 'http://www.getlocavore.com' 'www.logixdata.com'\n",
      " 'http://www.loopnet.com' 'www.loqate.com' 'http://loseit.com'\n",
      " 'www.makeloveland.com' 'http://www.luciddesigngroup.com'\n",
      " 'www.lumesis.com'\n",
      " 'http://www.windowsphone.com/en-us/store/app/mango-transit/34083d75-dca6-4631-99be-4f9a3813dd73'\n",
      " 'mapbox.com' 'http://www.maponics.com/' 'http://www.mapquest.com'\n",
      " 'www.marinexplore.com' 'http://www.marketsense.com/'\n",
      " 'http://www.marlinllc.com' 'http://www.marlinalter.com/'\n",
      " 'http://www.mhfi.com' 'http://www.mckinsey.com'\n",
      " 'http://www.medwatcher.org' 'http://www.mercaris.com/'\n",
      " 'http://www.merrillcorp.com' 'http://www.ml.com/index.asp?id=7695_15125'\n",
      " 'https://www.metlife.com' 'http://mhealthcoach.com'\n",
      " 'http://www.microbilt.com/' 'http://datamarket.azure.com'\n",
      " 'https://www.mint.com' 'https://www.moodys.com'\n",
      " 'http://www.morganstanley.com' 'http://www.morningstar.com'\n",
      " 'http://www.mozio.com/' 'https://www.muckrock.com' 'www.munetrix.com'\n",
      " 'http://www.municode.com' 'http://www.nationalvanlines.com'\n",
      " 'http://www.nationwide.com' 'http://www.nautilytics.com' 'www.navico.com'\n",
      " 'http://www.nera.com/' 'http://www.nerdwallet.com' 'http://mommaps.com/'\n",
      " 'http://www.nextstepliving.com' 'http://www.nextbus.com' 'ngap.com'\n",
      " 'http://www.nielsen.com/us/en.html' 'https://www.noesisenergy.com/site/'\n",
      " 'https://www.nonprofitmetrics.com' 'http://northamericanvanlines.com'\n",
      " 'www.noveda.com' 'http://www.nucivic.com' 'http://numedii.com'\n",
      " 'http://www.oliverwyman.com/index.html' 'www.ondeck.com'\n",
      " 'https://www.onstar.com/web/portal/home?g=1' 'ontodia.com'\n",
      " 'http://www.onvia.com' 'www.opendatanation.com' 'http://opencounter.us'\n",
      " 'http://opengov.com' 'http://openplans.org' 'opportunityspace.org'\n",
      " 'http://www.optensity.com' 'optigov.com' 'http://www.optuminsight.com'\n",
      " 'http://www.orlinresearch.com' 'http://www.osisoft.com'\n",
      " 'http://www.otcmarkets.com/home' 'http://outline.com'\n",
      " 'http://www.oversightsystems.com' 'http://www.overturecorp.com/'\n",
      " 'owler.com' 'https://www.palantir.com' 'www.panjiva.com'\n",
      " 'www.pbworld.com' 'www.patentlyo.com' 'http://www.patientslikeme.com'\n",
      " 'http://www.pave.com' 'www.paxata.com' 'http://www.payscale.com'\n",
      " 'https://peerj.com' 'http://www.peoplepowerco.com/'\n",
      " 'http://www.persint.com/' 'http://personaldemocracy.com' 'personal.com'\n",
      " 'http://www.personalis.com' 'www.corporate.petersons.com'\n",
      " 'http://www.pev4me.com' 'www.pixia.com' 'www.placeilive.com'\n",
      " 'http://planetecosystems.com' 'https://plotwatt.com'\n",
      " 'https://www.unigo.com/from-plusu.aspx' 'policymap.com'\n",
      " 'http://www.politify.us' 'http://poncho.is/' 'popvox.com' 'porch.com'\n",
      " 'http://www.possibilityu.com/' 'http://www.poweradvocate.com/index.html'\n",
      " 'http://www.practicefusion.com' 'http://www.predilytics.com'\n",
      " 'http://www.pwc.com/us/en/index.jhtml' 'http://www.programmableweb.com'\n",
      " 'http://www.progressive.com' 'http://propellerhealth.com'\n",
      " 'http://www.propublica.org/' 'http://www.publicengines.com/'\n",
      " 'www.pyaanalytics.com' 'www.qadoenergy.com' 'http://www.quandl.com'\n",
      " 'quertle.com' 'http://quid.com' 'http://www.rrdonnelley.com'\n",
      " 'http://www.rand.org' 'http://www.randmcnally.com/'\n",
      " 'http://rankandfiled.com/' 'http://goranku.com'\n",
      " 'www.rapidcyclesolutions.com' 'http://www.realtor.com/'\n",
      " 'http://www.recargo.com' 'https://www.recipal.com/'\n",
      " 'http://www.redfin.com' 'http://redlaser.com'\n",
      " 'http://www.reedelsevier.com/Pages/Home.aspx' 'www.reisystems.com'\n",
      " 'https://www.relsci.com' 'www.remi.com' 'http://www.retroficiency.com'\n",
      " 'https://revaluate.com/' 'http://www.revelstonelabs.com'\n",
      " 'http://www.rezolvegroup.com' 'http://rivetsoftware.com'\n",
      " 'www.roadify.com' 'http://www.robinsonyu.com'\n",
      " 'http://www.russell.com/indexes/' 'http://sagebase.org'\n",
      " 'http://www.sap.com/' 'http://www.sas.com/'\n",
      " 'http://www.scaleunlimited.com/' 'scienceexchange.com'\n",
      " 'www.seabourneinc.com' 'en.seeclickfix.com' 'https://www.sigfig.com/'\n",
      " 'http://simpleenergy.com' 'http://www.simpletuition.com/'\n",
      " 'http://www.slashdb.com/' 'http://smartusys.com/' 'smartasset.com'\n",
      " 'http://smartprocure.us/' 'http://smartronix.com/' 'www.snapsense.co'\n",
      " 'http://www.socialexplorer.com/' 'http://socialhealthinsights.com/'\n",
      " 'http://socialeffort.co/' 'www.socrata.com' 'http://www.solarcensus.com'\n",
      " 'solarlist.com' 'http://www.sophicalliance.com'\n",
      " 'https://www.capitaliq.com' 'www.spacecurve.com'\n",
      " 'http://www.spesohealth.com/' 'http://www.spikescavell.com/'\n",
      " 'http://www.splunk.com/' 'http://www.spokeo.com/' 'www.spotcrime.com'\n",
      " 'http://spothero.com/' 'http://stamen.com/'\n",
      " 'http://www.standardandpoors.com/en_US/web/guest/home'\n",
      " 'http://www.statefarm.com/' 'http://www.sterlinginfosystems.com/'\n",
      " 'http://www.stevensworldwide.com/' 'http://www.stillwater-sc.com'\n",
      " 'http://www.stocksmart.com' 'http://stormpulse.com/'\n",
      " 'http://www.streamlinksoftware.com/' 'streetcredsoftware.com'\n",
      " 'http://streeteasy.com/' 'http://www.suddath.com/'\n",
      " 'http://www.symcat.com/' 'http://www.synthicity.com/'\n",
      " 'http://www.troweprice.com' 'http://www.tableausoftware.com/'\n",
      " 'tagnifi.com' 'http://www.telenav.com/' 'http://www.tendrilinc.com/'\n",
      " 'http://www.teradata.com/' 'http://www.advisory.com/'\n",
      " 'http://www.bridgespan.org/' 'http://docgraph.org/' 'www.govtechfund.com'\n",
      " 'schorkreport.com' 'http://www.vanguard.com/' 'thinkcomputer.com'\n",
      " 'http://www.thinknum.com/' 'http://thomsonreuters.com/'\n",
      " 'http://www.topcoder.com/' 'http://intelligence.towerdata.com/'\n",
      " 'http://www.TransparaGov.com/' 'http://www.transunion.com/'\n",
      " 'http://www.citeline.com/products/trialtrove/' 'http://trialx.com/'\n",
      " 'http://www.trintech.com/' 'http://www.truecar.com/' 'trulia.com'\n",
      " 'https://www.trustedid.com/' 'https://www.tuvalabs.com/'\n",
      " 'https://www.uber.com/' 'www.unigo.com' 'http://www.unitedmayflower.com/'\n",
      " 'http://urbanairship.com/' 'http://www.urbanmapping.com/'\n",
      " 'http://www.usgreendata.com/' 'http://www.usnews.com/'\n",
      " 'https://www.usaa.com' 'http://www.ussearch.com/' 'www.verdafero.com'\n",
      " 'www.vimo.com' 'www.visualdod.com' 'niinja.co'\n",
      " 'https://www.vitalchek.com/' 'http://www.vitals.com/' 'vizzuality.com'\n",
      " 'www.votizen.com' 'www.walkscore.com'\n",
      " 'http://www.watersmartsoftware.com/' 'http://www.wattzon.com/'\n",
      " 'http://waybetterpatents.com/' 'http://www.weather.com/'\n",
      " 'http://www.wdtinc.com/' 'http://www.wunderground.com/'\n",
      " 'https://www.webfilings.com/' 'webitects.com' 'http://www.webmd.com/'\n",
      " 'http://www.weightwatchers.com/' 'http://wemakeitsafer.com/'\n",
      " 'http://www.wheatonworldwide.com/' 'http://www.whitbygroup.com'\n",
      " 'http://www.wolfram.com/' 'http://www.wolterskluwer.com/'\n",
      " 'https://www.workhands.us/' 'http://www.xatori.com/' 'xcential.com'\n",
      " 'http://www.xdayta.com' 'http://www.xignite.com/' 'http://www.yahoo.com/'\n",
      " 'www.zebucompliance.com' 'http://www.yelp.com/'\n",
      " 'http://www.yourmapper.com' 'http://www.zillow.com/'\n",
      " 'http://www.zocdoc.com/' 'http://www.zonability.com/' 'www.Zonerapp.com'\n",
      " 'http://www.zurichna.com/']\n",
      "\n",
      "\n",
      "Value counts:  year_founded\n",
      "['2010' '2014' '2007' '1965' '1999' '1989' '1962' '1969' '2001' '2009'\n",
      " '2011' '2000' '1896' '1928' '1931' '1992' '1919' '2013' '2003' '2006'\n",
      " '1900' '1948' '1993' '2004' '2008' '1995' '1891' '1998' '1988' '1982'\n",
      " '1914' '1963' '1975' '1977' '1984' '2012' '1971' '1937' '1983' '1979'\n",
      " '1976' '1973' '1907' '1882' '1812' '1994' '1968' '2002' '1936' '1978'\n",
      " '1990' '1845' '1841' '1987' '1899' '1997' '1980' '1946' '1941' '1913'\n",
      " '2005' '1981' '1935' '1996' '1950' '1895' '1912' '1955' '1954' '1953'\n",
      " '1799' '1945' '1876' '1967' nan '1926' '1868' '1909' '1951' '1901' '1961'\n",
      " '1964' '1986' '1933' '2015' '1885' '1966' '1864' '1856' '1880' '1972'\n",
      " '1860' '1922' '1905' '1960' '1836']\n",
      "\n",
      "\n",
      "Value counts:  city\n",
      "['Washington' ' Philadelphia' 'Fairfax' 'Cambridge' 'San Ramon' 'Chicago'\n",
      " 'State College' 'Little Rock' 'Irvine' 'San Jose' 'New York'\n",
      " 'Leesburg Pike Vienna' 'Oakbrook Terrace' 'Northbrook' 'Beverly'\n",
      " 'Seattle' 'Indianapolis' 'Washington DC' 'Arlington' 'San Francisco' nan\n",
      " 'West Warwick' 'Boston' 'Evansville' 'Washington, D.C.' 'Austin'\n",
      " 'Philadelphia' 'Redwood Shores' 'Bainbridge Island' 'Menlo Park'\n",
      " 'Raleigh' 'Omaha' 'Redmond' 'San Diego' 'Milwaukee' 'Atlanta' 'McLean'\n",
      " 'Westport' 'Palo Alto' 'Brentwood' 'Melville' 'Williamsville' 'Berkeley'\n",
      " 'Houston' 'Centreville' 'Santa Clara' 'Friendswood' 'North Kansas City'\n",
      " 'St Louis' 'Columbus' 'Warren' 'Log Angeles' 'Santa Cruz' 'West Loop'\n",
      " 'New York City' 'Millbrae' 'Bristow' 'Denver' 'Baltimore' 'Ann Arbor'\n",
      " 'Oregon House' 'Rockville' 'Fair Lawn' 'New Brunswick' 'Cedar City'\n",
      " 'Yonkers' 'Danvers' 'Cincinnati' 'Mountain View' 'Campbell' 'Westminster'\n",
      " 'Miami' 'Short Hills' 'Germantown' 'Reston' 'Ridgefield' 'Cupertino'\n",
      " 'Hopkinton' 'Santa Monica' 'Falls Church' 'Milford' 'Plano' 'Midlothian'\n",
      " 'Redwood City' 'White Plains' 'Redlands' 'Bethesda' 'Costa Mesa'\n",
      " 'Bellevue' 'Manassas' 'Norwalk' 'Los Angeles' 'Santa Barbara' 'Lexington'\n",
      " 'Greensboro' 'Portland' 'Newton' 'Sunnyvale' 'Sugar Land' 'El Segundo'\n",
      " 'Olathe' 'Branchburg' 'Bozeman' 'Vienna' 'Yorkville' 'Concord' 'Aurora'\n",
      " 'St. Louis' 'Melbourne' 'Denver, CO' 'Armonk' 'Tempe' 'Madison'\n",
      " 'Columbia' 'Danbury' 'Bala Cynwyd' 'Waltham' 'Bowie' 'Kirkland'\n",
      " 'Englewood' 'Scotsdale' 'Sutton' 'Neenah' 'McKinney' 'Oakland' 'Hingham'\n",
      " 'Narberth' 'Maryland Heights' 'Sacramento' 'San Mateo' 'Detroit'\n",
      " 'Stamford' 'White River Junction' 'Sammamish' 'Boston, MA'\n",
      " 'Silver Spring' 'St. Paul' 'Kennesaw' 'Auburn Hills' 'Tallahassee'\n",
      " 'Broadview' 'Nashua' 'Emeryville' 'Bonsall' 'Fort Wayne' 'Eden Prairie'\n",
      " 'San Leandro' 'Somerset' 'Corte Madera' 'Paramus' 'Vilnius' 'Durham'\n",
      " 'Manchester' 'Mayfield Village' 'Draper' 'Knoxville' 'Summit' 'Henderson'\n",
      " 'Skokie' 'Nokesville' 'Venice' 'Sterling' 'Amherst' 'Parsippany'\n",
      " 'Newtown Square' 'Cary' 'New Haven' 'Boulder' 'Jersey City' 'Chino Hills'\n",
      " 'Deerfield Beach' 'Hollywood' 'Fishers' 'Brooklyn' 'East Falmouth'\n",
      " 'Herndon' 'Pasadena' 'Bloomington' 'Wyckoff' 'El Dorado Hills'\n",
      " 'Cleveland' 'Southlake' 'Wayne' 'Berkely' 'Tampa' 'Dayton' 'Villanova'\n",
      " 'Valley Forge' 'Addison' 'San Antonio' 'Lyndhurst' 'Oakton' 'Norman'\n",
      " 'Ames' 'Jericho' 'Ithaca' 'Champaign' 'Minneapolis' 'Encinitas' 'Phoenix'\n",
      " 'Portsmouth' 'Louisville' 'Schaumburg']\n",
      "\n",
      "\n",
      "Value counts:  state\n",
      "['DC' 'PA' 'VA' 'MA' 'CA' 'IL' 'AR' 'NY' 'WA' 'IN' 'RI' 'TX' 'NC' 'NE'\n",
      " 'WI' 'GA' 'CT' 'TN' 'MO' 'OH' 'NJ' 'CO' 'MD' 'MI' 'UT' 'FL' 'OR' 'KA'\n",
      " 'MT' 'AZ' 'ME' 'VT' 'MN' 'NH' 'AL' 'NV' 'OK' 'IA' 'KY']\n",
      "\n",
      "\n",
      "Value counts:  full_time_employees\n",
      "['10-Jan' '51-200' '1,001-5,000' '501-1,000' '10,001+' '201-500'\n",
      " '5,001-10,000' 'Nov-50' nan]\n",
      "\n",
      "\n",
      "Value counts:  company_type\n",
      "['Private' 'Public' 'partnership' 'Nonprofit' nan 'Public (Federal-USGS)'\n",
      " 'nonprofit + commercial spinoff' 'Partnership' 'Permitting Assistance'\n",
      " 'sole proprietorship']\n",
      "\n",
      "\n",
      "Value counts:  company_category\n",
      "['Data/Technology' 'Finance & Investment' 'Research & Consulting'\n",
      " 'Governance' nan 'Environment & Weather' 'Business & Legal Services'\n",
      " 'Healthcare' 'Lifestyle & Consumer' 'Transportation' 'Insurance'\n",
      " 'Education' 'Energy' 'Scientific Research' 'Geospatial/Mapping'\n",
      " 'Housing/Real Estate' 'Food & Agriculture' 'Data/Technology,' 'Media'\n",
      " 'Housing/Real Estate,' 'Aerospace and Defense']\n",
      "\n",
      "\n",
      "Value counts:  revenue_source\n",
      "['Data analysis for clients, Database licensing, Subscriptions'\n",
      " 'Financial Services' 'Subscriptions, User fees for web or mobile access'\n",
      " 'Data analysis for clients, Database licensing' 'Not reported by company'\n",
      " 'Subscriptions' nan\n",
      " 'Data analysis for clients, Database licensing, Software licensing, Information Brokering'\n",
      " 'Software licensing' 'not reported by company' 'Customers'\n",
      " 'Software licensing, Subscriptions'\n",
      " 'Data analysis for clients, Database licensing, Subscriptions, Software Development Services, Open Source Software'\n",
      " 'Data analysis for clients, Database licensing, Open Data Portal Deployment'\n",
      " 'Advertising, Data analysis for clients, Database licensing, Software licensing, Subscriptions, User fees for web or mobile access'\n",
      " 'Not provided by company' 'User fees for web or mobile access'\n",
      " 'Data analysis for clients, Database licensing, Subscriptions, User fees for web or mobile access'\n",
      " 'Data analysis for clients, Database licensing, Software licensing, Subscriptions, User fees for web or mobile access'\n",
      " 'Advertising, Lead generation to other businesses'\n",
      " 'Financial Products and Services'\n",
      " 'Subscriptions, User fees for web or mobile access, Monthly and Annual Subscriptions, Pay as You Go, Professional Services'\n",
      " 'Data analysis for clients, Software licensing, Subscriptions'\n",
      " 'Data analysis for clients, Software licensing'\n",
      " 'Lead generation to other businesses, Subscriptions, API' 'Advertising'\n",
      " 'Lead generation to other businesses'\n",
      " 'Software licensing, Transaction fees across our platform'\n",
      " 'Advertising, Data analysis for clients, Database licensing, Philanthropic grants, Software licensing, User fees for web or mobile access'\n",
      " 'Consulting, App Sales' 'Philanthropic grants'\n",
      " 'No revenue; this is an ECMC non-profit initiative.'\n",
      " 'educational assessment, Data analysis for clients, Database licensing'\n",
      " 'Advertising, Lead generation to other businesses, Subscriptions'\n",
      " 'Database licensing, Software licensing, Subscriptions'\n",
      " 'Consulting, Data analysis for clients, Lead generation to other businesses'\n",
      " 'Database licensing, Subscriptions' 'Subscriptions, Philanthropic grants'\n",
      " 'Data analysis for clients, Database licensing, User fees for web or mobile access'\n",
      " 'Data analysis for clients, Database licensing, Custom open source software development'\n",
      " 'Membership fees, Subscriptions'\n",
      " 'Subscriptions, Credit Risk and Business Insight, Lead generation to other businesses, Data analysis for clients, Database licensing'\n",
      " 'Advertising, Data analysis for clients, Database licensing, Lead generation to other businesses, Software licensing'\n",
      " 'Subscriptions, API Licenses' 'Subscriptions, Software licensing'\n",
      " 'Advertising, Data analysis for clients, Database licensing, Subscriptions'\n",
      " 'ICT Product and Services, Software licensing, Data analysis for clients, Database licensing'\n",
      " 'Advertising, Lead generation to other businesses, Software licensing, User fees for web or mobile access, Feature upgrades within the app'\n",
      " 'Advertising, Subscriptions, Data analysis for clients, Database licensing'\n",
      " 'IP licensing' 'Subscriptions, Services'\n",
      " 'Advertising, Philanthropic grants'\n",
      " 'Data analysis for clients, Database licensing, Philanthropic grants, Software licensing, Subscriptions, User fees for web or mobile access'\n",
      " 'Government & Defense, Data analysis for clients, Database licensing'\n",
      " 'Government contract, Software licensing, Subscriptions'\n",
      " 'IT and business hardware, software, and services'\n",
      " 'Database licensing, sell data sets'\n",
      " 'Software licensing, Consulting Services'\n",
      " 'Lead generation to other businesses, Subscriptions'\n",
      " 'Data analysis for clients, Database licensing, Online Marketplace'\n",
      " 'No revenue, investors'\n",
      " 'Data analysis for clients, Database licensing, Software licensing'\n",
      " 'Software licensing, Subscriptions, User fees for web or mobile access'\n",
      " 'Subscriptions, Special Projects'\n",
      " 'Subscriptions, Software licensing, Data analysis for clients, Database licensing'\n",
      " 'Database licensing, Philanthropic grants, Software licensing, Subscriptions, User fees for web or mobile access'\n",
      " 'Data analysis for clients, Database licensing, Database licensing'\n",
      " 'Database licensing, Software licensing'\n",
      " 'Sale of hydrographic cartography'\n",
      " 'Advertising, User fees for web or mobile access'\n",
      " 'Growing number of small businesses we are able to serve'\n",
      " 'Consulting, Data analysis for clients, Government contract, Lead generation to other businesses, Philanthropic grants, Software licensing, Subscriptions, User fees for web or mobile access'\n",
      " 'Philanthropic grants, Not provided by company'\n",
      " 'Advertising, Subscriptions, User fees for web or mobile access'\n",
      " 'Database licensing' 'Consulting'\n",
      " 'Philanthropic grants, User fees for web or mobile access'\n",
      " 'Publication fees'\n",
      " 'Advertising, Philanthropic grants, Subscriptions, User fees for web or mobile access'\n",
      " 'Advertising, Data analysis for clients, Database licensing, Software licensing'\n",
      " 'Venture Capital' 'Philanthropic grants, Subscriptions' 'Media'\n",
      " 'Consulting, Data analysis for clients, Government contract'\n",
      " 'IT related consulting services' 'Brokerage Fees'\n",
      " 'Storage, provenance, version control, and collaboration on open biological data.'\n",
      " 'Advertising, Software licensing'\n",
      " 'Consulting, Data analysis for clients, Database licensing, Software licensing'\n",
      " 'Software licensing, Subscriptions, partnerships'\n",
      " 'Data analysis for clients, Database licensing, Custom Development and Strategic Consulting'\n",
      " 'Subscriptions, Data analysis for clients, Database licensing'\n",
      " 'Software licensing, Subscriptions, Advisory services'\n",
      " 'Advertising, Database licensing, Subscriptions'\n",
      " 'Data analysis for clients, Database licensing, Software licensing, Subscriptions'\n",
      " 'Subscriptions, Custom Reports and Analysis'\n",
      " 'Data analysis for clients, Database licensing, Web Design, Development'\n",
      " 'Design consulting' 'Other'\n",
      " 'Lead generation to other businesses, User fees for web or mobile access, Marketplace Broker Fees'\n",
      " 'Advertising, Data analysis for clients, Database licensing, Software licensing, Subscriptions, API']\n",
      "\n",
      "\n",
      "Value counts:  business_model\n",
      "['Business to Business, Business to Consumer' 'Business to Business'\n",
      " 'Business to Business, Business to Consumer, Business to Government' nan\n",
      " 'Business to Consumer' 'Business to Government'\n",
      " 'Business to Business, Business to Government'\n",
      " 'Business to Business, Business to Government, academia'\n",
      " 'Business to Consumer, Business to Government'\n",
      " 'Business to Business, Business to Consumer, ' 'nonprofit' 'Nonprofit'\n",
      " 'Business to Business, Business to Government, nonprofit'\n",
      " 'Business to Business, academia'\n",
      " 'Business to Business, Business to Consumer, Business to Government, '\n",
      " 'Business to Government, Business to Nonprofit'\n",
      " 'Business to Business, nonprofit'\n",
      " 'Business to Consumer, Business to Government, nonprofit'\n",
      " 'Business to Government, ' 'Business to Government, nonprofit' 'academia'\n",
      " 'Business to Business, Business to Consumer, Business to Government, academia'\n",
      " 'Business to Business, Business to Consumer, academia'\n",
      " 'Business to Business, Business to Government, academia + nonprofit'\n",
      " 'Business to Consumer, nonprofit'\n",
      " 'Business to Business, Business to Consumer, academia + nonprofit'\n",
      " 'Business to Government, academia + nonprofit'\n",
      " 'Business to Business, Business to Consumer, nonprofit']\n",
      "\n",
      "\n"
     ]
    }
   ],
   "source": [
    "print('checking if all values are not spelled incorrectly\\n')\n",
    "for col in df.columns:\n",
    "    print('Value counts: ', col)\n",
    "    print(df[col].unique())\n",
    "    print('\\n')"
   ]
  },
  {
   "cell_type": "code",
   "execution_count": 411,
   "metadata": {},
   "outputs": [
    {
     "name": "stdout",
     "output_type": "stream",
     "text": [
      "By looking at the data there are some columns with \"weird\" values. We will handle those\n",
      "\n",
      "starting with changing full time employees name to size\n"
     ]
    }
   ],
   "source": [
    "print('By looking at the data there are some columns with \"weird\" values. We will handle those\\n')\n",
    "print('starting with changing full time employees name to size')"
   ]
  },
  {
   "cell_type": "markdown",
   "metadata": {},
   "source": [
    "### Starting with full_time_employees column. "
   ]
  },
  {
   "cell_type": "markdown",
   "metadata": {},
   "source": [
    "Online research on first five companies in regards to number of employees:\n",
    "    \n",
    "    3 Round Stones, Inc.: 1-10\n",
    "    5PSolutions: 1-10\n",
    "    Aidin: 1-10\n",
    "    Alltuition: 11-50\n",
    "    Amida Technology Solutions: 11-50\n",
    "    \n",
    "The research shows results for the companies today. Therefore, the companies probably grew in size. We can safely say the value '10-Jan' meant that specific company has 1-10 employees.\n",
    "\n",
    "\n",
    "Online research on first five companies in regards to number of employees:\n",
    "    \n",
    "    Adaptive: 51 - 200\n",
    "    American Red Ball Movers: 201-500\n",
    "    Analytica: 51\n",
    "    Apextech LLC: 101 - 250 \n",
    "    Appallicious: 11 - 50\n",
    "\n",
    "The research shows results for the companies today. The companies probably grew in size and from the value_counts() function we can see we are missing now 11-50 (November is also the month number 11). We can safely say the value 'Nov-50' meant that specific company has 11-50 employees."
   ]
  },
  {
   "cell_type": "code",
   "execution_count": 412,
   "metadata": {},
   "outputs": [
    {
     "name": "stdout",
     "output_type": "stream",
     "text": [
      "size value counts:\n",
      " 1-10            143\n",
      "11-50           115\n",
      "51-200           93\n",
      "10,001+          56\n",
      "1,001-5,000      30\n",
      "201-500          25\n",
      "501-1,000        22\n",
      "5,001-10,000     16\n",
      "Name: size, dtype: int64\n"
     ]
    }
   ],
   "source": [
    "df.rename(columns = {'full_time_employees': 'size'}, inplace=True)\n",
    "\n",
    "df['size'] = df['size'].replace(to_replace = '10-Jan', value = '1-10')\n",
    "\n",
    "df['size'] = df['size'].replace(to_replace = 'Nov-50', value = '11-50')\n",
    "\n",
    "print('size value counts:\\n', df['size'].value_counts())"
   ]
  },
  {
   "cell_type": "markdown",
   "metadata": {},
   "source": [
    "### Replacing the company types to Private, Public, Nonprofit, and Other\n",
    "\n",
    "Our main focus will be on private and public. But we are interested to see what nonprofit or other types of companies can tell us."
   ]
  },
  {
   "cell_type": "code",
   "execution_count": 413,
   "metadata": {},
   "outputs": [
    {
     "name": "stdout",
     "output_type": "stream",
     "text": [
      "company type value counts after fixing names\n",
      " Private      396\n",
      "Public        92\n",
      "Nonprofit     15\n",
      "Other         10\n",
      "Name: company_type, dtype: int64\n"
     ]
    }
   ],
   "source": [
    "df['company_type'] = df[\"company_type\"].replace(to_replace = [\"partnership\", \n",
    "                                                 \"Partnership\", \n",
    "                                                 \"Permitting Assistance\", \n",
    "                                                 \"Public (Federal-USGS)\", \n",
    "                                                 \"sole proprietorship\", \n",
    "                                                 \"nonprofit + commercial spinoff\"], value = \"Other\")\n",
    "print('company type value counts after fixing names\\n', df['company_type'].value_counts())"
   ]
  },
  {
   "cell_type": "markdown",
   "metadata": {},
   "source": [
    "### Fixing city names"
   ]
  },
  {
   "cell_type": "code",
   "execution_count": 414,
   "metadata": {},
   "outputs": [
    {
     "name": "stdout",
     "output_type": "stream",
     "text": [
      "city names after being fixed\n",
      " ['Washington' 'Philadelphia' 'Fairfax' 'Cambridge' 'San Ramon' 'Chicago'\n",
      " 'State College' 'Little Rock' 'Irvine' 'San Jose' 'New York'\n",
      " 'Leesburg Pike Vienna' 'Oakbrook Terrace' 'Northbrook' 'Beverly'\n",
      " 'Seattle' 'Indianapolis' 'Arlington' 'San Francisco' nan 'West Warwick'\n",
      " 'Boston' 'Evansville' 'Austin' 'Redwood Shores' 'Bainbridge Island'\n",
      " 'Menlo Park' 'Raleigh' 'Omaha' 'Redmond' 'San Diego' 'Milwaukee'\n",
      " 'Atlanta' 'McLean' 'Westport' 'Palo Alto' 'Brentwood' 'Melville'\n",
      " 'Williamsville' 'Berkeley' 'Houston' 'Centreville' 'Santa Clara'\n",
      " 'Friendswood' 'North Kansas City' 'St Louis' 'Columbus' 'Warren'\n",
      " 'Log Angeles' 'Santa Cruz' 'West Loop' 'Millbrae' 'Bristow' 'Denver'\n",
      " 'Baltimore' 'Ann Arbor' 'Oregon House' 'Rockville' 'Fair Lawn'\n",
      " 'New Brunswick' 'Cedar City' 'Yonkers' 'Danvers' 'Cincinnati'\n",
      " 'Mountain View' 'Campbell' 'Westminster' 'Miami' 'Short Hills'\n",
      " 'Germantown' 'Reston' 'Ridgefield' 'Cupertino' 'Hopkinton' 'Santa Monica'\n",
      " 'Falls Church' 'Milford' 'Plano' 'Midlothian' 'Redwood City'\n",
      " 'White Plains' 'Redlands' 'Bethesda' 'Costa Mesa' 'Bellevue' 'Manassas'\n",
      " 'Norwalk' 'Los Angeles' 'Santa Barbara' 'Lexington' 'Greensboro'\n",
      " 'Portland' 'Newton' 'Sunnyvale' 'Sugar Land' 'El Segundo' 'Olathe'\n",
      " 'Branchburg' 'Bozeman' 'Vienna' 'Yorkville' 'Concord' 'Aurora'\n",
      " 'St. Louis' 'Melbourne' 'Denver, CO' 'Armonk' 'Tempe' 'Madison'\n",
      " 'Columbia' 'Danbury' 'Bala Cynwyd' 'Waltham' 'Bowie' 'Kirkland'\n",
      " 'Englewood' 'Scotsdale' 'Sutton' 'Neenah' 'McKinney' 'Oakland' 'Hingham'\n",
      " 'Narberth' 'Maryland Heights' 'Sacramento' 'San Mateo' 'Detroit'\n",
      " 'Stamford' 'White River Junction' 'Sammamish' 'Boston, MA'\n",
      " 'Silver Spring' 'St. Paul' 'Kennesaw' 'Auburn Hills' 'Tallahassee'\n",
      " 'Broadview' 'Nashua' 'Emeryville' 'Bonsall' 'Fort Wayne' 'Eden Prairie'\n",
      " 'San Leandro' 'Somerset' 'Corte Madera' 'Paramus' 'Vilnius' 'Durham'\n",
      " 'Manchester' 'Mayfield Village' 'Draper' 'Knoxville' 'Summit' 'Henderson'\n",
      " 'Skokie' 'Nokesville' 'Venice' 'Sterling' 'Amherst' 'Parsippany'\n",
      " 'Newtown Square' 'Cary' 'New Haven' 'Boulder' 'Jersey City' 'Chino Hills'\n",
      " 'Deerfield Beach' 'Hollywood' 'Fishers' 'Brooklyn' 'East Falmouth'\n",
      " 'Herndon' 'Pasadena' 'Bloomington' 'Wyckoff' 'El Dorado Hills'\n",
      " 'Cleveland' 'Southlake' 'Wayne' 'Berkely' 'Tampa' 'Dayton' 'Villanova'\n",
      " 'Valley Forge' 'Addison' 'San Antonio' 'Lyndhurst' 'Oakton' 'Norman'\n",
      " 'Ames' 'Jericho' 'Ithaca' 'Champaign' 'Minneapolis' 'Encinitas' 'Phoenix'\n",
      " 'Portsmouth' 'Louisville' 'Schaumburg']\n"
     ]
    }
   ],
   "source": [
    "\n",
    "df = df.replace({' Philadelphia':'Philadelphia'})\n",
    "df = df.replace({'New York City': 'New York'})\n",
    "df = df.replace({'Washington DC': 'Washington'})\n",
    "df = df.replace({'Washington, D.C.': 'Washington'})\n",
    "\n",
    "print('city names after being fixed\\n', df['city'].unique())"
   ]
  },
  {
   "cell_type": "code",
   "execution_count": 415,
   "metadata": {},
   "outputs": [
    {
     "name": "stdout",
     "output_type": "stream",
     "text": [
      "company category after getting fixed\n",
      " Data/Technology              98\n",
      "Finance & Investment         75\n",
      "Business & Legal Services    44\n",
      "Governance                   43\n",
      "Healthcare                   40\n",
      "Geospatial/Mapping           30\n",
      "Research & Consulting        28\n",
      "Energy                       28\n",
      "Transportation               28\n",
      "Lifestyle & Consumer         25\n",
      "Housing/Real Estate          21\n",
      "Education                    19\n",
      "Scientific Research          17\n",
      "Insurance                    11\n",
      "Environment & Weather        11\n",
      "Food & Agriculture            6\n",
      "Media                         1\n",
      "Aerospace and Defense         1\n",
      "Name: company_category, dtype: int64\n"
     ]
    }
   ],
   "source": [
    "# Fixing repetitive label names that hold the same value\n",
    "df['company_category'] = df[\"company_category\"].replace({\"Data/Technology,\":\"Data/Technology\", \n",
    "                                                 \"Housing/Real Estate,\":\"Housing/Real Estate\"})\n",
    "print('company category after getting fixed\\n', df['company_category'].value_counts())"
   ]
  },
  {
   "cell_type": "markdown",
   "metadata": {},
   "source": [
    "_____"
   ]
  },
  {
   "cell_type": "code",
   "execution_count": 416,
   "metadata": {},
   "outputs": [
    {
     "name": "stdout",
     "output_type": "stream",
     "text": [
      "Manually handling columns with few NaN values\n",
      "\n",
      "\n"
     ]
    }
   ],
   "source": [
    "print('Manually handling columns with few NaN values\\n\\n')"
   ]
  },
  {
   "cell_type": "code",
   "execution_count": 417,
   "metadata": {},
   "outputs": [
    {
     "name": "stdout",
     "output_type": "stream",
     "text": [
      "number of nan year founded: 1\n",
      "0                   company_name                          url year_founded  \\\n",
      "291  Marlin Alter and Associates  http://www.marlinalter.com/          NaN   \n",
      "\n",
      "0   city state size company_type           company_category  \\\n",
      "291  NaN    FL  NaN          NaN  Business & Legal Services   \n",
      "\n",
      "0             revenue_source business_model  \n",
      "291  Not reported by company            NaN  \n"
     ]
    }
   ],
   "source": [
    "# We can handle the NaN value manually\n",
    "print('number of nan year founded:', df['year_founded'].isnull().sum(axis = 0))\n",
    "print(df[df['year_founded'].isnull()])"
   ]
  },
  {
   "cell_type": "code",
   "execution_count": 418,
   "metadata": {},
   "outputs": [
    {
     "name": "stdout",
     "output_type": "stream",
     "text": [
      "dropped row, count of nan: 0 \n",
      "\n"
     ]
    }
   ],
   "source": [
    "# there is not enough data online for this specific company. We can drop it from the dataframe\n",
    "df.drop(index = 291, inplace = True)\n",
    "print('dropped row, count of nan:', df['year_founded'].isnull().sum(),'\\n')"
   ]
  },
  {
   "cell_type": "markdown",
   "metadata": {},
   "source": [
    "______"
   ]
  },
  {
   "cell_type": "code",
   "execution_count": 419,
   "metadata": {},
   "outputs": [
    {
     "name": "stdout",
     "output_type": "stream",
     "text": [
      "company categories values with nan to be fixed\n",
      " 0       company_name                                              url  \\\n",
      "5          Accenture  http://www.accenture.com/us-en/pages/index.aspx   \n",
      "348          Panjiva                                  www.panjiva.com   \n",
      "503  Weather Channel                          http://www.weather.com/   \n",
      "\n",
      "0   year_founded      city state         size company_type company_category  \\\n",
      "5           1989   Chicago    IL      10,001+       Public              NaN   \n",
      "348         2006  New York    NY        11-50      Private              NaN   \n",
      "503         1982   Atlanta    GA  1,001-5,000       Public              NaN   \n",
      "\n",
      "0                       revenue_source        business_model  \n",
      "5              Not reported by company  Business to Business  \n",
      "348  Software licensing, Subscriptions  Business to Business  \n",
      "503            Not reported by company                   NaN  \n"
     ]
    }
   ],
   "source": [
    "# Manually fixing the three companies categories\n",
    "print('company categories values with nan to be fixed\\n', df[df['company_category'].isnull()])"
   ]
  },
  {
   "cell_type": "code",
   "execution_count": 420,
   "metadata": {},
   "outputs": [
    {
     "name": "stdout",
     "output_type": "stream",
     "text": [
      "Fixed. nan count for company category: 0\n"
     ]
    }
   ],
   "source": [
    "# replacing company values and checking if there are anymore NaN values\n",
    "df.loc[5, 'company_category'] = 'Research & Consulting'\n",
    "df.loc[348, 'company_category'] = 'Data/Technology'\n",
    "df.loc[503, 'company_category'] = 'Environment & Weather'\n",
    "print('Fixed. nan count for company category:', df['company_category'].isnull().sum())\n"
   ]
  },
  {
   "cell_type": "markdown",
   "metadata": {},
   "source": [
    "___"
   ]
  },
  {
   "cell_type": "markdown",
   "metadata": {},
   "source": [
    "There are too many revenue source values (more than 300) not reported by the companies. Check the number of NaN just in case but the column will probably be dropped."
   ]
  },
  {
   "cell_type": "code",
   "execution_count": 421,
   "metadata": {},
   "outputs": [
    {
     "name": "stdout",
     "output_type": "stream",
     "text": [
      "nan for revenue source: 10 ,but we are dropping it for lack of values\n"
     ]
    }
   ],
   "source": [
    "print('nan for revenue source:', df['revenue_source'].isnull().sum(), ',but we are dropping it for lack of values')"
   ]
  },
  {
   "cell_type": "code",
   "execution_count": 422,
   "metadata": {},
   "outputs": [],
   "source": [
    "df.drop(columns = 'revenue_source', inplace = True)"
   ]
  },
  {
   "cell_type": "markdown",
   "metadata": {},
   "source": [
    "____"
   ]
  },
  {
   "cell_type": "markdown",
   "metadata": {},
   "source": [
    "### Handling Business Model Column"
   ]
  },
  {
   "cell_type": "code",
   "execution_count": 423,
   "metadata": {},
   "outputs": [
    {
     "name": "stdout",
     "output_type": "stream",
     "text": [
      "Dataframe after fixing business model:\n",
      " 0          company_name                          url year_founded  \\\n",
      "0  3 Round Stones, Inc.      http://3RoundStones.com         2010   \n",
      "1     48 Factoring Inc.  https://www.48factoring.com         2014   \n",
      "2           5PSolutions          www.5psolutions.com         2007   \n",
      "3        Abt Associates                 abtassoc.com         1965   \n",
      "4                Accela        http://www.accela.com         1999   \n",
      "\n",
      "0          city state         size company_type       company_category  \\\n",
      "0    Washington    DC         1-10      Private        Data/Technology   \n",
      "1  Philadelphia    PA       51-200      Private   Finance & Investment   \n",
      "2       Fairfax    VA         1-10      Private        Data/Technology   \n",
      "3     Cambridge    MA  1,001-5,000      Private  Research & Consulting   \n",
      "4     San Ramon    CA    501-1,000      Private             Governance   \n",
      "\n",
      "0 business_model  b2b  b2c  b2g  b2n  academia  nonprofit  \n",
      "0       b2b, b2c    1    1    0    0         0          0  \n",
      "1            b2b    1    0    0    0         0          0  \n",
      "2  b2b, b2c, b2g    1    1    1    0         0          0  \n",
      "3            NaN    0    0    0    0         0          0  \n",
      "4            b2c    0    1    0    0         0          0  \n"
     ]
    }
   ],
   "source": [
    "df['business_model'] = df['business_model'].str.lower()\n",
    "\n",
    "# Create new columns in Dataframe\n",
    "for model in ['b2b', 'b2c', 'b2g', 'b2n', 'academia', 'nonprofit']:\n",
    "    df[model] = 0\n",
    "    \n",
    "# Transform/abbreviate model values in Dataframe  \n",
    "df['business_model'] = df['business_model'].str.replace('business', 'b')\n",
    "df['business_model'] = df['business_model'].str.replace('consumer', 'c')\n",
    "df['business_model'] = df['business_model'].str.replace('government', 'g')\n",
    "df['business_model'] = df['business_model'].str.replace(' to ', '2')\n",
    "df['business_model'] = df['business_model'].str.replace('+', ',')\n",
    "df['business_model'] = df['business_model'].str.replace('b2nonprofit', 'b2n')\n",
    "\n",
    "# Appropriately populate new rows with corresponding information\n",
    "for index, row in df.iterrows():\n",
    "    #for all valid values\n",
    "    if type(row['business_model']) == str:\n",
    "        #split original business_model column by commas\n",
    "        model_array = row['business_model'].split(\",\")\n",
    "\n",
    "        #for each business_model:\n",
    "        for model in model_array:\n",
    "            row[model.lstrip()] = 1\n",
    "            \n",
    "        #set cell model_type ('b2b', 'b2g', etc) to 1\n",
    "        df.loc[index] = row\n",
    "\n",
    "# Check new dataframe\n",
    "print('Dataframe after fixing business model:\\n', df.head())"
   ]
  },
  {
   "cell_type": "code",
   "execution_count": 424,
   "metadata": {},
   "outputs": [
    {
     "name": "stdout",
     "output_type": "stream",
     "text": [
      "Checking how connected a company type is to business model\n",
      "0                          company_name  \\\n",
      "77       Center for Responsive Politics   \n",
      "83           Chemical Abstracts Service   \n",
      "100                    Code for America   \n",
      "103  College Abacus, an ECMC initiative   \n",
      "104                       College Board   \n",
      "113                    Consumer Reports   \n",
      "114                         CoolClimate   \n",
      "205                        GreatSchools   \n",
      "206                           GuideStar   \n",
      "222                             ideas42   \n",
      "253                   Kaiser Permanante   \n",
      "368                           PolicyMap   \n",
      "381                          ProPublica   \n",
      "389                    RAND Corporation   \n",
      "411                    Sage Bionetworks   \n",
      "\n",
      "0                                                  url year_founded  \\\n",
      "77                                 www.opensecrets.org         1983   \n",
      "83                                 https://www.cas.org         1907   \n",
      "100                          http://codeforamerica.org         2009   \n",
      "103                          https://collegeabacus.org         1994   \n",
      "104                        http://www.collegeboard.org         1900   \n",
      "113                            www.consumerreports.org         1936   \n",
      "114                    http://coolclimate.berkeley.edu         2007   \n",
      "205                                   greatschools.org         1998   \n",
      "206                           http://www.guidestar.org         1994   \n",
      "222                                        ideas42.org         2008   \n",
      "253  https://healthy.kaiserpermanente.org/html/kais...         1945   \n",
      "368                                      policymap.com         2007   \n",
      "381                         http://www.propublica.org/         2007   \n",
      "389                                http://www.rand.org         1946   \n",
      "411                                http://sagebase.org         2009   \n",
      "\n",
      "0             city state         size company_type       company_category  \\\n",
      "77      Washington    DC        11-50    Nonprofit  Research & Consulting   \n",
      "83        Columbus    OH  1,001-5,000    Nonprofit    Scientific Research   \n",
      "100  San Francisco    CA       51-200    Nonprofit             Governance   \n",
      "103     Washington    DC    501-1,000    Nonprofit   Finance & Investment   \n",
      "104       New York    NY  1,001-5,000    Nonprofit              Education   \n",
      "113        Yonkers    NY    501-1,000    Nonprofit   Lifestyle & Consumer   \n",
      "114       Berkeley    CA         1-10    Nonprofit  Environment & Weather   \n",
      "205  San Francisco    CA       51-200    Nonprofit              Education   \n",
      "206     Washington    DC       51-200    Nonprofit             Governance   \n",
      "222       New York    NY        11-50    Nonprofit  Research & Consulting   \n",
      "253        Oakland    CA      10,001+    Nonprofit             Healthcare   \n",
      "368   Philadelphia    PA         1-10    Nonprofit     Geospatial/Mapping   \n",
      "381       New York    NY        11-50    Nonprofit             Governance   \n",
      "389   Santa Monica    CA  1,001-5,000    Nonprofit  Research & Consulting   \n",
      "411        Seattle    WA        11-50    Nonprofit    Scientific Research   \n",
      "\n",
      "0             business_model  b2b  b2c  b2g  b2n  academia  nonprofit  \n",
      "77                 nonprofit    0    0    0    0         0          1  \n",
      "83                 nonprofit    0    0    0    0         0          1  \n",
      "100                      b2g    0    0    1    0         0          0  \n",
      "103                      NaN    0    0    0    0         0          0  \n",
      "104                      NaN    0    0    0    0         0          0  \n",
      "113                      NaN    0    0    0    0         0          0  \n",
      "114            b2b, b2c, b2g    1    1    1    0         0          0  \n",
      "205                      b2c    0    1    0    0         0          0  \n",
      "206                nonprofit    0    0    0    0         0          1  \n",
      "222                nonprofit    0    0    0    0         0          1  \n",
      "253                      b2c    0    1    0    0         0          0  \n",
      "368  b2b, b2c, b2g, academia    1    1    1    0         1          0  \n",
      "381                      b2c    0    1    0    0         0          0  \n",
      "389                 b2b, b2g    1    0    1    0         0          0  \n",
      "411            b2b, academia    1    0    0    0         1          0  \n"
     ]
    }
   ],
   "source": [
    "print('Checking how connected a company type is to business model')\n",
    "print(df[df['company_type'] == 'Nonprofit'])"
   ]
  },
  {
   "cell_type": "code",
   "execution_count": 425,
   "metadata": {},
   "outputs": [
    {
     "name": "stdout",
     "output_type": "stream",
     "text": [
      "It is interesting to see how if a company is nonprofit by company_type, it does not have to be nonprofit by company model\n"
     ]
    }
   ],
   "source": [
    "print('It is interesting to see how if a company is nonprofit by company_type, it does not have to be nonprofit by company model')"
   ]
  },
  {
   "cell_type": "markdown",
   "metadata": {},
   "source": [
    "___"
   ]
  },
  {
   "cell_type": "code",
   "execution_count": 426,
   "metadata": {},
   "outputs": [
    {
     "name": "stdout",
     "output_type": "stream",
     "text": [
      "remaining columns with more than 10 nan values\n",
      "NaN count for  company_name\n",
      "0\n",
      "\n",
      "\n",
      "NaN count for  url\n",
      "0\n",
      "\n",
      "\n",
      "NaN count for  year_founded\n",
      "0\n",
      "\n",
      "\n",
      "NaN count for  city\n",
      "32\n",
      "\n",
      "\n",
      "NaN count for  state\n",
      "0\n",
      "\n",
      "\n",
      "NaN count for  size\n",
      "28\n",
      "\n",
      "\n",
      "NaN count for  company_type\n",
      "15\n",
      "\n",
      "\n",
      "NaN count for  company_category\n",
      "0\n",
      "\n",
      "\n",
      "NaN count for  business_model\n",
      "75\n",
      "\n",
      "\n",
      "NaN count for  b2b\n",
      "0\n",
      "\n",
      "\n",
      "NaN count for  b2c\n",
      "0\n",
      "\n",
      "\n",
      "NaN count for  b2g\n",
      "0\n",
      "\n",
      "\n",
      "NaN count for  b2n\n",
      "0\n",
      "\n",
      "\n",
      "NaN count for  academia\n",
      "0\n",
      "\n",
      "\n",
      "NaN count for  nonprofit\n",
      "0\n",
      "\n",
      "\n",
      "\n",
      "We will try to keep as many companies as possible if we can find information online\n"
     ]
    }
   ],
   "source": [
    "print('remaining columns with more than 10 nan values')\n",
    "for col in df.columns:\n",
    "    print('NaN count for ', col)\n",
    "    print(df[col].isnull().sum(axis = 0))\n",
    "    print('\\n')\n",
    "    \n",
    "print('\\nWe will try to keep as many companies as possible if we can find information online')"
   ]
  },
  {
   "cell_type": "code",
   "execution_count": 427,
   "metadata": {},
   "outputs": [
    {
     "name": "stdout",
     "output_type": "stream",
     "text": [
      "Handling NaN values for city, size, company type, and business model\n",
      "\n"
     ]
    }
   ],
   "source": [
    "print('Handling NaN values for city, size, company type, and business model\\n')\n"
   ]
  },
  {
   "cell_type": "markdown",
   "metadata": {},
   "source": [
    "### We will deal with some of the NaN values by checking what rows have more than one NaN entry.\n",
    "\n",
    "The four columns with NaN values are 'city', 'size', 'company_type', and 'business_model'\n",
    "We will drop the row if we cannot find one of the four columns information online."
   ]
  },
  {
   "cell_type": "code",
   "execution_count": 428,
   "metadata": {},
   "outputs": [
    {
     "name": "stdout",
     "output_type": "stream",
     "text": [
      "Companies to drop with 3 NaN values\n",
      " 0           company_name                                                url  \\\n",
      "137       Eat Shop Sleep  https://itunes.apple.com/us/app/eat-shop-sleep...   \n",
      "149  Equal Pay for Women       http://resources.alljobopenings.com/equality   \n",
      "220      How's My Offer?                         http://hmo.launchrock.com/   \n",
      "260     Knowledge Agency                    http://www.knowledgeagency.com/   \n",
      "391       Rank and Filed                           http://rankandfiled.com/   \n",
      "396              ReciPal                           https://www.recipal.com/   \n",
      "409        Robinson + Yu                          http://www.robinsonyu.com   \n",
      "475           TrialTrove       http://www.citeline.com/products/trialtrove/   \n",
      "515            Workhands                          https://www.workhands.us/   \n",
      "\n",
      "0   year_founded           city state size company_type  \\\n",
      "137         2012            NaN    CA  NaN          NaN   \n",
      "149         2012     Midlothian    VA  NaN          NaN   \n",
      "220         2014            NaN    WA  NaN          NaN   \n",
      "260         1989       New York    NY  NaN          NaN   \n",
      "391         2013            NaN    NY  NaN      Private   \n",
      "396         2011            NaN    NY  NaN      Private   \n",
      "409         2011            NaN    DC  NaN          NaN   \n",
      "475         2002       New York    NY  NaN          NaN   \n",
      "515         2012  San Francisco    CA  NaN          NaN   \n",
      "\n",
      "0             company_category business_model  b2b  b2c  b2g  b2n  academia  \\\n",
      "137       Lifestyle & Consumer            b2c    0    1    0    0         0   \n",
      "149  Business & Legal Services            NaN    0    0    0    0         0   \n",
      "220                  Education            b2c    0    1    0    0         0   \n",
      "260      Research & Consulting            NaN    0    0    0    0         0   \n",
      "391       Finance & Investment            NaN    0    0    0    0         0   \n",
      "396         Food & Agriculture            NaN    0    0    0    0         0   \n",
      "409      Research & Consulting            NaN    0    0    0    0         0   \n",
      "475                 Healthcare            NaN    0    0    0    0         0   \n",
      "515       Lifestyle & Consumer            NaN    0    0    0    0         0   \n",
      "\n",
      "0    nonprofit  \n",
      "137          0  \n",
      "149          0  \n",
      "220          0  \n",
      "260          0  \n",
      "391          0  \n",
      "396          0  \n",
      "409          0  \n",
      "475          0  \n",
      "515          0  \n"
     ]
    }
   ],
   "source": [
    "# Checking wich rows have more than 3 NaN\n",
    "multipleNan = df.loc[(df['city'].isnull()) & (df['size'].isnull()) & (df['company_type'].isnull()) | \n",
    "       (df['city'].isnull()) & (df['size'].isnull()) & (df['business_model'].isnull()) |\n",
    "       (df['city'].isnull()) & (df['size'].isnull()) & (df['business_model'].isnull()) |\n",
    "       (df['company_type'].isnull()) & (df['size'].isnull()) & (df['business_model'].isnull()) |\n",
    "       (df['company_type'].isnull()) & (df['size'].isnull()) & df['city'].isnull() & (df['business_model'].isnull())]\n",
    "print('Companies to drop with 3 NaN values\\n', multipleNan)\n"
   ]
  },
  {
   "cell_type": "code",
   "execution_count": 429,
   "metadata": {},
   "outputs": [],
   "source": [
    "# Manually handling each company\n",
    "# indexes of companies to drop (after looking them up):\n",
    "# 137, 149, 220, 260, 391, 396, 409, 475, 515\n",
    "# all of them need to be dropped\n",
    "df.drop(index = multipleNan.index, axis = 0, inplace = True)\n",
    "\n"
   ]
  },
  {
   "cell_type": "markdown",
   "metadata": {},
   "source": [
    "___"
   ]
  },
  {
   "cell_type": "markdown",
   "metadata": {},
   "source": [
    "### After looking up companies online. The easiest values for the columns to find online are 'size' , 'city', and 'company_category'. So next we will focus on those missing values"
   ]
  },
  {
   "cell_type": "code",
   "execution_count": 430,
   "metadata": {},
   "outputs": [
    {
     "name": "stdout",
     "output_type": "stream",
     "text": [
      "handling size, city, and company category. Business model values cannot be found online\n",
      "\n"
     ]
    }
   ],
   "source": [
    "print('handling size, city, and company category. Business model values cannot be found online\\n')"
   ]
  },
  {
   "cell_type": "code",
   "execution_count": 431,
   "metadata": {},
   "outputs": [
    {
     "name": "stdout",
     "output_type": "stream",
     "text": [
      "manually handling companies with only city NaN 0                           company_name  \\\n",
      "23                              Aquicore   \n",
      "25                        AreaVibes Inc.   \n",
      "57                              BuildFax   \n",
      "81              Charles River Associates   \n",
      "160                            Exversion   \n",
      "219                             Housefax   \n",
      "269                               Lenddo   \n",
      "306                                Mozio   \n",
      "311  Nationwide Mutual Insurance Company   \n",
      "314             NERA Economic Consulting   \n",
      "320                              Nielsen   \n",
      "324                  Noveda Technologies   \n",
      "333                          OpenCounter   \n",
      "338                              optiGov   \n",
      "356                         People Power   \n",
      "362                           PEV4me.com   \n",
      "373                         PossibilityU   \n",
      "385                               Quandl   \n",
      "414                      Scale Unlimited   \n",
      "429                     SocialEffort Inc   \n",
      "431                         Solar Census   \n",
      "443                  Standard and Poor's   \n",
      "452                           StreetEasy   \n",
      "462           The Advisory Board Company   \n",
      "473                         TransparaGov   \n",
      "485                        Urban Airship   \n",
      "498                              Votizen   \n",
      "\n",
      "0                                                  url year_founded city state  \n",
      "23                            http://www.aquicore.com/         2010  NaN    DC  \n",
      "25                           http://www.areavibes.com/         2009  NaN    NY  \n",
      "57                            http://www.buildfax.com/         2008  NaN    NC  \n",
      "81                                    http://crai.com/         1965  NaN    MA  \n",
      "160                              https://exversion.com         2013  NaN    NY  \n",
      "219                               http://housefax.com/         2002  NaN    VA  \n",
      "269  https://www.lenddo.com/pages/what_is_lenddo/of...         2011  NaN    NY  \n",
      "306                              http://www.mozio.com/         2011  NaN    CA  \n",
      "311                          http://www.nationwide.com         1926  NaN    OH  \n",
      "314                               http://www.nera.com/         1961  NaN    NY  \n",
      "320                  http://www.nielsen.com/us/en.html         1964  NaN    NY  \n",
      "324                                     www.noveda.com         2007  NaN    NJ  \n",
      "333                              http://opencounter.us         2013  NaN    CA  \n",
      "338                                        optigov.com         2013  NaN    NJ  \n",
      "356                      http://www.peoplepowerco.com/         2009  NaN    CA  \n",
      "362                              http://www.pev4me.com         2011  NaN    CA  \n",
      "373                       http://www.possibilityu.com/         2010  NaN    ME  \n",
      "385                              http://www.quandl.com         2011  NaN    NY  \n",
      "414                     http://www.scaleunlimited.com/         2006  NaN    CA  \n",
      "429                            http://socialeffort.co/         2013  NaN    NY  \n",
      "431                         http://www.solarcensus.com         2006  NaN    CA  \n",
      "443  http://www.standardandpoors.com/en_US/web/gues...         1860  NaN    NY  \n",
      "452                             http://streeteasy.com/         2005  NaN    NY  \n",
      "462                           http://www.advisory.com/         1979  NaN    DC  \n",
      "473                       http://www.TransparaGov.com/         2011  NaN    DC  \n",
      "485                           http://urbanairship.com/         2009  NaN    OR  \n",
      "498                                    www.votizen.com         2010  NaN    NY  \n"
     ]
    }
   ],
   "source": [
    "# city\n",
    "print('manually handling companies with only city NaN', df[df['city'].isnull()].loc[:, 'company_name':'state'])"
   ]
  },
  {
   "cell_type": "markdown",
   "metadata": {},
   "source": [
    "City\n",
    "Index to drop:\n",
    "\n",
    "25 Toronto\n",
    "\n",
    "269 (from Singapore)\n",
    "\n",
    "338\n",
    "\n",
    "385 Toronto\n",
    "\n",
    "498"
   ]
  },
  {
   "cell_type": "markdown",
   "metadata": {},
   "source": [
    "City\n",
    "Index to keep: \n",
    "\n",
    "23, Washington\n",
    "\n",
    "57, Asheville\n",
    "\n",
    "81, Boston\n",
    "\n",
    "160, New York\n",
    "\n",
    "219, Haymarket, Virginia\n",
    "\n",
    "306, New York\n",
    "\n",
    "311, Columbus\n",
    "\n",
    "314, White Plains\n",
    "\n",
    "320, New York\n",
    "\n",
    "324, Bridgewater\n",
    "\n",
    "333, San Francisco\n",
    "\n",
    "356, Palo Alto\n",
    "\n",
    "362, Sunnyvale\n",
    "\n",
    "373, FreePort\n",
    "\n",
    "414, Nevada City\n",
    "\n",
    "429, New York\n",
    "\n",
    "431, Sebastopol\n",
    "\n",
    "443, New York\n",
    "\n",
    "452, New York\n",
    "\n",
    "462, Washington\n",
    "\n",
    "473, Washington\n",
    "\n",
    "485, Portland"
   ]
  },
  {
   "cell_type": "code",
   "execution_count": 432,
   "metadata": {},
   "outputs": [
    {
     "name": "stdout",
     "output_type": "stream",
     "text": [
      "After inputting cities, count of NaN 0\n"
     ]
    }
   ],
   "source": [
    "# manually inputting cities\n",
    "df.loc[23, 'city'] = 'Washington'\n",
    "df.loc[57, 'city'] = 'Asheville'\n",
    "df.loc[81, 'city'] = 'Boston'\n",
    "df.loc[160, 'city'] = 'New York'\n",
    "df.loc[219, 'city'] = 'Haymarket'\n",
    "df.loc[306, 'city'] = 'New York'\n",
    "df.loc[311, 'city'] = 'Columbus'\n",
    "df.loc[314, 'city'] = 'White Plains'\n",
    "df.loc[320, 'city'] = 'New York'\n",
    "df.loc[324, 'city'] = 'Bridgewater'\n",
    "df.loc[333, 'city'] = 'San Francisco'\n",
    "df.loc[356, 'city'] = 'Palo Alto'\n",
    "df.loc[362, 'city'] = 'Sunnyvale'\n",
    "df.loc[373, 'city'] = 'FreePort'\n",
    "df.loc[414, 'city'] = 'Nevada City'\n",
    "df.loc[429, 'city'] = 'New York'\n",
    "df.loc[431, 'city'] = 'Sebastopol'\n",
    "df.loc[443, 'city'] = 'New York'\n",
    "df.loc[452, 'city'] = 'New York'\n",
    "df.loc[462, 'city'] = 'Washington'\n",
    "df.loc[473, 'city'] = 'Washington'\n",
    "df.loc[485, 'city'] = 'Portland'\n",
    "\n",
    "# dropping cities\n",
    "df.drop(index = [25, 269, 338, 385, 498], axis = 0, inplace = True)\n",
    "\n",
    "print('After inputting cities, count of NaN', df['city'].isnull().sum())"
   ]
  },
  {
   "cell_type": "code",
   "execution_count": 433,
   "metadata": {},
   "outputs": [
    {
     "name": "stdout",
     "output_type": "stream",
     "text": [
      "Companies with size NaN\n",
      " 0                            company_name  \\\n",
      "17                    Amazon Web Services   \n",
      "48                                 Biovia   \n",
      "49                                BizVizz   \n",
      "84                        Child Care Desk   \n",
      "135                     EarthObserver App   \n",
      "136                     Earthquake Alert!   \n",
      "200                        Govzilla, Inc.   \n",
      "266                             (Leg)Cyte   \n",
      "274  Lilly Open Innovation Drug Discovery   \n",
      "284                         Mango Transit   \n",
      "294                            MedWatcher   \n",
      "360                            Personalis   \n",
      "370                            Poncho App   \n",
      "442                         Stamen Design   \n",
      "456                         T. Rowe Price   \n",
      "461                              Teradata   \n",
      "465                      The Govtech Fund   \n",
      "487                         US Green Data   \n",
      "488                     U.S. News Schools   \n",
      "\n",
      "0                                                  url year_founded  \\\n",
      "17                               http://aws.amazon.com         2007   \n",
      "48                                 http://accelrys.com         2001   \n",
      "49                                  http://bizvizz.com         2011   \n",
      "84                            http://childcaredesk.com         2013   \n",
      "135                     http://www.earth-observer.org/         2011   \n",
      "136  https://play.google.com/store/apps/details?id=...         2013   \n",
      "200                                       fdazilla.com         2011   \n",
      "266                             http://www.legcyte.com         2006   \n",
      "274               https://openinnovation.lilly.com/dd/         1876   \n",
      "284  http://www.windowsphone.com/en-us/store/app/ma...         2011   \n",
      "294                          http://www.medwatcher.org         2010   \n",
      "360                          http://www.personalis.com         2011   \n",
      "370                                  http://poncho.is/         2013   \n",
      "442                                 http://stamen.com/         2001   \n",
      "456                          http://www.troweprice.com         1937   \n",
      "461                           http://www.teradata.com/         1979   \n",
      "465                                www.govtechfund.com         2014   \n",
      "487                        http://www.usgreendata.com/         2010   \n",
      "488                             http://www.usnews.com/         1983   \n",
      "\n",
      "0             city state size company_type       company_category  \\\n",
      "17         Seattle    WA  NaN       Public        Data/Technology   \n",
      "48       San Diego    CA  NaN       Public    Scientific Research   \n",
      "49       Milwaukee    WI  NaN      Private             Governance   \n",
      "84        New York    NY  NaN      Private   Lifestyle & Consumer   \n",
      "135       New York    NY  NaN          NaN     Geospatial/Mapping   \n",
      "136         Reston    VA  NaN        Other     Geospatial/Mapping   \n",
      "200      Yorkville    IL  NaN      Private             Governance   \n",
      "266     Washington    DC  NaN       Public             Governance   \n",
      "274   Indianapolis    IN  NaN          NaN    Scientific Research   \n",
      "284        Redmond    WA  NaN      Private     Geospatial/Mapping   \n",
      "294     Boston, MA    MA  NaN      Private             Healthcare   \n",
      "360     Menlo Park    CA  NaN      Private    Scientific Research   \n",
      "370       New York    NY  NaN      Private  Environment & Weather   \n",
      "442  San Francisco    CA  NaN      Private     Geospatial/Mapping   \n",
      "456      Baltimore    MD  NaN       Public   Finance & Investment   \n",
      "461         Dayton    OH  NaN       Public        Data/Technology   \n",
      "465  San Francisco    CA  NaN      Private   Finance & Investment   \n",
      "487      Cambridge    MA  NaN      Private                 Energy   \n",
      "488     Washington    DC  NaN      Private              Education   \n",
      "\n",
      "0   business_model  b2b  b2c  b2g  b2n  academia  nonprofit  \n",
      "17             NaN    0    0    0    0         0          0  \n",
      "48             b2b    1    0    0    0         0          0  \n",
      "49             b2b    1    0    0    0         0          0  \n",
      "84             b2c    0    1    0    0         0          0  \n",
      "135            b2c    0    1    0    0         0          0  \n",
      "136            b2c    0    1    0    0         0          0  \n",
      "200            NaN    0    0    0    0         0          0  \n",
      "266            NaN    0    0    0    0         0          0  \n",
      "274            b2b    1    0    0    0         0          0  \n",
      "284            b2c    0    1    0    0         0          0  \n",
      "294            NaN    0    0    0    0         0          0  \n",
      "360            b2b    1    0    0    0         0          0  \n",
      "370            b2c    0    1    0    0         0          0  \n",
      "442            b2b    1    0    0    0         0          0  \n",
      "456            NaN    0    0    0    0         0          0  \n",
      "461            NaN    0    0    0    0         0          0  \n",
      "465            NaN    0    0    0    0         0          0  \n",
      "487            NaN    0    0    0    0         0          0  \n",
      "488            NaN    0    0    0    0         0          0  \n"
     ]
    }
   ],
   "source": [
    "# Checking size\n",
    "print('Companies with size NaN\\n', df[df['size'].isnull()])"
   ]
  },
  {
   "cell_type": "markdown",
   "metadata": {},
   "source": [
    "Index to keep:\n",
    "\n",
    "17. '10,001+'\n",
    "\n",
    "48. '501-1000'\n",
    "\n",
    "49. '51-200' --> \"BizViz\"\n",
    "\n",
    "200. '1-10'\n",
    "\n",
    "266. '1-10'\n",
    "\n",
    "360. '51-200'\n",
    "\n",
    "370. '1-10'\n",
    "\n",
    "442. '11-50'\n",
    "\n",
    "456. '5,001-10,000'\n",
    " \n",
    "465. '1-10'\n",
    "\n",
    "487. '1-10'\n",
    "\n",
    "488. '201-500'\n"
   ]
  },
  {
   "cell_type": "markdown",
   "metadata": {},
   "source": [
    "Index to drop:\n",
    "\n",
    "84\n",
    "\n",
    "135\n",
    "\n",
    "136\n",
    "\n",
    "274\n",
    "\n",
    "284\n",
    "\n",
    "294\n",
    "\n",
    "461"
   ]
  },
  {
   "cell_type": "code",
   "execution_count": 434,
   "metadata": {},
   "outputs": [
    {
     "name": "stdout",
     "output_type": "stream",
     "text": [
      "After inputting size, count of NaN 0\n"
     ]
    }
   ],
   "source": [
    "df.loc[17, 'size'] = '10,001+'\n",
    "df.loc[48, 'size'] = '501-1,000'\n",
    "df.loc[49, 'size'] = '51-200'\n",
    "df.loc[49, 'company_name'] = 'BizBiz' # fixing name of the company\n",
    "df.loc[200, 'size'] = '1-10'\n",
    "df.loc[266, 'size'] = '1-10'\n",
    "df.loc[360, 'size'] = '51-200'\n",
    "df.loc[370, 'size'] = '1-10'\n",
    "df.loc[442, 'size'] = '11-50'\n",
    "df.loc[456, 'size'] = '5,001-10,000'\n",
    "df.loc[465, 'size'] = '1-10'\n",
    "df.loc[487, 'size'] = '1-10'\n",
    "df.loc[488, 'size'] = '201-500'\n",
    "\n",
    "# dropping rows \n",
    "df.drop(index = [84,135,136,274,284,294,461], axis = 0, inplace = True)\n",
    "print('After inputting size, count of NaN', df['size'].isnull().sum())"
   ]
  },
  {
   "cell_type": "code",
   "execution_count": 435,
   "metadata": {},
   "outputs": [
    {
     "name": "stdout",
     "output_type": "stream",
     "text": [
      "Companies with company type NaN\n",
      " 0                company_name  \\\n",
      "171                     Fitch   \n",
      "335                 OpenPlans   \n",
      "358  Personal Democracy Media   \n",
      "367                    Plus-U   \n",
      "471                  TopCoder   \n",
      "\n",
      "0                                                  url year_founded  \\\n",
      "171  https://www.fitchratings.com/web/en/dynamic/fi...         1913   \n",
      "335                               http://openplans.org         1999   \n",
      "358                       http://personaldemocracy.com         2004   \n",
      "367              https://www.unigo.com/from-plusu.aspx         2008   \n",
      "471                           http://www.topcoder.com/         2001   \n",
      "\n",
      "0             city state         size company_type      company_category  \\\n",
      "171       New York    NY  1,001-5,000          NaN  Finance & Investment   \n",
      "335       New York    NY        11-50          NaN            Governance   \n",
      "358       New York    NY         1-10          NaN            Governance   \n",
      "367       New York    NY        11-50          NaN             Education   \n",
      "471  San Francisco    CA       51-200          NaN       Data/Technology   \n",
      "\n",
      "0   business_model  b2b  b2c  b2g  b2n  academia  nonprofit  \n",
      "171            b2b    1    0    0    0         0          0  \n",
      "335            b2c    0    1    0    0         0          0  \n",
      "358            b2c    0    1    0    0         0          0  \n",
      "367            b2c    0    1    0    0         0          0  \n",
      "471            b2c    0    1    0    0         0          0  \n"
     ]
    }
   ],
   "source": [
    "# Checking company type\n",
    "print('Companies with company type NaN\\n', df[df['company_type'].isnull()])"
   ]
  },
  {
   "cell_type": "markdown",
   "metadata": {},
   "source": [
    "index to drop:\n",
    "    None\n"
   ]
  },
  {
   "cell_type": "markdown",
   "metadata": {},
   "source": [
    "index to  keep:\n",
    "\n",
    "171, Private\n",
    "\n",
    "335, Nonprofit\n",
    "\n",
    "358, Private\n",
    "\n",
    "367, Private\n",
    "\n",
    "471, Private\n",
    "\n"
   ]
  },
  {
   "cell_type": "code",
   "execution_count": 436,
   "metadata": {},
   "outputs": [
    {
     "name": "stdout",
     "output_type": "stream",
     "text": [
      "After inputting company type, count of NaN 0\n"
     ]
    }
   ],
   "source": [
    "df.loc[171, 'company_type'] = 'Private'\n",
    "df.loc[335, 'company_type'] = 'Nonprofit'\n",
    "df.loc[358, 'company_type'] = 'Private'\n",
    "df.loc[367, 'company_type'] = 'Private'\n",
    "df.loc[471, 'company_type'] = 'Private'\n",
    "\n",
    "# Checking if there are more NaN\n",
    "print('After inputting company type, count of NaN', df['company_type'].isnull().sum())"
   ]
  },
  {
   "cell_type": "code",
   "execution_count": 437,
   "metadata": {},
   "outputs": [
    {
     "name": "stdout",
     "output_type": "stream",
     "text": [
      "Very complicated to find business model information online. The following companies will be dropped:\n",
      " 0                          company_name  \\\n",
      "3                        Abt Associates   \n",
      "17                  Amazon Web Services   \n",
      "27                          Arrive Labs   \n",
      "44                   Berkshire Hathaway   \n",
      "47                                 Bing   \n",
      "94                     ClearHealthCosts   \n",
      "103  College Abacus, an ECMC initiative   \n",
      "104                       College Board   \n",
      "113                    Consumer Reports   \n",
      "116                           CoreLogic   \n",
      "120                       CrowdANALYTIX   \n",
      "133                    Dun & Bradstreet   \n",
      "154                                Esri   \n",
      "178                             Fujitsu   \n",
      "200                      Govzilla, Inc.   \n",
      "201               gRadiant Research LLC   \n",
      "208                  Harris Corporation   \n",
      "211                        Healthgrades   \n",
      "216                                HERE   \n",
      "221                                 IBM   \n",
      "234                         InnoCentive   \n",
      "257                         Kimono Labs   \n",
      "266                           (Leg)Cyte   \n",
      "283                       Lumesis, Inc.   \n",
      "297                       Merrill Lynch   \n",
      "313                              Navico   \n",
      "317                    Next Step Living   \n",
      "349                Parsons Brinckerhoff   \n",
      "388                       R R Donnelley   \n",
      "400                         REI Systems   \n",
      "..                                  ...   \n",
      "445                Sterling Infosystems   \n",
      "453                             Suddath   \n",
      "456                       T. Rowe Price   \n",
      "457                    Tableau Software   \n",
      "459                             Telenav   \n",
      "462          The Advisory Board Company   \n",
      "465                    The Govtech Fund   \n",
      "467                  The Vanguard Group   \n",
      "470                     Thomson Reuters   \n",
      "474                          TransUnion   \n",
      "479                              Trulia   \n",
      "482                                Uber   \n",
      "487                       US Green Data   \n",
      "488                   U.S. News Schools   \n",
      "489                          USAA Group   \n",
      "491                           Verdafero   \n",
      "492                                Vimo   \n",
      "503                     Weather Channel   \n",
      "506                          WebFilings   \n",
      "508                               WebMD   \n",
      "509                     Weight Watchers   \n",
      "512                        Whitby Group   \n",
      "513                    Wolfram Research   \n",
      "514                      Wolters Kluwer   \n",
      "516                              Xatori   \n",
      "520                               Yahoo   \n",
      "522                                Yelp   \n",
      "524                              Zillow   \n",
      "525                              ZocDoc   \n",
      "528        Zurich Insurance (Risk Room)   \n",
      "\n",
      "0                                          url year_founded           city  \\\n",
      "3                                 abtassoc.com         1965      Cambridge   \n",
      "17                       http://aws.amazon.com         2007        Seattle   \n",
      "27              http://home.downloadarrive.com         2011  San Francisco   \n",
      "44            http://www.berkshirehathaway.com         1998          Omaha   \n",
      "47                         http://www.bing.com         2009        Redmond   \n",
      "94                        clearhealthcosts.com         2011       New York   \n",
      "103                  https://collegeabacus.org         1994     Washington   \n",
      "104                http://www.collegeboard.org         1900       New York   \n",
      "113                    www.consumerreports.org         1936        Yonkers   \n",
      "116                   http://www.corelogic.com         2010         Irvine   \n",
      "120                      www.crowdanalytix.com         2012       Campbell   \n",
      "133                         http://www.dnb.com         1841    Short Hills   \n",
      "154                                   esri.com         1969       Redlands   \n",
      "178                 http://www.fujitsu.com/us/         1935      Sunnyvale   \n",
      "200                               fdazilla.com         2011      Yorkville   \n",
      "201                      gradiant-research.com         2008        Concord   \n",
      "208                             www.harris.com         1895      Melbourne   \n",
      "211               http://www.healthgrades.com/         1998     Denver, CO   \n",
      "216                            http://here.com         2012        Chicago   \n",
      "221                                www.ibm.com         1912         Armonk   \n",
      "234                 http://www.innocentive.com         2001        Waltham   \n",
      "257                             kimonolabs.com         2014  San Francisco   \n",
      "266                     http://www.legcyte.com         2006     Washington   \n",
      "283                            www.lumesis.com         2010       Stamford   \n",
      "297  http://www.ml.com/index.asp?id=7695_15125         1914       New York   \n",
      "313                             www.navico.com         2005         Nashua   \n",
      "317              http://www.nextstepliving.com         2008         Boston   \n",
      "349                            www.pbworld.com         1885       New York   \n",
      "388                 http://www.rrdonnelley.com         1864        Chicago   \n",
      "400                         www.reisystems.com         1989       Sterling   \n",
      "..                                         ...          ...            ...   \n",
      "445        http://www.sterlinginfosystems.com/         1976       New York   \n",
      "453                    http://www.suddath.com/         1919          Wayne   \n",
      "456                  http://www.troweprice.com         1937      Baltimore   \n",
      "457            http://www.tableausoftware.com/         2003        Seattle   \n",
      "459                    http://www.telenav.com/         1999      Sunnyvale   \n",
      "462                   http://www.advisory.com/         1979     Washington   \n",
      "465                        www.govtechfund.com         2014  San Francisco   \n",
      "467                   http://www.vanguard.com/         1975   Valley Forge   \n",
      "470                 http://thomsonreuters.com/         2008       New York   \n",
      "474                 http://www.transunion.com/         1968        Chicago   \n",
      "479                                 trulia.com         2005  San Francisco   \n",
      "482                      https://www.uber.com/         2009  San Francisco   \n",
      "487                http://www.usgreendata.com/         2010      Cambridge   \n",
      "488                     http://www.usnews.com/         1983     Washington   \n",
      "489                       https://www.usaa.com         1922    San Antonio   \n",
      "491                          www.verdafero.com         2009  San Francisco   \n",
      "492                               www.vimo.com         2012      Palo Alto   \n",
      "503                    http://www.weather.com/         1982        Atlanta   \n",
      "506                https://www.webfilings.com/         2008           Ames   \n",
      "508                      http://www.webmd.com/         1996       New York   \n",
      "509             http://www.weightwatchers.com/         1960        Jericho   \n",
      "512                 http://www.whitbygroup.com         2001         Ithaca   \n",
      "513                    http://www.wolfram.com/         1987      Champaign   \n",
      "514              http://www.wolterskluwer.com/         1836    Minneapolis   \n",
      "516                     http://www.xatori.com/         2010     Menlo Park   \n",
      "520                      http://www.yahoo.com/         1994      Sunnyvale   \n",
      "522                       http://www.yelp.com/         2004  San Francisco   \n",
      "524                     http://www.zillow.com/         2006        Seattle   \n",
      "525                     http://www.zocdoc.com/         2007       New York   \n",
      "528                   http://www.zurichna.com/         1912     Schaumburg   \n",
      "\n",
      "0   state          size company_type           company_category  \\\n",
      "3      MA   1,001-5,000      Private      Research & Consulting   \n",
      "17     WA       10,001+       Public            Data/Technology   \n",
      "27     CA          1-10      Private             Transportation   \n",
      "44     NE  5,001-10,000       Public       Finance & Investment   \n",
      "47     WA       10,001+      Private            Data/Technology   \n",
      "94     NY          1-10       Public                 Healthcare   \n",
      "103    DC     501-1,000    Nonprofit       Finance & Investment   \n",
      "104    NY   1,001-5,000    Nonprofit                  Education   \n",
      "113    NY     501-1,000    Nonprofit       Lifestyle & Consumer   \n",
      "116    CA   1,001-5,000       Public        Housing/Real Estate   \n",
      "120    CA         11-50      Private            Data/Technology   \n",
      "133    NJ   1,001-5,000       Public  Business & Legal Services   \n",
      "154    CA   1,001-5,000      Private         Geospatial/Mapping   \n",
      "178    CA       10,001+      Private            Data/Technology   \n",
      "200    IL          1-10      Private                 Governance   \n",
      "201    MA        51-200      Private      Research & Consulting   \n",
      "208    FL       10,001+       Public      Environment & Weather   \n",
      "211    CO     501-1,000      Private                 Healthcare   \n",
      "216    IL  5,001-10,000      Private         Geospatial/Mapping   \n",
      "221    NY       10,001+       Public            Data/Technology   \n",
      "234    MA        51-200      Private        Scientific Research   \n",
      "257    CA          1-10      Private            Data/Technology   \n",
      "266    DC          1-10       Public                 Governance   \n",
      "283    CT         11-50      Private            Data/Technology   \n",
      "297    NY       10,001+       Public       Finance & Investment   \n",
      "313    NH   1,001-5,000      Private         Geospatial/Mapping   \n",
      "317    MA     501-1,000      Private                     Energy   \n",
      "349    NY       10,001+      Private             Transportation   \n",
      "388    IL       10,001+       Public  Business & Legal Services   \n",
      "400    VA     501-1,000      Private            Data/Technology   \n",
      "..    ...           ...          ...                        ...   \n",
      "445    NY         11-50      Private  Business & Legal Services   \n",
      "453    NJ   1,001-5,000      Private             Transportation   \n",
      "456    MD  5,001-10,000       Public       Finance & Investment   \n",
      "457    WA   1,001-5,000       Public            Data/Technology   \n",
      "459    CA     501-1,000       Public         Geospatial/Mapping   \n",
      "462    DC   1,001-5,000       Public      Research & Consulting   \n",
      "465    CA          1-10      Private       Finance & Investment   \n",
      "467    PA       10,001+      Private       Finance & Investment   \n",
      "470    NY       10,001+       Public  Business & Legal Services   \n",
      "474    IL   1,001-5,000      Private  Business & Legal Services   \n",
      "479    CA       201-500       Public        Housing/Real Estate   \n",
      "482    CA   1,001-5,000      Private             Transportation   \n",
      "487    MA          1-10      Private                     Energy   \n",
      "488    DC       201-500      Private                  Education   \n",
      "489    TX       10,001+      Private       Finance & Investment   \n",
      "491    CA          1-10      Private            Data/Technology   \n",
      "492    CA        51-200      Private                  Insurance   \n",
      "503    GA   1,001-5,000       Public      Environment & Weather   \n",
      "506    IA     501-1,000      Private       Finance & Investment   \n",
      "508    NY   1,001-5,000       Public                 Healthcare   \n",
      "509    NY       10,001+       Public       Lifestyle & Consumer   \n",
      "512    NY         11-50      Private      Research & Consulting   \n",
      "513    IL     501-1,000      Private            Data/Technology   \n",
      "514    MN       10,001+       Public  Business & Legal Services   \n",
      "516    CA          1-10      Private                     Energy   \n",
      "520    CA       10,001+       Public       Lifestyle & Consumer   \n",
      "522    CA   1,001-5,000       Public       Lifestyle & Consumer   \n",
      "524    WA   1,001-5,000       Public        Housing/Real Estate   \n",
      "525    NY     501-1,000      Private                 Healthcare   \n",
      "528    IL       10,001+       Public                  Insurance   \n",
      "\n",
      "0   business_model  b2b  b2c  b2g  b2n  academia  nonprofit  \n",
      "3              NaN    0    0    0    0         0          0  \n",
      "17             NaN    0    0    0    0         0          0  \n",
      "27             NaN    0    0    0    0         0          0  \n",
      "44             NaN    0    0    0    0         0          0  \n",
      "47             NaN    0    0    0    0         0          0  \n",
      "94             NaN    0    0    0    0         0          0  \n",
      "103            NaN    0    0    0    0         0          0  \n",
      "104            NaN    0    0    0    0         0          0  \n",
      "113            NaN    0    0    0    0         0          0  \n",
      "116            NaN    0    0    0    0         0          0  \n",
      "120            NaN    0    0    0    0         0          0  \n",
      "133            NaN    0    0    0    0         0          0  \n",
      "154            NaN    0    0    0    0         0          0  \n",
      "178            NaN    0    0    0    0         0          0  \n",
      "200            NaN    0    0    0    0         0          0  \n",
      "201            NaN    0    0    0    0         0          0  \n",
      "208            NaN    0    0    0    0         0          0  \n",
      "211            NaN    0    0    0    0         0          0  \n",
      "216            NaN    0    0    0    0         0          0  \n",
      "221            NaN    0    0    0    0         0          0  \n",
      "234            NaN    0    0    0    0         0          0  \n",
      "257            NaN    0    0    0    0         0          0  \n",
      "266            NaN    0    0    0    0         0          0  \n",
      "283            NaN    0    0    0    0         0          0  \n",
      "297            NaN    0    0    0    0         0          0  \n",
      "313            NaN    0    0    0    0         0          0  \n",
      "317            NaN    0    0    0    0         0          0  \n",
      "349            NaN    0    0    0    0         0          0  \n",
      "388            NaN    0    0    0    0         0          0  \n",
      "400            NaN    0    0    0    0         0          0  \n",
      "..             ...  ...  ...  ...  ...       ...        ...  \n",
      "445            NaN    0    0    0    0         0          0  \n",
      "453            NaN    0    0    0    0         0          0  \n",
      "456            NaN    0    0    0    0         0          0  \n",
      "457            NaN    0    0    0    0         0          0  \n",
      "459            NaN    0    0    0    0         0          0  \n",
      "462            NaN    0    0    0    0         0          0  \n",
      "465            NaN    0    0    0    0         0          0  \n",
      "467            NaN    0    0    0    0         0          0  \n",
      "470            NaN    0    0    0    0         0          0  \n",
      "474            NaN    0    0    0    0         0          0  \n",
      "479            NaN    0    0    0    0         0          0  \n",
      "482            NaN    0    0    0    0         0          0  \n",
      "487            NaN    0    0    0    0         0          0  \n",
      "488            NaN    0    0    0    0         0          0  \n",
      "489            NaN    0    0    0    0         0          0  \n",
      "491            NaN    0    0    0    0         0          0  \n",
      "492            NaN    0    0    0    0         0          0  \n",
      "503            NaN    0    0    0    0         0          0  \n",
      "506            NaN    0    0    0    0         0          0  \n",
      "508            NaN    0    0    0    0         0          0  \n",
      "509            NaN    0    0    0    0         0          0  \n",
      "512            NaN    0    0    0    0         0          0  \n",
      "513            NaN    0    0    0    0         0          0  \n",
      "514            NaN    0    0    0    0         0          0  \n",
      "516            NaN    0    0    0    0         0          0  \n",
      "520            NaN    0    0    0    0         0          0  \n",
      "522            NaN    0    0    0    0         0          0  \n",
      "524            NaN    0    0    0    0         0          0  \n",
      "525            NaN    0    0    0    0         0          0  \n",
      "528            NaN    0    0    0    0         0          0  \n",
      "\n",
      "[66 rows x 15 columns]\n"
     ]
    }
   ],
   "source": [
    "## It is very complicated to  look up the companies online and find the business model, so those rows will be dropped\n",
    "# Yes, we just realized we should have dropped them earlier\n",
    "print('Very complicated to find business model information online. The following companies will be dropped:\\n', df[df['business_model'].isnull()])\n",
    "bmIndex = df[df['business_model'].isnull()].index\n",
    "df.drop(index = bmIndex, axis = 0, inplace = True)"
   ]
  },
  {
   "cell_type": "markdown",
   "metadata": {},
   "source": [
    "___"
   ]
  },
  {
   "cell_type": "markdown",
   "metadata": {},
   "source": [
    "# Checking the shape of the dataframe after handling all missing or wrong values"
   ]
  },
  {
   "cell_type": "code",
   "execution_count": 438,
   "metadata": {},
   "outputs": [
    {
     "name": "stdout",
     "output_type": "stream",
     "text": [
      "drop columns we don't need anymore: url, business model\n"
     ]
    }
   ],
   "source": [
    "print(\"drop columns we don't need anymore: url, business model\")\n",
    "df.drop(columns = ['url', 'business_model'], axis = 1, inplace = True)\n",
    "df.reset_index(drop = True, inplace = True)"
   ]
  },
  {
   "cell_type": "code",
   "execution_count": 439,
   "metadata": {},
   "outputs": [
    {
     "name": "stdout",
     "output_type": "stream",
     "text": [
      "After handling and inputting wrong/missing values, shape is: (441, 13) \n",
      "\n",
      "checking if there are any missing values\n",
      " 0\n",
      "company_name        False\n",
      "year_founded        False\n",
      "city                False\n",
      "state               False\n",
      "size                False\n",
      "company_type        False\n",
      "company_category    False\n",
      "b2b                 False\n",
      "b2c                 False\n",
      "b2g                 False\n",
      "b2n                 False\n",
      "academia            False\n",
      "nonprofit           False\n",
      "dtype: bool \n",
      "\n",
      "<class 'pandas.core.frame.DataFrame'>\n",
      "RangeIndex: 441 entries, 0 to 440\n",
      "Data columns (total 13 columns):\n",
      "company_name        441 non-null object\n",
      "year_founded        441 non-null object\n",
      "city                441 non-null object\n",
      "state               441 non-null object\n",
      "size                441 non-null object\n",
      "company_type        441 non-null object\n",
      "company_category    441 non-null object\n",
      "b2b                 441 non-null int64\n",
      "b2c                 441 non-null int64\n",
      "b2g                 441 non-null int64\n",
      "b2n                 441 non-null int64\n",
      "academia            441 non-null int64\n",
      "nonprofit           441 non-null int64\n",
      "dtypes: int64(6), object(7)\n",
      "memory usage: 44.9+ KB\n",
      "checking number of rows to be the same for each column None \n",
      "\n"
     ]
    }
   ],
   "source": [
    "print('After handling and inputting wrong/missing values, shape is:', df.shape, '\\n')\n",
    "print('checking if there are any missing values\\n', df.isnull().any(), '\\n')\n",
    "print('checking number of rows to be the same for each column', df.info(), '\\n')"
   ]
  },
  {
   "cell_type": "code",
   "execution_count": 440,
   "metadata": {},
   "outputs": [
    {
     "name": "stdout",
     "output_type": "stream",
     "text": [
      "\n",
      "\n",
      "\n",
      "_______________________________________________________________________________________________\n"
     ]
    }
   ],
   "source": [
    "print('\\n\\n')\n",
    "print('_______________________________________________________________________________________________')"
   ]
  },
  {
   "cell_type": "markdown",
   "metadata": {},
   "source": [
    "___"
   ]
  },
  {
   "cell_type": "markdown",
   "metadata": {},
   "source": [
    "## We plan on adding two more columns: one focused on the revenue each company makes and the other on the amount of funding/budget private companies have. We will be using webcrawling tools to try to retrieve that information for each company."
   ]
  },
  {
   "cell_type": "markdown",
   "metadata": {},
   "source": [
    "# Project part 3"
   ]
  },
  {
   "cell_type": "markdown",
   "metadata": {},
   "source": [
    "## Unfortunately webcrawling was harder than expected, so we manually added the revenue (in millions) column and for some company a 'money_raised' column just in case we need it to answer some future questions."
   ]
  },
  {
   "cell_type": "code",
   "execution_count": 441,
   "metadata": {},
   "outputs": [
    {
     "name": "stdout",
     "output_type": "stream",
     "text": [
      "Revenue and money raised columns were added manually to new dataframe.\n",
      "\n",
      "\n",
      "Money raised column is missing a lot of values, but we will keep it to see if we can use it in the future.\n"
     ]
    },
    {
     "data": {
      "text/html": [
       "<div>\n",
       "<style scoped>\n",
       "    .dataframe tbody tr th:only-of-type {\n",
       "        vertical-align: middle;\n",
       "    }\n",
       "\n",
       "    .dataframe tbody tr th {\n",
       "        vertical-align: top;\n",
       "    }\n",
       "\n",
       "    .dataframe thead th {\n",
       "        text-align: right;\n",
       "    }\n",
       "</style>\n",
       "<table border=\"1\" class=\"dataframe\">\n",
       "  <thead>\n",
       "    <tr style=\"text-align: right;\">\n",
       "      <th></th>\n",
       "      <th>0</th>\n",
       "      <th>1</th>\n",
       "      <th>2</th>\n",
       "      <th>3</th>\n",
       "      <th>4</th>\n",
       "      <th>5</th>\n",
       "      <th>6</th>\n",
       "      <th>7</th>\n",
       "      <th>8</th>\n",
       "      <th>9</th>\n",
       "      <th>10</th>\n",
       "      <th>11</th>\n",
       "      <th>12</th>\n",
       "      <th>13</th>\n",
       "      <th>14</th>\n",
       "      <th>15</th>\n",
       "    </tr>\n",
       "  </thead>\n",
       "  <tbody>\n",
       "    <tr>\n",
       "      <th>0</th>\n",
       "      <td>NaN</td>\n",
       "      <td>company_name</td>\n",
       "      <td>year_founded</td>\n",
       "      <td>city</td>\n",
       "      <td>state</td>\n",
       "      <td>size</td>\n",
       "      <td>company_type</td>\n",
       "      <td>company_category</td>\n",
       "      <td>b2b</td>\n",
       "      <td>b2c</td>\n",
       "      <td>b2g</td>\n",
       "      <td>b2n</td>\n",
       "      <td>academia</td>\n",
       "      <td>nonprofit</td>\n",
       "      <td>money_raised</td>\n",
       "      <td>revenue</td>\n",
       "    </tr>\n",
       "    <tr>\n",
       "      <th>1</th>\n",
       "      <td>0.0</td>\n",
       "      <td>3 Round Stones, Inc.</td>\n",
       "      <td>2010</td>\n",
       "      <td>Washington</td>\n",
       "      <td>DC</td>\n",
       "      <td>10-Jan</td>\n",
       "      <td>Private</td>\n",
       "      <td>Data/Technology</td>\n",
       "      <td>1</td>\n",
       "      <td>1</td>\n",
       "      <td>0</td>\n",
       "      <td>0</td>\n",
       "      <td>0</td>\n",
       "      <td>0</td>\n",
       "      <td>NaN</td>\n",
       "      <td>NaN</td>\n",
       "    </tr>\n",
       "    <tr>\n",
       "      <th>2</th>\n",
       "      <td>1.0</td>\n",
       "      <td>48 Factoring Inc.</td>\n",
       "      <td>2014</td>\n",
       "      <td>Philadelphia</td>\n",
       "      <td>PA</td>\n",
       "      <td>51-200</td>\n",
       "      <td>Private</td>\n",
       "      <td>Finance &amp; Investment</td>\n",
       "      <td>1</td>\n",
       "      <td>0</td>\n",
       "      <td>0</td>\n",
       "      <td>0</td>\n",
       "      <td>0</td>\n",
       "      <td>0</td>\n",
       "      <td>NaN</td>\n",
       "      <td>0.5</td>\n",
       "    </tr>\n",
       "    <tr>\n",
       "      <th>3</th>\n",
       "      <td>2.0</td>\n",
       "      <td>5PSolutions</td>\n",
       "      <td>2007</td>\n",
       "      <td>Fairfax</td>\n",
       "      <td>VA</td>\n",
       "      <td>10-Jan</td>\n",
       "      <td>Private</td>\n",
       "      <td>Data/Technology</td>\n",
       "      <td>1</td>\n",
       "      <td>1</td>\n",
       "      <td>1</td>\n",
       "      <td>0</td>\n",
       "      <td>0</td>\n",
       "      <td>0</td>\n",
       "      <td>NaN</td>\n",
       "      <td>0.5</td>\n",
       "    </tr>\n",
       "    <tr>\n",
       "      <th>4</th>\n",
       "      <td>3.0</td>\n",
       "      <td>Accela</td>\n",
       "      <td>1999</td>\n",
       "      <td>San Ramon</td>\n",
       "      <td>CA</td>\n",
       "      <td>501-1,000</td>\n",
       "      <td>Private</td>\n",
       "      <td>Governance</td>\n",
       "      <td>0</td>\n",
       "      <td>1</td>\n",
       "      <td>0</td>\n",
       "      <td>0</td>\n",
       "      <td>0</td>\n",
       "      <td>0</td>\n",
       "      <td>NaN</td>\n",
       "      <td>80</td>\n",
       "    </tr>\n",
       "  </tbody>\n",
       "</table>\n",
       "</div>"
      ],
      "text/plain": [
       "    0                     1             2             3      4          5   \\\n",
       "0  NaN          company_name  year_founded          city  state       size   \n",
       "1  0.0  3 Round Stones, Inc.          2010    Washington     DC     10-Jan   \n",
       "2  1.0     48 Factoring Inc.          2014  Philadelphia     PA     51-200   \n",
       "3  2.0           5PSolutions          2007       Fairfax     VA     10-Jan   \n",
       "4  3.0                Accela          1999     San Ramon     CA  501-1,000   \n",
       "\n",
       "             6                     7    8    9    10   11        12  \\\n",
       "0  company_type      company_category  b2b  b2c  b2g  b2n  academia   \n",
       "1       Private       Data/Technology    1    1    0    0         0   \n",
       "2       Private  Finance & Investment    1    0    0    0         0   \n",
       "3       Private       Data/Technology    1    1    1    0         0   \n",
       "4       Private            Governance    0    1    0    0         0   \n",
       "\n",
       "          13            14       15  \n",
       "0  nonprofit  money_raised  revenue  \n",
       "1          0           NaN      NaN  \n",
       "2          0           NaN      0.5  \n",
       "3          0           NaN      0.5  \n",
       "4          0           NaN       80  "
      ]
     },
     "execution_count": 441,
     "metadata": {},
     "output_type": "execute_result"
    }
   ],
   "source": [
    "print('Revenue and money raised columns were added manually to new dataframe.\\n\\n')\n",
    "print('Money raised column is missing a lot of values, but we will keep it to see if we can use it in the future.')\n",
    "\n",
    "datafnRevenue = 'RevenueFundsFinal.csv'\n",
    "\n",
    "dfRevenue = pd.read_csv(datafnRevenue, na_values = ['?'], header = None)\n",
    "\n",
    "# check first five rows of the dataset\n",
    "dfRevenue.head()"
   ]
  },
  {
   "cell_type": "code",
   "execution_count": 442,
   "metadata": {},
   "outputs": [],
   "source": [
    "# setting the elements in the first row as column names\n",
    "dfRevenue.columns = dfRevenue.iloc[0]\n",
    "\n",
    "# dropping the first row since now we have the correct column names\n",
    "dfRevenue.drop(axis = 0, index = 0, inplace = True)\n",
    "dfRevenue.reset_index(drop = True, inplace = True)\n"
   ]
  },
  {
   "cell_type": "code",
   "execution_count": 443,
   "metadata": {},
   "outputs": [],
   "source": [
    "dfRevenue = dfRevenue.loc[:,'money_raised':'revenue']"
   ]
  },
  {
   "cell_type": "code",
   "execution_count": 444,
   "metadata": {},
   "outputs": [
    {
     "name": "stdout",
     "output_type": "stream",
     "text": [
      "Added new columns to our main dataframe\n",
      " Index(['company_name', 'year_founded', 'city', 'state', 'size', 'company_type',\n",
      "       'company_category', 'b2b', 'b2c', 'b2g', 'b2n', 'academia', 'nonprofit',\n",
      "       'money_raised', 'revenue'],\n",
      "      dtype='object', name=0)\n"
     ]
    }
   ],
   "source": [
    "df[dfRevenue.columns] = dfRevenue\n",
    "print('Added new columns to our main dataframe\\n', df.columns)"
   ]
  },
  {
   "cell_type": "code",
   "execution_count": 445,
   "metadata": {},
   "outputs": [
    {
     "name": "stdout",
     "output_type": "stream",
     "text": [
      "Drop companies index that do not have revenue: Int64Index([  0,   7,   8,  25,  51,  93,  97, 101, 138, 159, 170, 174, 177,\n",
      "            241, 280, 313, 315, 318, 323, 329, 334, 350, 355, 366, 397, 401,\n",
      "            407, 411, 418, 419, 425, 426, 430, 432, 433, 438, 439, 440],\n",
      "           dtype='int64')\n"
     ]
    }
   ],
   "source": [
    "# companies that don't have revenue values will be dropped\n",
    "df.loc[(df['revenue'].isnull())].index\n",
    "revenuesDrop = df.loc[(df['revenue'].isnull())].index\n",
    "print('Drop companies index that do not have revenue:', revenuesDrop)"
   ]
  },
  {
   "cell_type": "code",
   "execution_count": 446,
   "metadata": {},
   "outputs": [],
   "source": [
    "df.drop(index = revenuesDrop, axis = 0, inplace = True)\n",
    "dfRevenue.reset_index(drop = True, inplace = True)\n",
    "df.reset_index(drop = True, inplace = True)"
   ]
  },
  {
   "cell_type": "markdown",
   "metadata": {},
   "source": [
    "___"
   ]
  },
  {
   "cell_type": "code",
   "execution_count": 447,
   "metadata": {},
   "outputs": [
    {
     "name": "stdout",
     "output_type": "stream",
     "text": [
      "Transforming categorical data into numerical data\n",
      "\n",
      "\n"
     ]
    }
   ],
   "source": [
    "print('Transforming categorical data into numerical data\\n\\n')"
   ]
  },
  {
   "cell_type": "code",
   "execution_count": 448,
   "metadata": {},
   "outputs": [],
   "source": [
    "# Size column"
   ]
  },
  {
   "cell_type": "code",
   "execution_count": 449,
   "metadata": {},
   "outputs": [],
   "source": [
    "val_table = []\n",
    "for value in df['size']:\n",
    "    vals = value.split('-')\n",
    "    for v in range(len(vals)):\n",
    "        vals[v] = int(vals[v].strip(\"+\").replace(\",\", \"\"))\n",
    "    val_table.append(vals)"
   ]
  },
  {
   "cell_type": "code",
   "execution_count": 450,
   "metadata": {},
   "outputs": [
    {
     "name": "stdout",
     "output_type": "stream",
     "text": [
      "size column with numerical values\n",
      " 5        123\n",
      "30        99\n",
      "125       81\n",
      "10001     37\n",
      "350       23\n",
      "3000      15\n",
      "7500      14\n",
      "750       11\n",
      "Name: size, dtype: int64\n"
     ]
    }
   ],
   "source": [
    "count = 0\n",
    "for v in val_table:\n",
    "    if len(v) == 1:\n",
    "        val_table[count] = v[0]\n",
    "    else:\n",
    "        val_table[count] = int(np.median([v[0], v[1]]))\n",
    "    count+=1\n",
    "\n",
    "df['size'] = val_table\n",
    "print('size column with numerical values\\n', df['size'].value_counts())"
   ]
  },
  {
   "cell_type": "markdown",
   "metadata": {},
   "source": [
    "___"
   ]
  },
  {
   "cell_type": "code",
   "execution_count": 451,
   "metadata": {},
   "outputs": [
    {
     "name": "stdout",
     "output_type": "stream",
     "text": [
      "columns to convert from categorical to numerical ['state', 'company_type', 'company_category']\n"
     ]
    }
   ],
   "source": [
    "# columns to encode\n",
    "catColumns = ['state', 'company_type', 'company_category']\n",
    "print('columns to convert from categorical to numerical', catColumns)"
   ]
  },
  {
   "cell_type": "code",
   "execution_count": 452,
   "metadata": {},
   "outputs": [
    {
     "name": "stdout",
     "output_type": "stream",
     "text": [
      "columns values to encode:\n",
      "['PA' 'VA' 'CA' 'IL' 'AR' 'NY' 'MA' 'IN' 'DC' 'RI' 'TX' 'WA' 'NC' 'WI'\n",
      " 'GA' 'CT' 'TN' 'MO' 'OH' 'NJ' 'CO' 'MD' 'MI' 'UT' 'FL' 'OR' 'KA' 'MT'\n",
      " 'AZ' 'ME' 'VT' 'MN' 'AL' 'NV' 'OK']\n",
      "['Private' 'Public' 'Other' 'Nonprofit']\n",
      "['Finance & Investment' 'Data/Technology' 'Governance'\n",
      " 'Research & Consulting' 'Environment & Weather' 'Healthcare'\n",
      " 'Lifestyle & Consumer' 'Transportation' 'Insurance' 'Education' 'Energy'\n",
      " 'Business & Legal Services' 'Scientific Research' 'Geospatial/Mapping'\n",
      " 'Housing/Real Estate' 'Food & Agriculture' 'Media'\n",
      " 'Aerospace and Defense']\n"
     ]
    }
   ],
   "source": [
    "print('columns values to encode:')\n",
    "for col in catColumns:\n",
    "    print(df[col].unique())"
   ]
  },
  {
   "cell_type": "markdown",
   "metadata": {},
   "source": [
    "___"
   ]
  },
  {
   "cell_type": "code",
   "execution_count": 453,
   "metadata": {},
   "outputs": [
    {
     "name": "stdout",
     "output_type": "stream",
     "text": [
      "encoded dataframe:\n",
      " 0       company_name year_founded           city  state   size  company_type  \\\n",
      "0  48 Factoring Inc.         2014   Philadelphia     26    125             2   \n",
      "1        5PSolutions         2007        Fairfax     31      5             2   \n",
      "2             Accela         1999      San Ramon      3    750             2   \n",
      "3          Accenture         1989        Chicago      9  10001             3   \n",
      "4        AccuWeather         1962  State College     26    350             2   \n",
      "\n",
      "0  company_category  b2b  b2c  b2g  b2n  academia  nonprofit money_raised  \\\n",
      "0                 6    1    0    0    0         0          0          NaN   \n",
      "1                 2    1    1    1    0         0          0          NaN   \n",
      "2                 9    0    1    0    0         0          0          NaN   \n",
      "3                15    1    0    0    0         0          0          NaN   \n",
      "4                 5    1    1    1    0         0          0          NaN   \n",
      "\n",
      "0 revenue  \n",
      "0     0.5  \n",
      "1     0.5  \n",
      "2      80  \n",
      "3   39600  \n",
      "4   58.77  \n",
      "company name, city, and money raised will be excluded when running models\n"
     ]
    }
   ],
   "source": [
    "dfEncoded = df.copy()\n",
    "from sklearn.preprocessing import LabelEncoder\n",
    "labelEnc = LabelEncoder()\n",
    "\n",
    "for column in catColumns :\n",
    "    dfEncoded[column] = labelEnc.fit_transform(dfEncoded[column])\n",
    "print('encoded dataframe:\\n', dfEncoded.head())\n",
    "print('company name, city, and money raised will be excluded when running models')"
   ]
  },
  {
   "cell_type": "code",
   "execution_count": 454,
   "metadata": {},
   "outputs": [],
   "source": [
    "# making all revenues integers\n",
    "df['revenue'] = df['revenue'].astype(float)\n",
    "df['revenue'] = df['revenue'].apply(np.ceil) \n",
    "dfEncoded['revenue'] = dfEncoded['revenue'].astype(float)\n",
    "dfEncoded['revenue'] = dfEncoded['revenue'].apply(np.ceil)\n"
   ]
  },
  {
   "cell_type": "markdown",
   "metadata": {},
   "source": [
    "___"
   ]
  },
  {
   "cell_type": "markdown",
   "metadata": {},
   "source": [
    "## Creating age of company column to use later"
   ]
  },
  {
   "cell_type": "code",
   "execution_count": 455,
   "metadata": {},
   "outputs": [
    {
     "name": "stdout",
     "output_type": "stream",
     "text": [
      "Creating age of company column to use later\n"
     ]
    }
   ],
   "source": [
    "print('Creating age of company column to use later')"
   ]
  },
  {
   "cell_type": "code",
   "execution_count": 456,
   "metadata": {},
   "outputs": [
    {
     "name": "stdout",
     "output_type": "stream",
     "text": [
      "checking new age column. First 5 rows:\n",
      " 0     3\n",
      "1    10\n",
      "2    18\n",
      "3    28\n",
      "4    55\n",
      "Name: age, dtype: int32 \n",
      "\n"
     ]
    }
   ],
   "source": [
    "df['age'] = 2017 - df['year_founded'].astype(int)\n",
    "dfEncoded['age'] = 2017 - dfEncoded['year_founded'].astype(int)\n",
    "print('checking new age column. First 5 rows:\\n', dfEncoded.loc[0:4,'age'], '\\n')"
   ]
  },
  {
   "cell_type": "markdown",
   "metadata": {},
   "source": [
    "___"
   ]
  },
  {
   "cell_type": "code",
   "execution_count": 457,
   "metadata": {},
   "outputs": [
    {
     "name": "stdout",
     "output_type": "stream",
     "text": [
      "_____________________________________________________________________________\n",
      "\n",
      "\n",
      "\n",
      "\n"
     ]
    }
   ],
   "source": [
    "print('_____________________________________________________________________________')\n",
    "print('\\n\\n\\n')"
   ]
  },
  {
   "cell_type": "markdown",
   "metadata": {},
   "source": [
    "## We are finding the ratio between revenue and size to get revenue per employee.\n",
    "\n",
    "We need to multiply the revenue by 1000 because the classification model might need integers instead of float.\n",
    "\n",
    "## Employee value (thousands of dollars)"
   ]
  },
  {
   "cell_type": "code",
   "execution_count": 458,
   "metadata": {},
   "outputs": [
    {
     "name": "stdout",
     "output_type": "stream",
     "text": [
      "We are finding the ratio between revenue and size to get revenue per employee.\n",
      "We need to multiply the revenue by 1000 because the classification model might need integers instead of float. Therefore, we will have employee value in thousands of dollars\n",
      "From the employee value we will obtain the degree of success column.\n",
      "\n",
      "\n"
     ]
    }
   ],
   "source": [
    "print('We are finding the ratio between revenue and size to get revenue per employee.')\n",
    "print('We need to multiply the revenue by 1000 because the classification model might need integers instead of float. Therefore, we will have employee value in thousands of dollars')\n",
    "print('From the employee value we will obtain the degree of success column.\\n\\n')"
   ]
  },
  {
   "cell_type": "code",
   "execution_count": 459,
   "metadata": {},
   "outputs": [],
   "source": [
    "ratio = (df['revenue']/df['size'])\n",
    "df['empl_val'] = (ratio * 1000).apply(np.ceil).astype(int)\n",
    "\n",
    "ratio = (dfEncoded['revenue']/dfEncoded['size'])\n",
    "dfEncoded['empl_val'] = (ratio * 1000).apply(np.ceil).astype(int)"
   ]
  },
  {
   "cell_type": "markdown",
   "metadata": {},
   "source": [
    "Creating ratio between revenue and size to create success column (thousands of dollars)\n",
    "\n",
    "Either:\n",
    "\n",
    "     1 000 000+ 5 Very successful\n",
    "     999 999 - 100 000 4 Succesful\n",
    "     99 999 - 10 000 3 Average success\n",
    "     9 999 - 1 000 2 Decent\n",
    "     999 - 100 1 Growing or less success\n",
    "     99 - 0 0 Either just beginning or no success\n",
    "    \n",
    "Or:\n",
    "\n",
    "     100 000+: 2 Succesful\n",
    "     99 999 - 1 000: 1 Average\n",
    "     999 - 0: 0 Either just beginning or no success"
   ]
  },
  {
   "cell_type": "code",
   "execution_count": 460,
   "metadata": {},
   "outputs": [
    {
     "name": "stdout",
     "output_type": "stream",
     "text": [
      "looking at revenue values to see where to make the boundaries for degree of success\n",
      "244    12960000\n",
      "226     7880000\n",
      "281     4880000\n",
      "206     3626667\n",
      "210     2423334\n",
      "264     2200000\n",
      "114     1840000\n",
      "247     1400000\n",
      "44       603334\n",
      "109      487000\n",
      "257      372000\n",
      "104      345600\n",
      "241      293334\n",
      "132      280000\n",
      "216      211200\n",
      "357      134000\n",
      "223      120400\n",
      "313      115715\n",
      "339      106667\n",
      "39        99928\n",
      "51        75200\n",
      "326       71400\n",
      "271       69800\n",
      "270       66667\n",
      "383       64600\n",
      "184       60000\n",
      "289       59600\n",
      "165       50000\n",
      "65        41144\n",
      "122       40800\n",
      "162       33334\n",
      "191       31900\n",
      "72        23891\n",
      "229       20600\n",
      "234       20000\n",
      "173       19400\n",
      "185       16200\n",
      "361       15800\n",
      "141       15200\n",
      "8         15139\n",
      "110       12000\n",
      "59        11600\n",
      "322       11500\n",
      "146       11500\n",
      "54        10992\n",
      "338        9400\n",
      "205        8867\n",
      "119        8400\n",
      "53         7134\n",
      "377        6400\n",
      "129        6267\n",
      "89         6200\n",
      "390        6000\n",
      "255        5400\n",
      "250        5387\n",
      "37         5167\n",
      "181        5000\n",
      "354        5000\n",
      "94         5000\n",
      "391        5000\n",
      "203        4800\n",
      "200        4800\n",
      "213        4800\n",
      "124        4187\n",
      "348        4000\n",
      "374        4000\n",
      "3          3960\n",
      "10         3853\n",
      "194        3808\n",
      "192        3800\n",
      "295        3800\n",
      "225        3734\n",
      "31         3600\n",
      "311        3334\n",
      "71         3300\n",
      "26         3167\n",
      "398        3034\n",
      "307        3000\n",
      "352        3000\n",
      "214        2600\n",
      "150        2534\n",
      "240        2400\n",
      "21         2200\n",
      "128        2200\n",
      "284        2200\n",
      "278        2200\n",
      "333        2200\n",
      "120        2067\n",
      "127        2032\n",
      "92         2000\n",
      "380        2000\n",
      "337        2000\n",
      "63         2000\n",
      "350        2000\n",
      "275        2000\n",
      "78         1800\n",
      "330        1700\n",
      "134        1667\n",
      "115        1600\n",
      "102        1600\n",
      "375        1600\n",
      "147        1600\n",
      "151        1600\n",
      "379        1600\n",
      "336        1512\n",
      "75         1400\n",
      "211        1400\n",
      "267        1400\n",
      "131        1200\n",
      "342        1200\n",
      "239        1200\n",
      "105        1200\n",
      "360        1200\n",
      "166        1200\n",
      "260        1200\n",
      "236        1167\n",
      "68         1115\n",
      "382        1067\n",
      "152        1067\n",
      "90         1034\n",
      "159        1034\n",
      "365        1000\n",
      "161        1000\n",
      "265        1000\n",
      "14         1000\n",
      "202        1000\n",
      "155        1000\n",
      "177        1000\n",
      "58         1000\n",
      "321        1000\n",
      "304        1000\n",
      "293        1000\n",
      "48         1000\n",
      "7           969\n",
      "69          930\n",
      "67          920\n",
      "176         900\n",
      "157         834\n",
      "344         834\n",
      "256         800\n",
      "327         800\n",
      "394         800\n",
      "308         800\n",
      "292         800\n",
      "60          800\n",
      "217         784\n",
      "81          744\n",
      "42          630\n",
      "41          618\n",
      "108         600\n",
      "309         600\n",
      "224         600\n",
      "305         600\n",
      "76          600\n",
      "277         600\n",
      "373         600\n",
      "399         600\n",
      "18          600\n",
      "378         600\n",
      "388         600\n",
      "35          600\n",
      "188         534\n",
      "24          534\n",
      "99          534\n",
      "195         480\n",
      "249         440\n",
      "19          434\n",
      "178         434\n",
      "66          434\n",
      "137         434\n",
      "158         400\n",
      "215         400\n",
      "334         400\n",
      "386         400\n",
      "395         400\n",
      "190         400\n",
      "95          400\n",
      "182         400\n",
      "118         400\n",
      "299         400\n",
      "86          400\n",
      "88          400\n",
      "96          386\n",
      "323         384\n",
      "117         367\n",
      "107         367\n",
      "170         360\n",
      "262         334\n",
      "362         334\n",
      "381         300\n",
      "36          300\n",
      "351         300\n",
      "121         294\n",
      "34          272\n",
      "13          267\n",
      "279         267\n",
      "64          267\n",
      "387         267\n",
      "49          264\n",
      "306         234\n",
      "15          234\n",
      "402         234\n",
      "82          208\n",
      "174         200\n",
      "11          200\n",
      "168         200\n",
      "56          200\n",
      "180         200\n",
      "77          200\n",
      "79          200\n",
      "6           200\n",
      "84          200\n",
      "1           200\n",
      "47          200\n",
      "201         200\n",
      "370         200\n",
      "335         200\n",
      "233         200\n",
      "263         200\n",
      "315         200\n",
      "358         200\n",
      "355         200\n",
      "209         200\n",
      "282         200\n",
      "396         200\n",
      "400         200\n",
      "302         200\n",
      "300         200\n",
      "40          198\n",
      "376         192\n",
      "222         184\n",
      "4           169\n",
      "317         167\n",
      "237         167\n",
      "235         167\n",
      "347         167\n",
      "345         167\n",
      "97          167\n",
      "320         167\n",
      "280         167\n",
      "85          152\n",
      "328         136\n",
      "153         134\n",
      "371         134\n",
      "254         134\n",
      "25          134\n",
      "368         134\n",
      "369         134\n",
      "179         134\n",
      "169         128\n",
      "5           123\n",
      "301         120\n",
      "2           107\n",
      "17          100\n",
      "16          100\n",
      "232         100\n",
      "364         100\n",
      "297          96\n",
      "286          96\n",
      "29           96\n",
      "138          80\n",
      "28           80\n",
      "389          80\n",
      "142          80\n",
      "401          80\n",
      "140          72\n",
      "310          72\n",
      "221          67\n",
      "52           67\n",
      "183          67\n",
      "372          67\n",
      "296          67\n",
      "113          67\n",
      "294          64\n",
      "23           64\n",
      "46           64\n",
      "171          64\n",
      "196          59\n",
      "287          58\n",
      "204          56\n",
      "199          56\n",
      "125          56\n",
      "219          56\n",
      "149          56\n",
      "393          56\n",
      "135          48\n",
      "197          43\n",
      "133          40\n",
      "298          40\n",
      "290          40\n",
      "230          40\n",
      "367          38\n",
      "160          38\n",
      "156          34\n",
      "318          34\n",
      "346          34\n",
      "100          34\n",
      "103          34\n",
      "353          34\n",
      "319          34\n",
      "366          34\n",
      "266          34\n",
      "30           34\n",
      "283          33\n",
      "198          32\n",
      "87           32\n",
      "83           32\n",
      "91           32\n",
      "12           32\n",
      "33           32\n",
      "144          32\n",
      "62           32\n",
      "288          32\n",
      "148          27\n",
      "50           26\n",
      "363          24\n",
      "80           24\n",
      "303          24\n",
      "385          24\n",
      "356          24\n",
      "332          24\n",
      "70           24\n",
      "22           23\n",
      "101          23\n",
      "248          20\n",
      "343          18\n",
      "329          18\n",
      "231          18\n",
      "98           16\n",
      "285          16\n",
      "269          16\n",
      "145          16\n",
      "392          16\n",
      "172          16\n",
      "175          16\n",
      "243          15\n",
      "193          13\n",
      "349          12\n",
      "167           9\n",
      "32            8\n",
      "397           8\n",
      "57            8\n",
      "93            8\n",
      "0             8\n",
      "258           8\n",
      "312           8\n",
      "220           8\n",
      "228           8\n",
      "238           8\n",
      "112           8\n",
      "272           8\n",
      "276           8\n",
      "27            7\n",
      "20            6\n",
      "187           6\n",
      "143           5\n",
      "136           4\n",
      "246           4\n",
      "384           3\n",
      "291           3\n",
      "274           3\n",
      "273           3\n",
      "325           3\n",
      "123           3\n",
      "268           3\n",
      "251           2\n",
      "341           2\n",
      "252           2\n",
      "9             2\n",
      "253           2\n",
      "61            2\n",
      "261           2\n",
      "116           2\n",
      "316           2\n",
      "164           2\n",
      "359           2\n",
      "38            2\n",
      "45            2\n",
      "340           2\n",
      "163           1\n",
      "218           1\n",
      "212           1\n",
      "227           1\n",
      "208           1\n",
      "207           1\n",
      "55            1\n",
      "189           1\n",
      "154           1\n",
      "314           1\n",
      "139           1\n",
      "242           1\n",
      "245           1\n",
      "130           1\n",
      "126           1\n",
      "324           1\n",
      "259           1\n",
      "111           1\n",
      "73            1\n",
      "74            1\n",
      "106           1\n",
      "43            1\n",
      "186           1\n",
      "331           1\n",
      "Name: empl_val, dtype: int32\n"
     ]
    }
   ],
   "source": [
    "print('looking at revenue values to see where to make the boundaries for degree of success')\n",
    "with pd.option_context('display.max_rows', 999):\n",
    "    print (df['empl_val'].sort_values(ascending = False))\n",
    "    \n",
    "    # 1 000 000+ 5 Very successful\n",
    "    # 999 999 - 100 000 4 Succesful\n",
    "    # 99 999 - 10 000 3 Average success\n",
    "    # 9 999 - 1 000 2 Decent\n",
    "    # 999 - 100 1 Growing or less success\n",
    "    # 99 - 0 0 Either just beginning or no success\n",
    "    \n",
    "   \n",
    "    # 100 000+: 2 Succesful\n",
    "    # 99 999 - 1 000: 1 Average\n",
    "    # 999 - 0: 0 Either just beginning or no success"
   ]
  },
  {
   "cell_type": "code",
   "execution_count": 461,
   "metadata": {},
   "outputs": [
    {
     "name": "stdout",
     "output_type": "stream",
     "text": [
      "Our boundaries will be :\n",
      "\n",
      "100,000+: 2 Succesful\n",
      " 99,999 - 1,000: 1 Average or growing\n",
      " 999 - 0: 0 Either just beginning or no success\n"
     ]
    }
   ],
   "source": [
    "print('Our boundaries will be :\\n')\n",
    "print('100,000+: 2 Succesful\\n 99,999 - 1,000: 1 Average or growing\\n 999 - 0: 0 Either just beginning or no success')"
   ]
  },
  {
   "cell_type": "code",
   "execution_count": 462,
   "metadata": {},
   "outputs": [],
   "source": [
    "df['success'] = df['empl_val']\n",
    "ratio = df['success']\n",
    "\n",
    "\n",
    "\n",
    "dfEncoded['success'] = dfEncoded['empl_val']\n",
    "ratioE = dfEncoded['success']\n"
   ]
  },
  {
   "cell_type": "code",
   "execution_count": 463,
   "metadata": {
    "scrolled": true
   },
   "outputs": [
    {
     "name": "stdout",
     "output_type": "stream",
     "text": [
      "Checking degree of success column\n",
      " 0     0\n",
      "1     0\n",
      "2     0\n",
      "3     1\n",
      "4     0\n",
      "5     0\n",
      "6     0\n",
      "7     0\n",
      "8     1\n",
      "9     0\n",
      "10    1\n",
      "Name: success, dtype: int32\n",
      "Value counts for success column\n",
      " 0    270\n",
      "1    114\n",
      "2     19\n",
      "Name: success, dtype: int64\n"
     ]
    },
    {
     "name": "stderr",
     "output_type": "stream",
     "text": [
      "C:\\Users\\Mateus Maccieri\\Anaconda3\\lib\\site-packages\\ipykernel_launcher.py:1: SettingWithCopyWarning: \n",
      "A value is trying to be set on a copy of a slice from a DataFrame\n",
      "\n",
      "See the caveats in the documentation: http://pandas.pydata.org/pandas-docs/stable/indexing.html#indexing-view-versus-copy\n",
      "  \"\"\"Entry point for launching an IPython kernel.\n",
      "C:\\Users\\Mateus Maccieri\\Anaconda3\\lib\\site-packages\\ipykernel_launcher.py:2: SettingWithCopyWarning: \n",
      "A value is trying to be set on a copy of a slice from a DataFrame\n",
      "\n",
      "See the caveats in the documentation: http://pandas.pydata.org/pandas-docs/stable/indexing.html#indexing-view-versus-copy\n",
      "  \n",
      "C:\\Users\\Mateus Maccieri\\Anaconda3\\lib\\site-packages\\ipykernel_launcher.py:3: SettingWithCopyWarning: \n",
      "A value is trying to be set on a copy of a slice from a DataFrame\n",
      "\n",
      "See the caveats in the documentation: http://pandas.pydata.org/pandas-docs/stable/indexing.html#indexing-view-versus-copy\n",
      "  This is separate from the ipykernel package so we can avoid doing imports until\n",
      "C:\\Users\\Mateus Maccieri\\Anaconda3\\lib\\site-packages\\ipykernel_launcher.py:5: SettingWithCopyWarning: \n",
      "A value is trying to be set on a copy of a slice from a DataFrame\n",
      "\n",
      "See the caveats in the documentation: http://pandas.pydata.org/pandas-docs/stable/indexing.html#indexing-view-versus-copy\n",
      "  \"\"\"\n",
      "C:\\Users\\Mateus Maccieri\\Anaconda3\\lib\\site-packages\\ipykernel_launcher.py:6: SettingWithCopyWarning: \n",
      "A value is trying to be set on a copy of a slice from a DataFrame\n",
      "\n",
      "See the caveats in the documentation: http://pandas.pydata.org/pandas-docs/stable/indexing.html#indexing-view-versus-copy\n",
      "  \n",
      "C:\\Users\\Mateus Maccieri\\Anaconda3\\lib\\site-packages\\ipykernel_launcher.py:7: SettingWithCopyWarning: \n",
      "A value is trying to be set on a copy of a slice from a DataFrame\n",
      "\n",
      "See the caveats in the documentation: http://pandas.pydata.org/pandas-docs/stable/indexing.html#indexing-view-versus-copy\n",
      "  import sys\n"
     ]
    }
   ],
   "source": [
    "ratio[ratio < 1000] = 0\n",
    "ratio[(ratio >= 1000) & (ratio < 100000)] = 1\n",
    "ratio[ratio >= 100000] = 2\n",
    "\n",
    "ratioE[ratioE < 1000] = 0\n",
    "ratioE[(ratioE >= 1000) & (ratioE < 100000)] = 1\n",
    "ratioE[ratioE >= 100000] = 2\n",
    "\n",
    "print('Checking degree of success column\\n', df.loc[0:10,'success'])\n",
    "print('Value counts for success column\\n', df['success'].value_counts())"
   ]
  },
  {
   "cell_type": "code",
   "execution_count": 464,
   "metadata": {},
   "outputs": [
    {
     "name": "stdout",
     "output_type": "stream",
     "text": [
      "A company will be successful if its revenue/size ratio is greater than 1000 thousands of dollars. Meaning if each employee bring the company 1 billion a year\n",
      "\n"
     ]
    }
   ],
   "source": [
    "print('A company will be successful if its revenue/size ratio is greater than 1000 thousands of dollars. Meaning if each employee bring the company 1 billion a year\\n')"
   ]
  },
  {
   "cell_type": "code",
   "execution_count": 465,
   "metadata": {},
   "outputs": [
    {
     "name": "stdout",
     "output_type": "stream",
     "text": [
      "End of Preprocessing\n",
      "\n",
      "\n",
      "\n",
      "_____________________________________________________________________________________\n"
     ]
    }
   ],
   "source": [
    "# exporting dataframe into csv file\n",
    "df.to_csv('companiesProcessed.csv')\n",
    "dfEncoded.to_csv('companiesProcessedEncoded.csv')\n",
    "print(\"End of Preprocessing\\n\\n\\n\")\n",
    "print('_____________________________________________________________________________________')"
   ]
  },
  {
   "cell_type": "markdown",
   "metadata": {},
   "source": [
    "___"
   ]
  },
  {
   "cell_type": "code",
   "execution_count": 466,
   "metadata": {},
   "outputs": [
    {
     "name": "stdout",
     "output_type": "stream",
     "text": [
      "EDA\n",
      "\n",
      "\n",
      "\n",
      "\n"
     ]
    }
   ],
   "source": [
    "print('EDA')\n",
    "print('\\n\\n\\n')"
   ]
  },
  {
   "cell_type": "code",
   "execution_count": 467,
   "metadata": {},
   "outputs": [],
   "source": [
    "# data csv file contained in the same folder as the project\n",
    "datafn = 'companiesProcessed.csv'\n",
    "\n",
    "df = pd.read_csv(datafn, na_values = ['?'], header = None)\n"
   ]
  },
  {
   "cell_type": "code",
   "execution_count": 468,
   "metadata": {},
   "outputs": [
    {
     "name": "stdout",
     "output_type": "stream",
     "text": [
      "main dataframe\n",
      " 0       company_name year_founded           city state   size company_type  \\\n",
      "1  48 Factoring Inc.         2014   Philadelphia    PA    125      Private   \n",
      "2        5PSolutions         2007        Fairfax    VA      5      Private   \n",
      "3             Accela         1999      San Ramon    CA    750      Private   \n",
      "4          Accenture         1989        Chicago    IL  10001       Public   \n",
      "5        AccuWeather         1962  State College    PA    350      Private   \n",
      "\n",
      "0       company_category b2b b2c b2g b2n academia nonprofit money_raised  \\\n",
      "1   Finance & Investment   1   0   0   0        0         0          NaN   \n",
      "2        Data/Technology   1   1   1   0        0         0          NaN   \n",
      "3             Governance   0   1   0   0        0         0          NaN   \n",
      "4  Research & Consulting   1   0   0   0        0         0          NaN   \n",
      "5  Environment & Weather   1   1   1   0        0         0          NaN   \n",
      "\n",
      "0  revenue age empl_val success  \n",
      "1      1.0   3        8       0  \n",
      "2      1.0  10      200       0  \n",
      "3     80.0  18      107       0  \n",
      "4  39600.0  28     3960       1  \n",
      "5     59.0  55      169       0  \n"
     ]
    }
   ],
   "source": [
    "# setting the elements in the first row as column names\n",
    "df.columns = df.iloc[0]\n",
    "\n",
    "# dropping the first row since now we have the correct column names\n",
    "df.drop(axis = 0, index = 0, inplace = True)\n",
    "\n",
    "# dropping first column\n",
    "df.drop(columns = np.nan, axis = 1, inplace = True)\n",
    "\n",
    "# check first five rows of the dataset\n",
    "print('main dataframe\\n', df.head())"
   ]
  },
  {
   "cell_type": "markdown",
   "metadata": {},
   "source": [
    "___"
   ]
  },
  {
   "cell_type": "code",
   "execution_count": 469,
   "metadata": {},
   "outputs": [
    {
     "name": "stdout",
     "output_type": "stream",
     "text": [
      "value counts for company_name:\n",
      "\n",
      "Rapid Cycle Solutions                  1\n",
      "DataLogix                              1\n",
      "5PSolutions                            1\n",
      "ProPublica                             1\n",
      "Datamyne                               1\n",
      "SeeClickFix                            1\n",
      "Golden Helix                           1\n",
      "SigFig                                 1\n",
      "Boston Consulting Group                1\n",
      "Mozio                                  1\n",
      "DataMade                               1\n",
      "Vital Axiom | Niinja                   1\n",
      "PayScale, Inc.                         1\n",
      "Civis Analytics                        1\n",
      "Altova                                 1\n",
      "Ecodesk                                1\n",
      "Enervee Corporation                    1\n",
      "Docket Alarm, Inc.                     1\n",
      "Dow Jones & Co.                        1\n",
      "Revelstone                             1\n",
      "iMedicare                              1\n",
      "Ensco                                  1\n",
      "Farmers                                1\n",
      "Factset                                1\n",
      "Knoema                                 1\n",
      "Bridgewater                            1\n",
      "HealthPocket, Inc.                     1\n",
      "Merrill Corp.                          1\n",
      "CARFAX                                 1\n",
      "CGI                                    1\n",
      "                                      ..\n",
      "Rezolve Group                          1\n",
      "Way Better Patents                     1\n",
      "Microsoft Windows Azure Marketplace    1\n",
      "Healthline                             1\n",
      "Climate Corporation                    1\n",
      "SnapSense                              1\n",
      "Kaiser Permanante                      1\n",
      "OpportunitySpace, Inc.                 1\n",
      "Solar Census                           1\n",
      "Center for Responsive Politics         1\n",
      "Impact Forecasting (Aon)               1\n",
      "HealthMap                              1\n",
      "Fastcase                               1\n",
      "Accenture                              1\n",
      "AtSite                                 1\n",
      "First Fuel Software                    1\n",
      "Civic Impulse LLC                      1\n",
      "HelloWallet                            1\n",
      "OnStar                                 1\n",
      "McKinsey                               1\n",
      "Iodine                                 1\n",
      "Practice Fusion                        1\n",
      "Experian                               1\n",
      "Geoscape                               1\n",
      "ProgrammableWeb                        1\n",
      "Business and Legal Resources           1\n",
      "Vizzuality                             1\n",
      "Nationwide Mutual Insurance Company    1\n",
      "Civic Insight                          1\n",
      "ClearStory Data                        1\n",
      "Name: company_name, Length: 403, dtype: int64\n",
      "\n",
      "\n",
      "\n",
      "\n",
      "value counts for year_founded:\n",
      "\n",
      "2011    39\n",
      "2010    36\n",
      "2012    32\n",
      "2007    24\n",
      "2013    24\n",
      "2009    23\n",
      "2008    21\n",
      "2006    18\n",
      "2000    13\n",
      "2005    13\n",
      "2004    11\n",
      "1999     9\n",
      "1998     8\n",
      "2003     7\n",
      "2001     6\n",
      "2002     5\n",
      "1987     5\n",
      "2014     5\n",
      "1993     5\n",
      "1997     4\n",
      "1995     4\n",
      "1984     4\n",
      "1978     3\n",
      "1996     3\n",
      "1969     3\n",
      "1989     3\n",
      "1980     3\n",
      "1979     2\n",
      "1977     2\n",
      "1976     2\n",
      "        ..\n",
      "1966     1\n",
      "1945     1\n",
      "1868     1\n",
      "1936     1\n",
      "1967     1\n",
      "1994     1\n",
      "1981     1\n",
      "1909     1\n",
      "1913     1\n",
      "1899     1\n",
      "1965     1\n",
      "1914     1\n",
      "1799     1\n",
      "1961     1\n",
      "1972     1\n",
      "1963     1\n",
      "1948     1\n",
      "1896     1\n",
      "1941     1\n",
      "1891     1\n",
      "1845     1\n",
      "1931     1\n",
      "1901     1\n",
      "1933     1\n",
      "1982     1\n",
      "1986     1\n",
      "1953     1\n",
      "1950     1\n",
      "1907     1\n",
      "1954     1\n",
      "Name: year_founded, Length: 84, dtype: int64\n",
      "\n",
      "\n",
      "\n",
      "\n",
      "value counts for city:\n",
      "\n",
      "New York          73\n",
      "San Francisco     30\n",
      "Washington        19\n",
      "Boston            19\n",
      "Chicago           14\n",
      "Seattle           11\n",
      "Mountain View      8\n",
      "Palo Alto          7\n",
      "Cambridge          6\n",
      "Denver             5\n",
      "Austin             5\n",
      "Philadelphia       5\n",
      "Sunnyvale          4\n",
      "Baltimore          4\n",
      "Houston            4\n",
      "Atlanta            4\n",
      "Menlo Park         4\n",
      "Portland           3\n",
      "Santa Monica       3\n",
      "Berkeley           3\n",
      "Redwood City       3\n",
      "San Mateo          3\n",
      "Madison            3\n",
      "Los Angeles        3\n",
      "Sacramento         2\n",
      "Miami              2\n",
      "White Plains       2\n",
      "Manassas           2\n",
      "Brentwood          2\n",
      "Warren             2\n",
      "                  ..\n",
      "St Louis           1\n",
      "Bozeman            1\n",
      "West Warwick       1\n",
      "Bala Cynwyd        1\n",
      "Oakton             1\n",
      "Emeryville         1\n",
      "Phoenix            1\n",
      "Plano              1\n",
      "Sammamish          1\n",
      "Greensboro         1\n",
      "Summit             1\n",
      "Paramus            1\n",
      "Bonsall            1\n",
      "Redwood Shores     1\n",
      "Aurora             1\n",
      "Henderson          1\n",
      "Centreville        1\n",
      "Milford            1\n",
      "Villanova          1\n",
      "Costa Mesa         1\n",
      "Rockville          1\n",
      "Norman             1\n",
      "Sebastopol         1\n",
      "St. Paul           1\n",
      "Broadview          1\n",
      "Lexington          1\n",
      "Tempe              1\n",
      "Silver Spring      1\n",
      "Knoxville          1\n",
      "Narberth           1\n",
      "Name: city, Length: 165, dtype: int64\n",
      "\n",
      "\n",
      "\n",
      "\n",
      "value counts for state:\n",
      "\n",
      "CA    97\n",
      "NY    76\n",
      "MA    34\n",
      "DC    19\n",
      "IL    19\n",
      "VA    18\n",
      "WA    17\n",
      "TX    14\n",
      "NJ    11\n",
      "PA    10\n",
      "MD    10\n",
      "CO     9\n",
      "CT     7\n",
      "OH     6\n",
      "MO     6\n",
      "IN     5\n",
      "MI     5\n",
      "GA     5\n",
      "FL     5\n",
      "WI     4\n",
      "NC     4\n",
      "AZ     3\n",
      "TN     3\n",
      "MN     2\n",
      "OR     2\n",
      "UT     2\n",
      "ME     2\n",
      "NV     1\n",
      "VT     1\n",
      "MT     1\n",
      "RI     1\n",
      "OK     1\n",
      "AR     1\n",
      "AL     1\n",
      "KA     1\n",
      "Name: state, dtype: int64\n",
      "\n",
      "\n",
      "\n",
      "\n",
      "value counts for size:\n",
      "\n",
      "5        123\n",
      "30        99\n",
      "125       81\n",
      "10001     37\n",
      "350       23\n",
      "3000      15\n",
      "7500      14\n",
      "750       11\n",
      "Name: size, dtype: int64\n",
      "\n",
      "\n",
      "\n",
      "\n",
      "value counts for company_type:\n",
      "\n",
      "Private      318\n",
      "Public        63\n",
      "Nonprofit     13\n",
      "Other          9\n",
      "Name: company_type, dtype: int64\n",
      "\n",
      "\n",
      "\n",
      "\n",
      "value counts for company_category:\n",
      "\n",
      "Data/Technology              78\n",
      "Finance & Investment         58\n",
      "Governance                   38\n",
      "Healthcare                   32\n",
      "Business & Legal Services    31\n",
      "Transportation               23\n",
      "Research & Consulting        22\n",
      "Geospatial/Mapping           21\n",
      "Energy                       20\n",
      "Education                    16\n",
      "Lifestyle & Consumer         15\n",
      "Housing/Real Estate          15\n",
      "Scientific Research          12\n",
      "Environment & Weather         8\n",
      "Insurance                     7\n",
      "Food & Agriculture            5\n",
      "Media                         1\n",
      "Aerospace and Defense         1\n",
      "Name: company_category, dtype: int64\n",
      "\n",
      "\n",
      "\n",
      "\n",
      "value counts for b2b:\n",
      "\n",
      "1    272\n",
      "0    131\n",
      "Name: b2b, dtype: int64\n",
      "\n",
      "\n",
      "\n",
      "\n",
      "value counts for b2c:\n",
      "\n",
      "0    217\n",
      "1    186\n",
      "Name: b2c, dtype: int64\n",
      "\n",
      "\n",
      "\n",
      "\n",
      "value counts for b2g:\n",
      "\n",
      "0    319\n",
      "1     84\n",
      "Name: b2g, dtype: int64\n",
      "\n",
      "\n",
      "\n",
      "\n",
      "value counts for b2n:\n",
      "\n",
      "0    402\n",
      "1      1\n",
      "Name: b2n, dtype: int64\n",
      "\n",
      "\n",
      "\n",
      "\n",
      "value counts for academia:\n",
      "\n",
      "0    394\n",
      "1      9\n",
      "Name: academia, dtype: int64\n",
      "\n",
      "\n",
      "\n",
      "\n",
      "value counts for nonprofit:\n",
      "\n",
      "0    388\n",
      "1     15\n",
      "Name: nonprofit, dtype: int64\n",
      "\n",
      "\n",
      "\n",
      "\n",
      "value counts for money_raised:\n",
      "\n",
      "2        4\n",
      "1.8      3\n",
      "3        3\n",
      "4        3\n",
      "0.25     2\n",
      "0.1      2\n",
      "5        2\n",
      "0.5      2\n",
      "11.7     2\n",
      "0.62     2\n",
      "2.5      2\n",
      "3.3      2\n",
      "7.3      1\n",
      "0.52     1\n",
      "143.1    1\n",
      "104      1\n",
      "4.7      1\n",
      "16.2     1\n",
      "30.1     1\n",
      "1100     1\n",
      "8.8      1\n",
      "129.6    1\n",
      "5.6      1\n",
      "0.35     1\n",
      "340      1\n",
      "0.95     1\n",
      "106.3    1\n",
      "227.2    1\n",
      "65.6     1\n",
      "77.5     1\n",
      "        ..\n",
      "19       1\n",
      "3.8      1\n",
      "0.127    1\n",
      "0.8      1\n",
      "0.29     1\n",
      "50.5     1\n",
      "8.9      1\n",
      "139.5    1\n",
      "0.781    1\n",
      "108.2    1\n",
      "5.9      1\n",
      "61       1\n",
      "11.4     1\n",
      "69.9     1\n",
      "13.4     1\n",
      "1.4      1\n",
      "1.3      1\n",
      "0.4      1\n",
      "98.9     1\n",
      "54.5     1\n",
      "16.8     1\n",
      "2000     1\n",
      "4.8      1\n",
      "22.8     1\n",
      "240.4    1\n",
      "26.3     1\n",
      "11.3     1\n",
      "163      1\n",
      "105      1\n",
      "0.308    1\n",
      "Name: money_raised, Length: 116, dtype: int64\n",
      "\n",
      "\n",
      "\n",
      "\n",
      "value counts for revenue:\n",
      "\n",
      "1.0         50\n",
      "2.0         28\n",
      "3.0         27\n",
      "4.0         26\n",
      "5.0         26\n",
      "8.0         19\n",
      "6.0         19\n",
      "10.0        15\n",
      "7.0         14\n",
      "12.0         9\n",
      "9.0          9\n",
      "13.0         8\n",
      "11.0         7\n",
      "25.0         5\n",
      "24.0         5\n",
      "15.0         5\n",
      "31.0         4\n",
      "19.0         4\n",
      "16.0         4\n",
      "30.0         3\n",
      "20.0         3\n",
      "18.0         3\n",
      "27.0         3\n",
      "100.0        2\n",
      "32.0         2\n",
      "14.0         2\n",
      "345.0        2\n",
      "60.0         2\n",
      "36.0         2\n",
      "9200.0       2\n",
      "            ..\n",
      "1000.0       1\n",
      "12491.0      1\n",
      "18100.0      1\n",
      "59.0         1\n",
      "408.0        1\n",
      "51.0         1\n",
      "34.0         1\n",
      "151400.0     1\n",
      "2200.0       1\n",
      "39600.0      1\n",
      "80.0         1\n",
      "339.0        1\n",
      "155.0        1\n",
      "5143.0       1\n",
      "918.0        1\n",
      "98.0         1\n",
      "26400.0      1\n",
      "1800.0       1\n",
      "1971.0       1\n",
      "76.0         1\n",
      "39.0         1\n",
      "2800.0       1\n",
      "42.0         1\n",
      "66000.0      1\n",
      "91.0         1\n",
      "2000.0       1\n",
      "71671.0      1\n",
      "33.0         1\n",
      "1400.0       1\n",
      "957.0        1\n",
      "Name: revenue, Length: 119, dtype: int64\n",
      "\n",
      "\n",
      "\n",
      "\n",
      "value counts for age:\n",
      "\n",
      "6      39\n",
      "7      36\n",
      "5      32\n",
      "4      24\n",
      "10     24\n",
      "8      23\n",
      "9      21\n",
      "11     18\n",
      "17     13\n",
      "12     13\n",
      "13     11\n",
      "18      9\n",
      "19      8\n",
      "14      7\n",
      "16      6\n",
      "24      5\n",
      "30      5\n",
      "15      5\n",
      "3       5\n",
      "20      4\n",
      "22      4\n",
      "33      4\n",
      "37      3\n",
      "21      3\n",
      "39      3\n",
      "48      3\n",
      "28      3\n",
      "135     2\n",
      "29      2\n",
      "27      2\n",
      "       ..\n",
      "42      1\n",
      "84      1\n",
      "86      1\n",
      "51      1\n",
      "64      1\n",
      "56      1\n",
      "137     1\n",
      "118     1\n",
      "121     1\n",
      "2       1\n",
      "172     1\n",
      "50      1\n",
      "116     1\n",
      "36      1\n",
      "81      1\n",
      "72      1\n",
      "104     1\n",
      "52      1\n",
      "23      1\n",
      "31      1\n",
      "126     1\n",
      "66      1\n",
      "54      1\n",
      "112     1\n",
      "76      1\n",
      "117     1\n",
      "69      1\n",
      "67      1\n",
      "110     1\n",
      "62      1\n",
      "Name: age, Length: 84, dtype: int64\n",
      "\n",
      "\n",
      "\n",
      "\n",
      "value counts for empl_val:\n",
      "\n",
      "200        25\n",
      "1          24\n",
      "2          14\n",
      "8          13\n",
      "1000       12\n",
      "400        12\n",
      "600        12\n",
      "34         10\n",
      "32          9\n",
      "167         8\n",
      "16          7\n",
      "24          7\n",
      "1200        7\n",
      "3           7\n",
      "134         7\n",
      "56          6\n",
      "67          6\n",
      "800         6\n",
      "2000        6\n",
      "1600        6\n",
      "2200        5\n",
      "80          5\n",
      "40          4\n",
      "100         4\n",
      "5000        4\n",
      "267         4\n",
      "434         4\n",
      "64          4\n",
      "300         3\n",
      "534         3\n",
      "           ..\n",
      "128         1\n",
      "7134        1\n",
      "15139       1\n",
      "480         1\n",
      "12000       1\n",
      "487000      1\n",
      "6400        1\n",
      "33334       1\n",
      "13          1\n",
      "4880000     1\n",
      "50000       1\n",
      "23891       1\n",
      "6200        1\n",
      "106667      1\n",
      "10992       1\n",
      "15200       1\n",
      "3853        1\n",
      "294         1\n",
      "603334      1\n",
      "345600      1\n",
      "930         1\n",
      "40800       1\n",
      "31900       1\n",
      "2600        1\n",
      "384         1\n",
      "1512        1\n",
      "8400        1\n",
      "3808        1\n",
      "192         1\n",
      "71400       1\n",
      "Name: empl_val, Length: 165, dtype: int64\n",
      "\n",
      "\n",
      "\n",
      "\n",
      "value counts for success:\n",
      "\n",
      "0    270\n",
      "1    114\n",
      "2     19\n",
      "Name: success, dtype: int64\n",
      "\n",
      "\n",
      "\n",
      "\n"
     ]
    }
   ],
   "source": [
    "for column in df.columns:\n",
    "    print('value counts for', column + ':\\n')\n",
    "    \n",
    "    print(df[column].value_counts())\n",
    "    print('\\n\\n\\n')"
   ]
  },
  {
   "cell_type": "code",
   "execution_count": 470,
   "metadata": {},
   "outputs": [
    {
     "name": "stdout",
     "output_type": "stream",
     "text": [
      "<class 'pandas.core.frame.DataFrame'>\n",
      "Int64Index: 403 entries, 1 to 403\n",
      "Data columns (total 18 columns):\n",
      "company_name        403 non-null object\n",
      "year_founded        403 non-null object\n",
      "city                403 non-null object\n",
      "state               403 non-null object\n",
      "size                403 non-null object\n",
      "company_type        403 non-null object\n",
      "company_category    403 non-null object\n",
      "b2b                 403 non-null object\n",
      "b2c                 403 non-null object\n",
      "b2g                 403 non-null object\n",
      "b2n                 403 non-null object\n",
      "academia            403 non-null object\n",
      "nonprofit           403 non-null object\n",
      "money_raised        133 non-null object\n",
      "revenue             403 non-null object\n",
      "age                 403 non-null object\n",
      "empl_val            403 non-null object\n",
      "success             403 non-null object\n",
      "dtypes: object(18)\n",
      "memory usage: 59.8+ KB\n",
      "All values are objects since we imported a csv file\n",
      "\n",
      " None\n",
      "<class 'pandas.core.frame.DataFrame'>\n",
      "Int64Index: 403 entries, 1 to 403\n",
      "Data columns (total 18 columns):\n",
      "company_name        403 non-null object\n",
      "year_founded        403 non-null object\n",
      "city                403 non-null object\n",
      "state               403 non-null object\n",
      "size                403 non-null object\n",
      "company_type        403 non-null object\n",
      "company_category    403 non-null object\n",
      "b2b                 403 non-null int32\n",
      "b2c                 403 non-null int32\n",
      "b2g                 403 non-null int32\n",
      "b2n                 403 non-null int32\n",
      "academia            403 non-null int32\n",
      "nonprofit           403 non-null int32\n",
      "money_raised        133 non-null object\n",
      "revenue             403 non-null object\n",
      "age                 403 non-null int32\n",
      "empl_val            403 non-null object\n",
      "success             403 non-null object\n",
      "dtypes: int32(7), object(11)\n",
      "memory usage: 48.8+ KB\n",
      "We will convert them into integers for initial analysis\n",
      "\n",
      " None\n"
     ]
    }
   ],
   "source": [
    "print('All values are objects since we imported a csv file\\n\\n', df.info())\n",
    "\n",
    "# converting columns into int types\n",
    "df['b2b'] = df['b2b'].astype(int)\n",
    "df['b2c'] = df['b2c'].astype(int)\n",
    "df['b2g'] = df['b2g'].astype(int)\n",
    "df['b2n'] = df['b2n'].astype(int)\n",
    "df['academia'] = df['academia'].astype(int)\n",
    "df['nonprofit'] = df['nonprofit'].astype(int)\n",
    "df['age'] = df['age'].astype(int)\n",
    "\n",
    "\n",
    "\n",
    "print('We will convert them into integers for initial analysis\\n\\n', df.info())\n",
    "\n",
    "# all columns are object types, some should be int type"
   ]
  },
  {
   "cell_type": "code",
   "execution_count": 471,
   "metadata": {},
   "outputs": [
    {
     "name": "stdout",
     "output_type": "stream",
     "text": [
      "Plotting hisograms\n",
      "\n",
      "\n"
     ]
    }
   ],
   "source": [
    "print('Plotting hisograms\\n\\n')"
   ]
  },
  {
   "cell_type": "code",
   "execution_count": 472,
   "metadata": {},
   "outputs": [],
   "source": [
    "# now we can find the sum for each column and then plot them into a histogram\n",
    "b2b = df['b2b'].sum()\n",
    "b2c = df['b2c'].sum()\n",
    "b2g = df['b2g'].sum()\n",
    "b2n = df['b2n'].sum()\n",
    "academia = df['academia'].sum()\n",
    "nonprofit = df['nonprofit'].sum()\n"
   ]
  },
  {
   "cell_type": "code",
   "execution_count": 473,
   "metadata": {},
   "outputs": [
    {
     "name": "stdout",
     "output_type": "stream",
     "text": [
      "business model frequencies\n",
      " b2b          272\n",
      "b2c          186\n",
      "b2g           84\n",
      "b2n            1\n",
      "academia       9\n",
      "nonprofit     15\n",
      "dtype: int64\n",
      "AxesSubplot(0.125,0.125;0.775x0.755)\n"
     ]
    },
    {
     "data": {
      "image/png": "[encoded data removed]",
      "text/plain": [
       "<Figure size 432x288 with 1 Axes>"
      ]
     },
     "metadata": {
      "needs_background": "light"
     },
     "output_type": "display_data"
    }
   ],
   "source": [
    "# initializing list with all business models\n",
    "business_model = pd.Series([b2b, b2c, b2g, b2n, academia, nonprofit], index = ['b2b', 'b2c', 'b2g', 'b2n', 'academia', 'nonprofit'])\n",
    "\n",
    "print('business model frequencies\\n', business_model)\n",
    "# business model bar plot\n",
    "print(business_model.plot(kind = 'bar'))"
   ]
  },
  {
   "cell_type": "code",
   "execution_count": 474,
   "metadata": {},
   "outputs": [
    {
     "data": {
      "image/png": "[encoded data removed]",
      "text/plain": [
       "<Figure size 1440x360 with 1 Axes>"
      ]
     },
     "metadata": {
      "needs_background": "light"
     },
     "output_type": "display_data"
    },
    {
     "data": {
      "image/png": "[encoded data removed]",
      "text/plain": [
       "<Figure size 1440x360 with 1 Axes>"
      ]
     },
     "metadata": {
      "needs_background": "light"
     },
     "output_type": "display_data"
    },
    {
     "data": {
      "image/png": "[encoded data removed]",
      "text/plain": [
       "<Figure size 1440x360 with 1 Axes>"
      ]
     },
     "metadata": {
      "needs_background": "light"
     },
     "output_type": "display_data"
    },
    {
     "data": {
      "image/png": "[encoded data removed]",
      "text/plain": [
       "<Figure size 1440x360 with 1 Axes>"
      ]
     },
     "metadata": {
      "needs_background": "light"
     },
     "output_type": "display_data"
    },
    {
     "data": {
      "image/png": "[encoded data removed]",
      "text/plain": [
       "<Figure size 1440x360 with 1 Axes>"
      ]
     },
     "metadata": {
      "needs_background": "light"
     },
     "output_type": "display_data"
    },
    {
     "data": {
      "image/png": "[encoded data removed]",
      "text/plain": [
       "<Figure size 1440x360 with 1 Axes>"
      ]
     },
     "metadata": {
      "needs_background": "light"
     },
     "output_type": "display_data"
    },
    {
     "data": {
      "image/png": "[encoded data removed]",
      "text/plain": [
       "<Figure size 1440x360 with 1 Axes>"
      ]
     },
     "metadata": {
      "needs_background": "light"
     },
     "output_type": "display_data"
    }
   ],
   "source": [
    "plotCompanies = ['year_founded', 'city', 'state', 'size', 'company_type', 'company_category', 'age']\n",
    "for column in plotCompanies:\n",
    "    plt.figure(figsize=(20, 5))\n",
    "\n",
    "    # count how many vehicles were sold per manufacturer (use original dataframe since df2 is all numbers)\n",
    "    sns.countplot(x=df[column], data=df)\n",
    "    rotation = 45\n",
    "    if (column == 'city'):\n",
    "        rotation = 90\n",
    "    plt.xticks(rotation=rotation)\n",
    "\n",
    "    plt.title('Number of companies per ' + column, fontsize = 20)\n",
    "    plt.show()"
   ]
  },
  {
   "cell_type": "code",
   "execution_count": 475,
   "metadata": {},
   "outputs": [
    {
     "name": "stdout",
     "output_type": "stream",
     "text": [
      "plot graphs sorted\n"
     ]
    },
    {
     "data": {
      "image/png": "[encoded data removed]",
      "text/plain": [
       "<Figure size 1440x360 with 1 Axes>"
      ]
     },
     "metadata": {
      "needs_background": "light"
     },
     "output_type": "display_data"
    },
    {
     "data": {
      "image/png": "[encoded data removed]",
      "text/plain": [
       "<Figure size 1440x360 with 1 Axes>"
      ]
     },
     "metadata": {
      "needs_background": "light"
     },
     "output_type": "display_data"
    }
   ],
   "source": [
    "print('plot graphs sorted')\n",
    "plotCompanies = ['size','age']\n",
    "for column in plotCompanies:\n",
    "    plt.figure(figsize=(20, 5))\n",
    "\n",
    "    # count how many vehicles were sold per manufacturer (use original dataframe since df2 is all numbers)\n",
    "    sns.countplot(x=df[column].astype(int).sort_values(), data=df)\n",
    "    rotation = 45\n",
    "    if (column == 'city'):\n",
    "        rotation = 90\n",
    "    plt.xticks(rotation=rotation)\n",
    "\n",
    "    plt.title('Number of companies per ' + column, fontsize = 20)\n",
    "    plt.show()"
   ]
  },
  {
   "cell_type": "code",
   "execution_count": 476,
   "metadata": {},
   "outputs": [],
   "source": [
    "# data csv file contained in the same folder as the project\n",
    "datafnEnc = 'companiesProcessedEncoded.csv'\n",
    "\n",
    "# df encoded for dataset with all numerical values instead of categorical\n",
    "df = pd.read_csv(datafnEnc, na_values = ['?'], header = None)\n",
    "df.columns = df.iloc[0]\n",
    "df.drop(axis = 0, index = 0, inplace = True)\n",
    "df.reset_index(drop = True, inplace = True)\n",
    "df.drop(columns = np.nan, inplace = True)\n",
    "\n"
   ]
  },
  {
   "cell_type": "code",
   "execution_count": 477,
   "metadata": {},
   "outputs": [],
   "source": [
    "intCols = ['year_founded','state','size','company_type',\n",
    "           'company_category','b2b','b2c','b2g','b2n',\n",
    "           'academia','nonprofit','age', 'empl_val', 'success']\n",
    "floatCols = ['money_raised', 'revenue']\n",
    "\n",
    "# converting columns into int types\n",
    "for col in intCols:\n",
    "    df[col] = df[col].astype(int)\n",
    "for col in floatCols:\n",
    "    df[col] = df[col].astype(float)\n",
    "df['revenue'] = df['revenue'].astype(int)"
   ]
  },
  {
   "cell_type": "code",
   "execution_count": 478,
   "metadata": {
    "scrolled": true
   },
   "outputs": [
    {
     "name": "stdout",
     "output_type": "stream",
     "text": [
      "Correlation for different columns\n",
      "\n",
      "correlation empl_val and year_founded : 0.04712592184457927\n",
      "correlation empl_val and state : -0.02848083711607957\n",
      "correlation empl_val and size : -0.05330167992392844\n",
      "correlation empl_val and company_type : -0.005264394010239076\n",
      "correlation empl_val and company_category : -0.013953382218065372\n",
      "correlation empl_val and b2b : 0.03717639145154789\n",
      "correlation empl_val and b2c : 0.012364561577401626\n",
      "correlation empl_val and b2g : -0.02782829116358444\n",
      "correlation empl_val and b2n : -0.00615660215555348\n",
      "correlation empl_val and academia : -0.016156693020889335\n",
      "correlation empl_val and nonprofit : -0.021437834562063322\n",
      "correlation empl_val and money_raised : 0.6515853742734131\n",
      "correlation empl_val and revenue : 0.4497463216223303\n",
      "correlation empl_val and age : -0.047125921844579255\n",
      "correlation empl_val and empl_val : 0.9999999999999999\n",
      "correlation empl_val and success : 0.34299883597454855\n",
      "\n",
      "Highest correlation is employee value and revenue\n",
      "correlation empl_val and revenue: 0.4497463216223303\n"
     ]
    },
    {
     "data": {
      "image/png": "[encoded data removed]",
      "text/plain": [
       "<Figure size 432x288 with 1 Axes>"
      ]
     },
     "metadata": {
      "needs_background": "light"
     },
     "output_type": "display_data"
    }
   ],
   "source": [
    "print('Correlation for different columns\\n')\n",
    "\n",
    "for col in df.drop(columns = ['city', 'company_name']).columns:\n",
    "    \n",
    "    print('correlation empl_val and', col, ':', str(df['empl_val'].corr(df[col])))\n",
    "    \n",
    "\n",
    "    \n",
    "    \n",
    "    #print('correlation empl_val and revenue', ':', str(df['empl_val'].corr(df['revenue'])))\n",
    "print('\\nHighest correlation is employee value and revenue')\n",
    "print('correlation empl_val and revenue:', str(df['empl_val'].corr(df['revenue'])))\n",
    "\n",
    "plt.scatter(df['empl_val'], df['revenue']);"
   ]
  },
  {
   "cell_type": "code",
   "execution_count": 479,
   "metadata": {},
   "outputs": [
    {
     "name": "stdout",
     "output_type": "stream",
     "text": [
      "End of EDA\n",
      "\n",
      "\n",
      "\n",
      "\n",
      "_________________________________________________________________________________________________________________\n"
     ]
    }
   ],
   "source": [
    "print('End of EDA\\n\\n\\n\\n')\n",
    "print('_________________________________________________________________________________________________________________')"
   ]
  },
  {
   "cell_type": "code",
   "execution_count": 480,
   "metadata": {},
   "outputs": [
    {
     "name": "stdout",
     "output_type": "stream",
     "text": [
      "Beginning primary\n"
     ]
    }
   ],
   "source": [
    "print('Beginning primary')"
   ]
  },
  {
   "cell_type": "markdown",
   "metadata": {},
   "source": [
    "___"
   ]
  },
  {
   "cell_type": "markdown",
   "metadata": {},
   "source": [
    "## Loading new clean data\n",
    "\n",
    "We will have two datasets:\n",
    "\n",
    "    one called dfFull with all the full names of the values\n",
    "    \n",
    "    the other called df with all the encoded values"
   ]
  },
  {
   "cell_type": "code",
   "execution_count": 481,
   "metadata": {},
   "outputs": [
    {
     "data": {
      "text/html": [
       "<div>\n",
       "<style scoped>\n",
       "    .dataframe tbody tr th:only-of-type {\n",
       "        vertical-align: middle;\n",
       "    }\n",
       "\n",
       "    .dataframe tbody tr th {\n",
       "        vertical-align: top;\n",
       "    }\n",
       "\n",
       "    .dataframe thead th {\n",
       "        text-align: right;\n",
       "    }\n",
       "</style>\n",
       "<table border=\"1\" class=\"dataframe\">\n",
       "  <thead>\n",
       "    <tr style=\"text-align: right;\">\n",
       "      <th></th>\n",
       "      <th>0</th>\n",
       "      <th>1</th>\n",
       "      <th>2</th>\n",
       "      <th>3</th>\n",
       "      <th>4</th>\n",
       "      <th>5</th>\n",
       "      <th>6</th>\n",
       "      <th>7</th>\n",
       "      <th>8</th>\n",
       "      <th>9</th>\n",
       "      <th>10</th>\n",
       "      <th>11</th>\n",
       "      <th>12</th>\n",
       "      <th>13</th>\n",
       "      <th>14</th>\n",
       "      <th>15</th>\n",
       "      <th>16</th>\n",
       "      <th>17</th>\n",
       "      <th>18</th>\n",
       "    </tr>\n",
       "  </thead>\n",
       "  <tbody>\n",
       "    <tr>\n",
       "      <th>0</th>\n",
       "      <td>NaN</td>\n",
       "      <td>company_name</td>\n",
       "      <td>year_founded</td>\n",
       "      <td>city</td>\n",
       "      <td>state</td>\n",
       "      <td>size</td>\n",
       "      <td>company_type</td>\n",
       "      <td>company_category</td>\n",
       "      <td>b2b</td>\n",
       "      <td>b2c</td>\n",
       "      <td>b2g</td>\n",
       "      <td>b2n</td>\n",
       "      <td>academia</td>\n",
       "      <td>nonprofit</td>\n",
       "      <td>money_raised</td>\n",
       "      <td>revenue</td>\n",
       "      <td>age</td>\n",
       "      <td>empl_val</td>\n",
       "      <td>success</td>\n",
       "    </tr>\n",
       "    <tr>\n",
       "      <th>1</th>\n",
       "      <td>0.0</td>\n",
       "      <td>48 Factoring Inc.</td>\n",
       "      <td>2014</td>\n",
       "      <td>Philadelphia</td>\n",
       "      <td>PA</td>\n",
       "      <td>125</td>\n",
       "      <td>Private</td>\n",
       "      <td>Finance &amp; Investment</td>\n",
       "      <td>1</td>\n",
       "      <td>0</td>\n",
       "      <td>0</td>\n",
       "      <td>0</td>\n",
       "      <td>0</td>\n",
       "      <td>0</td>\n",
       "      <td>NaN</td>\n",
       "      <td>1.0</td>\n",
       "      <td>3</td>\n",
       "      <td>8</td>\n",
       "      <td>0</td>\n",
       "    </tr>\n",
       "    <tr>\n",
       "      <th>2</th>\n",
       "      <td>1.0</td>\n",
       "      <td>5PSolutions</td>\n",
       "      <td>2007</td>\n",
       "      <td>Fairfax</td>\n",
       "      <td>VA</td>\n",
       "      <td>5</td>\n",
       "      <td>Private</td>\n",
       "      <td>Data/Technology</td>\n",
       "      <td>1</td>\n",
       "      <td>1</td>\n",
       "      <td>1</td>\n",
       "      <td>0</td>\n",
       "      <td>0</td>\n",
       "      <td>0</td>\n",
       "      <td>NaN</td>\n",
       "      <td>1.0</td>\n",
       "      <td>10</td>\n",
       "      <td>200</td>\n",
       "      <td>0</td>\n",
       "    </tr>\n",
       "    <tr>\n",
       "      <th>3</th>\n",
       "      <td>2.0</td>\n",
       "      <td>Accela</td>\n",
       "      <td>1999</td>\n",
       "      <td>San Ramon</td>\n",
       "      <td>CA</td>\n",
       "      <td>750</td>\n",
       "      <td>Private</td>\n",
       "      <td>Governance</td>\n",
       "      <td>0</td>\n",
       "      <td>1</td>\n",
       "      <td>0</td>\n",
       "      <td>0</td>\n",
       "      <td>0</td>\n",
       "      <td>0</td>\n",
       "      <td>NaN</td>\n",
       "      <td>80.0</td>\n",
       "      <td>18</td>\n",
       "      <td>107</td>\n",
       "      <td>0</td>\n",
       "    </tr>\n",
       "    <tr>\n",
       "      <th>4</th>\n",
       "      <td>3.0</td>\n",
       "      <td>Accenture</td>\n",
       "      <td>1989</td>\n",
       "      <td>Chicago</td>\n",
       "      <td>IL</td>\n",
       "      <td>10001</td>\n",
       "      <td>Public</td>\n",
       "      <td>Research &amp; Consulting</td>\n",
       "      <td>1</td>\n",
       "      <td>0</td>\n",
       "      <td>0</td>\n",
       "      <td>0</td>\n",
       "      <td>0</td>\n",
       "      <td>0</td>\n",
       "      <td>NaN</td>\n",
       "      <td>39600.0</td>\n",
       "      <td>28</td>\n",
       "      <td>3960</td>\n",
       "      <td>1</td>\n",
       "    </tr>\n",
       "  </tbody>\n",
       "</table>\n",
       "</div>"
      ],
      "text/plain": [
       "    0                  1             2             3      4      5   \\\n",
       "0  NaN       company_name  year_founded          city  state   size   \n",
       "1  0.0  48 Factoring Inc.          2014  Philadelphia     PA    125   \n",
       "2  1.0        5PSolutions          2007       Fairfax     VA      5   \n",
       "3  2.0             Accela          1999     San Ramon     CA    750   \n",
       "4  3.0          Accenture          1989       Chicago     IL  10001   \n",
       "\n",
       "             6                      7    8    9    10   11        12  \\\n",
       "0  company_type       company_category  b2b  b2c  b2g  b2n  academia   \n",
       "1       Private   Finance & Investment    1    0    0    0         0   \n",
       "2       Private        Data/Technology    1    1    1    0         0   \n",
       "3       Private             Governance    0    1    0    0         0   \n",
       "4        Public  Research & Consulting    1    0    0    0         0   \n",
       "\n",
       "          13            14       15   16        17       18  \n",
       "0  nonprofit  money_raised  revenue  age  empl_val  success  \n",
       "1          0           NaN      1.0    3         8        0  \n",
       "2          0           NaN      1.0   10       200        0  \n",
       "3          0           NaN     80.0   18       107        0  \n",
       "4          0           NaN  39600.0   28      3960        1  "
      ]
     },
     "execution_count": 481,
     "metadata": {},
     "output_type": "execute_result"
    }
   ],
   "source": [
    "# data csv file contained in the same folder as the project\n",
    "datafnFull = 'companiesProcessed.csv'\n",
    "\n",
    "dfFull = pd.read_csv(datafnFull, na_values = ['?'], header = None)\n",
    "\n",
    "# check first five rows of the dataset\n",
    "dfFull.head()"
   ]
  },
  {
   "cell_type": "code",
   "execution_count": 482,
   "metadata": {},
   "outputs": [
    {
     "data": {
      "text/html": [
       "<div>\n",
       "<style scoped>\n",
       "    .dataframe tbody tr th:only-of-type {\n",
       "        vertical-align: middle;\n",
       "    }\n",
       "\n",
       "    .dataframe tbody tr th {\n",
       "        vertical-align: top;\n",
       "    }\n",
       "\n",
       "    .dataframe thead th {\n",
       "        text-align: right;\n",
       "    }\n",
       "</style>\n",
       "<table border=\"1\" class=\"dataframe\">\n",
       "  <thead>\n",
       "    <tr style=\"text-align: right;\">\n",
       "      <th></th>\n",
       "      <th>company_name</th>\n",
       "      <th>year_founded</th>\n",
       "      <th>city</th>\n",
       "      <th>state</th>\n",
       "      <th>size</th>\n",
       "      <th>company_type</th>\n",
       "      <th>company_category</th>\n",
       "      <th>b2b</th>\n",
       "      <th>b2c</th>\n",
       "      <th>b2g</th>\n",
       "      <th>b2n</th>\n",
       "      <th>academia</th>\n",
       "      <th>nonprofit</th>\n",
       "      <th>money_raised</th>\n",
       "      <th>revenue</th>\n",
       "      <th>age</th>\n",
       "      <th>empl_val</th>\n",
       "      <th>success</th>\n",
       "    </tr>\n",
       "  </thead>\n",
       "  <tbody>\n",
       "    <tr>\n",
       "      <th>0</th>\n",
       "      <td>48 Factoring Inc.</td>\n",
       "      <td>2014</td>\n",
       "      <td>Philadelphia</td>\n",
       "      <td>PA</td>\n",
       "      <td>125</td>\n",
       "      <td>Private</td>\n",
       "      <td>Finance &amp; Investment</td>\n",
       "      <td>1</td>\n",
       "      <td>0</td>\n",
       "      <td>0</td>\n",
       "      <td>0</td>\n",
       "      <td>0</td>\n",
       "      <td>0</td>\n",
       "      <td>NaN</td>\n",
       "      <td>1.0</td>\n",
       "      <td>3</td>\n",
       "      <td>8</td>\n",
       "      <td>0</td>\n",
       "    </tr>\n",
       "    <tr>\n",
       "      <th>1</th>\n",
       "      <td>5PSolutions</td>\n",
       "      <td>2007</td>\n",
       "      <td>Fairfax</td>\n",
       "      <td>VA</td>\n",
       "      <td>5</td>\n",
       "      <td>Private</td>\n",
       "      <td>Data/Technology</td>\n",
       "      <td>1</td>\n",
       "      <td>1</td>\n",
       "      <td>1</td>\n",
       "      <td>0</td>\n",
       "      <td>0</td>\n",
       "      <td>0</td>\n",
       "      <td>NaN</td>\n",
       "      <td>1.0</td>\n",
       "      <td>10</td>\n",
       "      <td>200</td>\n",
       "      <td>0</td>\n",
       "    </tr>\n",
       "    <tr>\n",
       "      <th>2</th>\n",
       "      <td>Accela</td>\n",
       "      <td>1999</td>\n",
       "      <td>San Ramon</td>\n",
       "      <td>CA</td>\n",
       "      <td>750</td>\n",
       "      <td>Private</td>\n",
       "      <td>Governance</td>\n",
       "      <td>0</td>\n",
       "      <td>1</td>\n",
       "      <td>0</td>\n",
       "      <td>0</td>\n",
       "      <td>0</td>\n",
       "      <td>0</td>\n",
       "      <td>NaN</td>\n",
       "      <td>80.0</td>\n",
       "      <td>18</td>\n",
       "      <td>107</td>\n",
       "      <td>0</td>\n",
       "    </tr>\n",
       "    <tr>\n",
       "      <th>3</th>\n",
       "      <td>Accenture</td>\n",
       "      <td>1989</td>\n",
       "      <td>Chicago</td>\n",
       "      <td>IL</td>\n",
       "      <td>10001</td>\n",
       "      <td>Public</td>\n",
       "      <td>Research &amp; Consulting</td>\n",
       "      <td>1</td>\n",
       "      <td>0</td>\n",
       "      <td>0</td>\n",
       "      <td>0</td>\n",
       "      <td>0</td>\n",
       "      <td>0</td>\n",
       "      <td>NaN</td>\n",
       "      <td>39600.0</td>\n",
       "      <td>28</td>\n",
       "      <td>3960</td>\n",
       "      <td>1</td>\n",
       "    </tr>\n",
       "    <tr>\n",
       "      <th>4</th>\n",
       "      <td>AccuWeather</td>\n",
       "      <td>1962</td>\n",
       "      <td>State College</td>\n",
       "      <td>PA</td>\n",
       "      <td>350</td>\n",
       "      <td>Private</td>\n",
       "      <td>Environment &amp; Weather</td>\n",
       "      <td>1</td>\n",
       "      <td>1</td>\n",
       "      <td>1</td>\n",
       "      <td>0</td>\n",
       "      <td>0</td>\n",
       "      <td>0</td>\n",
       "      <td>NaN</td>\n",
       "      <td>59.0</td>\n",
       "      <td>55</td>\n",
       "      <td>169</td>\n",
       "      <td>0</td>\n",
       "    </tr>\n",
       "  </tbody>\n",
       "</table>\n",
       "</div>"
      ],
      "text/plain": [
       "0       company_name year_founded           city state   size company_type  \\\n",
       "0  48 Factoring Inc.         2014   Philadelphia    PA    125      Private   \n",
       "1        5PSolutions         2007        Fairfax    VA      5      Private   \n",
       "2             Accela         1999      San Ramon    CA    750      Private   \n",
       "3          Accenture         1989        Chicago    IL  10001       Public   \n",
       "4        AccuWeather         1962  State College    PA    350      Private   \n",
       "\n",
       "0       company_category b2b b2c b2g b2n academia nonprofit money_raised  \\\n",
       "0   Finance & Investment   1   0   0   0        0         0          NaN   \n",
       "1        Data/Technology   1   1   1   0        0         0          NaN   \n",
       "2             Governance   0   1   0   0        0         0          NaN   \n",
       "3  Research & Consulting   1   0   0   0        0         0          NaN   \n",
       "4  Environment & Weather   1   1   1   0        0         0          NaN   \n",
       "\n",
       "0  revenue age empl_val success  \n",
       "0      1.0   3        8       0  \n",
       "1      1.0  10      200       0  \n",
       "2     80.0  18      107       0  \n",
       "3  39600.0  28     3960       1  \n",
       "4     59.0  55      169       0  "
      ]
     },
     "execution_count": 482,
     "metadata": {},
     "output_type": "execute_result"
    }
   ],
   "source": [
    "# setting the elements in the first row as column names\n",
    "dfFull.columns = dfFull.iloc[0]\n",
    "\n",
    "# dropping the first row since now we have the correct column names\n",
    "dfFull.drop(axis = 0, index = 0, inplace = True)\n",
    "\n",
    "# Use reset_index()\n",
    "dfFull.reset_index(drop = True, inplace = True)\n",
    "dfFull.drop(columns = np.nan, inplace = True)\n",
    "dfFull.head()"
   ]
  },
  {
   "cell_type": "code",
   "execution_count": 483,
   "metadata": {},
   "outputs": [
    {
     "data": {
      "text/html": [
       "<div>\n",
       "<style scoped>\n",
       "    .dataframe tbody tr th:only-of-type {\n",
       "        vertical-align: middle;\n",
       "    }\n",
       "\n",
       "    .dataframe tbody tr th {\n",
       "        vertical-align: top;\n",
       "    }\n",
       "\n",
       "    .dataframe thead th {\n",
       "        text-align: right;\n",
       "    }\n",
       "</style>\n",
       "<table border=\"1\" class=\"dataframe\">\n",
       "  <thead>\n",
       "    <tr style=\"text-align: right;\">\n",
       "      <th></th>\n",
       "      <th>0</th>\n",
       "      <th>1</th>\n",
       "      <th>2</th>\n",
       "      <th>3</th>\n",
       "      <th>4</th>\n",
       "      <th>5</th>\n",
       "      <th>6</th>\n",
       "      <th>7</th>\n",
       "      <th>8</th>\n",
       "      <th>9</th>\n",
       "      <th>10</th>\n",
       "      <th>11</th>\n",
       "      <th>12</th>\n",
       "      <th>13</th>\n",
       "      <th>14</th>\n",
       "      <th>15</th>\n",
       "      <th>16</th>\n",
       "      <th>17</th>\n",
       "      <th>18</th>\n",
       "    </tr>\n",
       "  </thead>\n",
       "  <tbody>\n",
       "    <tr>\n",
       "      <th>0</th>\n",
       "      <td>NaN</td>\n",
       "      <td>company_name</td>\n",
       "      <td>year_founded</td>\n",
       "      <td>city</td>\n",
       "      <td>state</td>\n",
       "      <td>size</td>\n",
       "      <td>company_type</td>\n",
       "      <td>company_category</td>\n",
       "      <td>b2b</td>\n",
       "      <td>b2c</td>\n",
       "      <td>b2g</td>\n",
       "      <td>b2n</td>\n",
       "      <td>academia</td>\n",
       "      <td>nonprofit</td>\n",
       "      <td>money_raised</td>\n",
       "      <td>revenue</td>\n",
       "      <td>age</td>\n",
       "      <td>empl_val</td>\n",
       "      <td>success</td>\n",
       "    </tr>\n",
       "    <tr>\n",
       "      <th>1</th>\n",
       "      <td>0.0</td>\n",
       "      <td>48 Factoring Inc.</td>\n",
       "      <td>2014</td>\n",
       "      <td>Philadelphia</td>\n",
       "      <td>26</td>\n",
       "      <td>125</td>\n",
       "      <td>2</td>\n",
       "      <td>6</td>\n",
       "      <td>1</td>\n",
       "      <td>0</td>\n",
       "      <td>0</td>\n",
       "      <td>0</td>\n",
       "      <td>0</td>\n",
       "      <td>0</td>\n",
       "      <td>NaN</td>\n",
       "      <td>1.0</td>\n",
       "      <td>3</td>\n",
       "      <td>8</td>\n",
       "      <td>0</td>\n",
       "    </tr>\n",
       "    <tr>\n",
       "      <th>2</th>\n",
       "      <td>1.0</td>\n",
       "      <td>5PSolutions</td>\n",
       "      <td>2007</td>\n",
       "      <td>Fairfax</td>\n",
       "      <td>31</td>\n",
       "      <td>5</td>\n",
       "      <td>2</td>\n",
       "      <td>2</td>\n",
       "      <td>1</td>\n",
       "      <td>1</td>\n",
       "      <td>1</td>\n",
       "      <td>0</td>\n",
       "      <td>0</td>\n",
       "      <td>0</td>\n",
       "      <td>NaN</td>\n",
       "      <td>1.0</td>\n",
       "      <td>10</td>\n",
       "      <td>200</td>\n",
       "      <td>0</td>\n",
       "    </tr>\n",
       "    <tr>\n",
       "      <th>3</th>\n",
       "      <td>2.0</td>\n",
       "      <td>Accela</td>\n",
       "      <td>1999</td>\n",
       "      <td>San Ramon</td>\n",
       "      <td>3</td>\n",
       "      <td>750</td>\n",
       "      <td>2</td>\n",
       "      <td>9</td>\n",
       "      <td>0</td>\n",
       "      <td>1</td>\n",
       "      <td>0</td>\n",
       "      <td>0</td>\n",
       "      <td>0</td>\n",
       "      <td>0</td>\n",
       "      <td>NaN</td>\n",
       "      <td>80.0</td>\n",
       "      <td>18</td>\n",
       "      <td>107</td>\n",
       "      <td>0</td>\n",
       "    </tr>\n",
       "    <tr>\n",
       "      <th>4</th>\n",
       "      <td>3.0</td>\n",
       "      <td>Accenture</td>\n",
       "      <td>1989</td>\n",
       "      <td>Chicago</td>\n",
       "      <td>9</td>\n",
       "      <td>10001</td>\n",
       "      <td>3</td>\n",
       "      <td>15</td>\n",
       "      <td>1</td>\n",
       "      <td>0</td>\n",
       "      <td>0</td>\n",
       "      <td>0</td>\n",
       "      <td>0</td>\n",
       "      <td>0</td>\n",
       "      <td>NaN</td>\n",
       "      <td>39600.0</td>\n",
       "      <td>28</td>\n",
       "      <td>3960</td>\n",
       "      <td>1</td>\n",
       "    </tr>\n",
       "  </tbody>\n",
       "</table>\n",
       "</div>"
      ],
      "text/plain": [
       "    0                  1             2             3      4      5   \\\n",
       "0  NaN       company_name  year_founded          city  state   size   \n",
       "1  0.0  48 Factoring Inc.          2014  Philadelphia     26    125   \n",
       "2  1.0        5PSolutions          2007       Fairfax     31      5   \n",
       "3  2.0             Accela          1999     San Ramon      3    750   \n",
       "4  3.0          Accenture          1989       Chicago      9  10001   \n",
       "\n",
       "             6                 7    8    9    10   11        12         13  \\\n",
       "0  company_type  company_category  b2b  b2c  b2g  b2n  academia  nonprofit   \n",
       "1             2                 6    1    0    0    0         0          0   \n",
       "2             2                 2    1    1    1    0         0          0   \n",
       "3             2                 9    0    1    0    0         0          0   \n",
       "4             3                15    1    0    0    0         0          0   \n",
       "\n",
       "             14       15   16        17       18  \n",
       "0  money_raised  revenue  age  empl_val  success  \n",
       "1           NaN      1.0    3         8        0  \n",
       "2           NaN      1.0   10       200        0  \n",
       "3           NaN     80.0   18       107        0  \n",
       "4           NaN  39600.0   28      3960        1  "
      ]
     },
     "execution_count": 483,
     "metadata": {},
     "output_type": "execute_result"
    }
   ],
   "source": [
    "# data csv file contained in the same folder as the project\n",
    "datafnEnc = 'companiesProcessedEncoded.csv'\n",
    "\n",
    "# df encoded for dataset with all numerical values instead of categorical\n",
    "df = pd.read_csv(datafnEnc, na_values = ['?'], header = None)\n",
    "\n",
    "# check first five rows of the dataset\n",
    "df.head()"
   ]
  },
  {
   "cell_type": "code",
   "execution_count": 484,
   "metadata": {
    "scrolled": true
   },
   "outputs": [
    {
     "name": "stdout",
     "output_type": "stream",
     "text": [
      "dataframe we will use for main analysis\n",
      " 0       company_name year_founded           city state   size company_type  \\\n",
      "0  48 Factoring Inc.         2014   Philadelphia    26    125            2   \n",
      "1        5PSolutions         2007        Fairfax    31      5            2   \n",
      "2             Accela         1999      San Ramon     3    750            2   \n",
      "3          Accenture         1989        Chicago     9  10001            3   \n",
      "4        AccuWeather         1962  State College    26    350            2   \n",
      "\n",
      "0 company_category b2b b2c b2g b2n academia nonprofit money_raised  revenue  \\\n",
      "0                6   1   0   0   0        0         0          NaN      1.0   \n",
      "1                2   1   1   1   0        0         0          NaN      1.0   \n",
      "2                9   0   1   0   0        0         0          NaN     80.0   \n",
      "3               15   1   0   0   0        0         0          NaN  39600.0   \n",
      "4                5   1   1   1   0        0         0          NaN     59.0   \n",
      "\n",
      "0 age empl_val success  \n",
      "0   3        8       0  \n",
      "1  10      200       0  \n",
      "2  18      107       0  \n",
      "3  28     3960       1  \n",
      "4  55      169       0  \n"
     ]
    }
   ],
   "source": [
    "# setting the elements in the first row as column names\n",
    "df.columns = df.iloc[0]\n",
    "\n",
    "# dropping the first row since now we have the correct column names\n",
    "df.drop(axis = 0, index = 0, inplace = True)\n",
    "\n",
    "# Use reset_index()\n",
    "df.reset_index(drop = True, inplace = True)\n",
    "\n",
    "df.drop(columns = np.nan, inplace = True)\n",
    "print('dataframe we will use for main analysis\\n', df.head())"
   ]
  },
  {
   "cell_type": "markdown",
   "metadata": {},
   "source": [
    "___"
   ]
  },
  {
   "cell_type": "markdown",
   "metadata": {},
   "source": [
    "### Converting values to numerical when appropriate\n",
    "\n",
    "All values became object types when exported from preprocessing file"
   ]
  },
  {
   "cell_type": "code",
   "execution_count": 485,
   "metadata": {},
   "outputs": [],
   "source": [
    "intCols = ['year_founded','state','size','company_type',\n",
    "           'company_category','b2b','b2c','b2g','b2n',\n",
    "           'academia','nonprofit','age', 'empl_val', 'success']\n",
    "floatCols = ['money_raised', 'revenue']"
   ]
  },
  {
   "cell_type": "code",
   "execution_count": 486,
   "metadata": {},
   "outputs": [],
   "source": [
    "# converting columns into int types\n",
    "for col in intCols:\n",
    "    df[col] = df[col].astype(int)\n",
    "for col in floatCols:\n",
    "    df[col] = df[col].astype(float)\n"
   ]
  },
  {
   "cell_type": "code",
   "execution_count": 487,
   "metadata": {},
   "outputs": [
    {
     "name": "stdout",
     "output_type": "stream",
     "text": [
      "Ensuring column types we need are integers or floats\n",
      "\n",
      "<class 'pandas.core.frame.DataFrame'>\n",
      "RangeIndex: 403 entries, 0 to 402\n",
      "Data columns (total 18 columns):\n",
      "company_name        403 non-null object\n",
      "year_founded        403 non-null int32\n",
      "city                403 non-null object\n",
      "state               403 non-null int32\n",
      "size                403 non-null int32\n",
      "company_type        403 non-null int32\n",
      "company_category    403 non-null int32\n",
      "b2b                 403 non-null int32\n",
      "b2c                 403 non-null int32\n",
      "b2g                 403 non-null int32\n",
      "b2n                 403 non-null int32\n",
      "academia            403 non-null int32\n",
      "nonprofit           403 non-null int32\n",
      "money_raised        133 non-null float64\n",
      "revenue             403 non-null int32\n",
      "age                 403 non-null int32\n",
      "empl_val            403 non-null int32\n",
      "success             403 non-null int32\n",
      "dtypes: float64(1), int32(15), object(2)\n",
      "memory usage: 33.1+ KB\n"
     ]
    }
   ],
   "source": [
    "print('Ensuring column types we need are integers or floats\\n')\n",
    "df['revenue'] = df['revenue'].astype(int)\n",
    "df.info()"
   ]
  },
  {
   "cell_type": "markdown",
   "metadata": {},
   "source": [
    "_____________________"
   ]
  },
  {
   "cell_type": "markdown",
   "metadata": {},
   "source": [
    "## The question we are trying to answer is: What makes a company successful?"
   ]
  },
  {
   "cell_type": "code",
   "execution_count": 488,
   "metadata": {},
   "outputs": [
    {
     "name": "stdout",
     "output_type": "stream",
     "text": [
      "The question we are trying to answer is: What makes a company successful?\n"
     ]
    }
   ],
   "source": [
    "print('The question we are trying to answer is: What makes a company successful?')"
   ]
  },
  {
   "cell_type": "markdown",
   "metadata": {},
   "source": [
    "    \n",
    "    The target column will be the degree of success of a company. This comes from the ratio between revenue and size and then checking if that revenue is:\n",
    "    \n",
    "    greater than 100 000 - successful\n",
    "    in between 1000 and 100000 - average success or growing\n",
    "    less than 1000 - not very successful or beginning\n",
    "    \n",
    "    \n",
    "### Since we are dealing with a lot of categorical data the algorithms we will try to run are:\n",
    "    Linear regression to see if there any good is correlation between the target success and other columns\n",
    "    \n",
    "    We will try different classification models such as Naive Bayes Classification, Support Vector Machines, Clustering, and Neural Networks"
   ]
  },
  {
   "cell_type": "code",
   "execution_count": 489,
   "metadata": {},
   "outputs": [
    {
     "name": "stdout",
     "output_type": "stream",
     "text": [
      "Since we are dealing with a lot of categorical data, the algorithms we will try to run are:\n",
      "Linear regression to start, but mainly Multiple Linear regression to see if the different features we have can predict our continuous target variable of employee value\n",
      "We will try different classification models such as Naive Bayes Classification, Support Vector Machines, and Neural Networks to predict the degree of success for new companies\n"
     ]
    }
   ],
   "source": [
    "print('Since we are dealing with a lot of categorical data, the algorithms we will try to run are:')\n",
    "print('Linear regression to start, but mainly Multiple Linear regression to see if the different features we have can predict our continuous target variable of employee value')\n",
    "print('We will try different classification models such as Naive Bayes Classification, Support Vector Machines, and Neural Networks to predict the degree of success for new companies')\n"
   ]
  },
  {
   "cell_type": "markdown",
   "metadata": {},
   "source": [
    "## Linear Regression"
   ]
  },
  {
   "cell_type": "code",
   "execution_count": 490,
   "metadata": {},
   "outputs": [
    {
     "name": "stdout",
     "output_type": "stream",
     "text": [
      "\n",
      "\n",
      "Linear Regression\n"
     ]
    }
   ],
   "source": [
    "print('\\n\\nLinear Regression')"
   ]
  },
  {
   "cell_type": "code",
   "execution_count": 491,
   "metadata": {},
   "outputs": [],
   "source": [
    "# import LinearRegrssion \n",
    "from sklearn.linear_model import LinearRegression\n",
    "from sklearn.metrics import mean_squared_error\n",
    "lm = LinearRegression()\n",
    "\n",
    "def companiesSLR(name1, name2):\n",
    "    '''  \n",
    "    name1: independent variable\n",
    "    name2: dependent variable\n",
    "    \n",
    "    builds a simple linear regression model\n",
    "    and displays the R2 score and the line equation\n",
    "    '''\n",
    "    print('Linear regression between', name1, 'and', name2, '\\n')\n",
    "    X1 = df[[name1]]\n",
    "    Y  = df[name2]\n",
    "\n",
    "    # training/fitting \n",
    "    lm.fit(X1, Y)\n",
    "    r2 = lm.score(X1, Y)\n",
    "    b0 = lm.intercept_\n",
    "    b1 = lm.coef_\n",
    "    \n",
    "    print('R^2 = ', r2)\n",
    "    \n",
    "    print('b0 = intercept = ', b0)\n",
    "    print('b1 = coef = ', b1)\n",
    "\n",
    "    # display line equation\n",
    "    print(name2, '=', b0, '+', b1[0], '*', name1)\n",
    "    \n",
    "    # display regression plot and residual plot side by side\n",
    "    fig = plt.figure(figsize=(16, 8))\n",
    "    fig.add_subplot(1,2,1)\n",
    "    sns.regplot(df[name1], df[name2])\n",
    "    plt.title('Regression Plot')\n",
    "    \n",
    "    fig.add_subplot(1,2,2)\n",
    "    sns.residplot(df[name1], df[name2])\n",
    "    plt.title('Residual Plot')"
   ]
  },
  {
   "cell_type": "code",
   "execution_count": 492,
   "metadata": {},
   "outputs": [
    {
     "name": "stdout",
     "output_type": "stream",
     "text": [
      "Linear regression between size and revenue \n",
      "\n",
      "R^2 =  0.023380137005746815\n",
      "b0 = intercept =  1926.0785961734464\n",
      "b1 = coef =  [0.63950776]\n",
      "revenue = 1926.0785961734464 + 0.639507761595102 * size\n"
     ]
    },
    {
     "name": "stderr",
     "output_type": "stream",
     "text": [
      "C:\\Users\\Mateus Maccieri\\Anaconda3\\lib\\site-packages\\scipy\\stats\\stats.py:1713: FutureWarning: Using a non-tuple sequence for multidimensional indexing is deprecated; use `arr[tuple(seq)]` instead of `arr[seq]`. In the future this will be interpreted as an array index, `arr[np.array(seq)]`, which will result either in an error or a different result.\n",
      "  return np.add.reduce(sorted[indexer] * weights, axis=axis) / sumval\n"
     ]
    },
    {
     "data": {
      "image/png": "[encoded data removed]",
      "text/plain": [
       "<Figure size 1152x576 with 2 Axes>"
      ]
     },
     "metadata": {
      "needs_background": "light"
     },
     "output_type": "display_data"
    }
   ],
   "source": [
    "companiesSLR('size', 'revenue')"
   ]
  },
  {
   "cell_type": "code",
   "execution_count": 493,
   "metadata": {
    "scrolled": true
   },
   "outputs": [
    {
     "name": "stdout",
     "output_type": "stream",
     "text": [
      "Linear regression between company_type and revenue \n",
      "\n",
      "R^2 =  0.005823992415807222\n",
      "b0 = intercept =  -926.6347889729204\n",
      "b1 = coef =  [1800.2431894]\n",
      "revenue = -926.6347889729204 + 1800.2431893957876 * company_type\n"
     ]
    },
    {
     "name": "stderr",
     "output_type": "stream",
     "text": [
      "C:\\Users\\Mateus Maccieri\\Anaconda3\\lib\\site-packages\\scipy\\stats\\stats.py:1713: FutureWarning: Using a non-tuple sequence for multidimensional indexing is deprecated; use `arr[tuple(seq)]` instead of `arr[seq]`. In the future this will be interpreted as an array index, `arr[np.array(seq)]`, which will result either in an error or a different result.\n",
      "  return np.add.reduce(sorted[indexer] * weights, axis=axis) / sumval\n"
     ]
    },
    {
     "data": {
      "image/png": "[encoded data removed]",
      "text/plain": [
       "<Figure size 1152x576 with 2 Axes>"
      ]
     },
     "metadata": {
      "needs_background": "light"
     },
     "output_type": "display_data"
    }
   ],
   "source": [
    "companiesSLR('company_type', 'revenue')"
   ]
  },
  {
   "cell_type": "code",
   "execution_count": 494,
   "metadata": {
    "scrolled": true
   },
   "outputs": [
    {
     "name": "stdout",
     "output_type": "stream",
     "text": [
      "Linear regression between company_category and revenue \n",
      "\n",
      "R^2 =  0.00028144153499809477\n",
      "b0 = intercept =  2476.042531567491\n",
      "b1 = coef =  [44.27487573]\n",
      "revenue = 2476.042531567491 + 44.274875732664526 * company_category\n"
     ]
    },
    {
     "name": "stderr",
     "output_type": "stream",
     "text": [
      "C:\\Users\\Mateus Maccieri\\Anaconda3\\lib\\site-packages\\scipy\\stats\\stats.py:1713: FutureWarning: Using a non-tuple sequence for multidimensional indexing is deprecated; use `arr[tuple(seq)]` instead of `arr[seq]`. In the future this will be interpreted as an array index, `arr[np.array(seq)]`, which will result either in an error or a different result.\n",
      "  return np.add.reduce(sorted[indexer] * weights, axis=axis) / sumval\n"
     ]
    },
    {
     "data": {
      "image/png": "[encoded data removed]",
      "text/plain": [
       "<Figure size 1152x576 with 2 Axes>"
      ]
     },
     "metadata": {
      "needs_background": "light"
     },
     "output_type": "display_data"
    }
   ],
   "source": [
    "companiesSLR('company_category', 'revenue')"
   ]
  },
  {
   "cell_type": "code",
   "execution_count": 495,
   "metadata": {
    "scrolled": true
   },
   "outputs": [
    {
     "name": "stdout",
     "output_type": "stream",
     "text": [
      "Linear regression between state and revenue \n",
      "\n",
      "R^2 =  0.0008428597233184343\n",
      "b0 = intercept =  3342.641492548455\n",
      "b1 = coef =  [-37.08793526]\n",
      "revenue = 3342.641492548455 + -37.08793525677512 * state\n"
     ]
    },
    {
     "name": "stderr",
     "output_type": "stream",
     "text": [
      "C:\\Users\\Mateus Maccieri\\Anaconda3\\lib\\site-packages\\scipy\\stats\\stats.py:1713: FutureWarning: Using a non-tuple sequence for multidimensional indexing is deprecated; use `arr[tuple(seq)]` instead of `arr[seq]`. In the future this will be interpreted as an array index, `arr[np.array(seq)]`, which will result either in an error or a different result.\n",
      "  return np.add.reduce(sorted[indexer] * weights, axis=axis) / sumval\n"
     ]
    },
    {
     "data": {
      "image/png": "[encoded data removed]",
      "text/plain": [
       "<Figure size 1152x576 with 2 Axes>"
      ]
     },
     "metadata": {
      "needs_background": "light"
     },
     "output_type": "display_data"
    }
   ],
   "source": [
    "companiesSLR('state', 'revenue')"
   ]
  },
  {
   "cell_type": "code",
   "execution_count": 496,
   "metadata": {},
   "outputs": [
    {
     "name": "stdout",
     "output_type": "stream",
     "text": [
      "Linear regression between year_founded and revenue \n",
      "\n",
      "R^2 =  0.026048199481056744\n",
      "b0 = intercept =  135840.6749168251\n",
      "b1 = coef =  [-66.71273338]\n",
      "revenue = 135840.6749168251 + -66.712733383951 * year_founded\n"
     ]
    },
    {
     "name": "stderr",
     "output_type": "stream",
     "text": [
      "C:\\Users\\Mateus Maccieri\\Anaconda3\\lib\\site-packages\\scipy\\stats\\stats.py:1713: FutureWarning: Using a non-tuple sequence for multidimensional indexing is deprecated; use `arr[tuple(seq)]` instead of `arr[seq]`. In the future this will be interpreted as an array index, `arr[np.array(seq)]`, which will result either in an error or a different result.\n",
      "  return np.add.reduce(sorted[indexer] * weights, axis=axis) / sumval\n"
     ]
    },
    {
     "data": {
      "image/png": "[encoded data removed]",
      "text/plain": [
       "<Figure size 1152x576 with 2 Axes>"
      ]
     },
     "metadata": {
      "needs_background": "light"
     },
     "output_type": "display_data"
    }
   ],
   "source": [
    "companiesSLR('year_founded', 'revenue')"
   ]
  },
  {
   "cell_type": "code",
   "execution_count": 497,
   "metadata": {
    "scrolled": true
   },
   "outputs": [
    {
     "name": "stdout",
     "output_type": "stream",
     "text": [
      "Linear regression between company_category and size \n",
      "\n",
      "R^2 =  0.00034703777964584237\n",
      "b0 = intercept =  1279.152658865489\n",
      "b1 = coef =  [11.75518152]\n",
      "size = 1279.152658865489 + 11.755181516572964 * company_category\n"
     ]
    },
    {
     "name": "stderr",
     "output_type": "stream",
     "text": [
      "C:\\Users\\Mateus Maccieri\\Anaconda3\\lib\\site-packages\\scipy\\stats\\stats.py:1713: FutureWarning: Using a non-tuple sequence for multidimensional indexing is deprecated; use `arr[tuple(seq)]` instead of `arr[seq]`. In the future this will be interpreted as an array index, `arr[np.array(seq)]`, which will result either in an error or a different result.\n",
      "  return np.add.reduce(sorted[indexer] * weights, axis=axis) / sumval\n"
     ]
    },
    {
     "data": {
      "image/png": "[encoded data removed]",
      "text/plain": [
       "<Figure size 1152x576 with 2 Axes>"
      ]
     },
     "metadata": {
      "needs_background": "light"
     },
     "output_type": "display_data"
    }
   ],
   "source": [
    "companiesSLR('company_category', 'size')"
   ]
  },
  {
   "cell_type": "code",
   "execution_count": 498,
   "metadata": {},
   "outputs": [
    {
     "name": "stdout",
     "output_type": "stream",
     "text": [
      "Linear regression between company_type and size \n",
      "\n",
      "R^2 =  0.168827026885762\n",
      "b0 = intercept =  -3431.133447182241\n",
      "b1 = coef =  [2317.49853623]\n",
      "size = -3431.133447182241 + 2317.498536228349 * company_type\n"
     ]
    },
    {
     "name": "stderr",
     "output_type": "stream",
     "text": [
      "C:\\Users\\Mateus Maccieri\\Anaconda3\\lib\\site-packages\\scipy\\stats\\stats.py:1713: FutureWarning: Using a non-tuple sequence for multidimensional indexing is deprecated; use `arr[tuple(seq)]` instead of `arr[seq]`. In the future this will be interpreted as an array index, `arr[np.array(seq)]`, which will result either in an error or a different result.\n",
      "  return np.add.reduce(sorted[indexer] * weights, axis=axis) / sumval\n"
     ]
    },
    {
     "data": {
      "image/png": "[encoded data removed]",
      "text/plain": [
       "<Figure size 1152x576 with 2 Axes>"
      ]
     },
     "metadata": {
      "needs_background": "light"
     },
     "output_type": "display_data"
    }
   ],
   "source": [
    "companiesSLR('company_type', 'size')"
   ]
  },
  {
   "cell_type": "code",
   "execution_count": 499,
   "metadata": {},
   "outputs": [
    {
     "name": "stdout",
     "output_type": "stream",
     "text": [
      "Linear regression between b2b and empl_val \n",
      "\n",
      "R^2 =  0.0013820840813584256\n",
      "b0 = intercept =  58437.274809160335\n",
      "b1 = coef =  [66154.79872025]\n",
      "empl_val = 58437.274809160335 + 66154.79872025142 * b2b\n"
     ]
    },
    {
     "name": "stderr",
     "output_type": "stream",
     "text": [
      "C:\\Users\\Mateus Maccieri\\Anaconda3\\lib\\site-packages\\scipy\\stats\\stats.py:1713: FutureWarning: Using a non-tuple sequence for multidimensional indexing is deprecated; use `arr[tuple(seq)]` instead of `arr[seq]`. In the future this will be interpreted as an array index, `arr[np.array(seq)]`, which will result either in an error or a different result.\n",
      "  return np.add.reduce(sorted[indexer] * weights, axis=axis) / sumval\n"
     ]
    },
    {
     "data": {
      "image/png": "[encoded data removed]",
      "text/plain": [
       "<Figure size 1152x576 with 2 Axes>"
      ]
     },
     "metadata": {
      "needs_background": "light"
     },
     "output_type": "display_data"
    }
   ],
   "source": [
    "companiesSLR('b2b', 'empl_val')"
   ]
  },
  {
   "cell_type": "code",
   "execution_count": 500,
   "metadata": {},
   "outputs": [
    {
     "name": "stdout",
     "output_type": "stream",
     "text": [
      "Linear regression between revenue and empl_val \n",
      "\n",
      "R^2 =  0.20227175381281604\n",
      "b0 = intercept =  22266.775480266093\n",
      "b1 = coef =  [28.87563087]\n",
      "empl_val = 22266.775480266093 + 28.87563087412222 * revenue\n"
     ]
    },
    {
     "name": "stderr",
     "output_type": "stream",
     "text": [
      "C:\\Users\\Mateus Maccieri\\Anaconda3\\lib\\site-packages\\scipy\\stats\\stats.py:1713: FutureWarning: Using a non-tuple sequence for multidimensional indexing is deprecated; use `arr[tuple(seq)]` instead of `arr[seq]`. In the future this will be interpreted as an array index, `arr[np.array(seq)]`, which will result either in an error or a different result.\n",
      "  return np.add.reduce(sorted[indexer] * weights, axis=axis) / sumval\n"
     ]
    },
    {
     "data": {
      "image/png": "[encoded data removed]",
      "text/plain": [
       "<Figure size 1152x576 with 2 Axes>"
      ]
     },
     "metadata": {
      "needs_background": "light"
     },
     "output_type": "display_data"
    }
   ],
   "source": [
    "companiesSLR('revenue', 'empl_val')"
   ]
  },
  {
   "cell_type": "code",
   "execution_count": 501,
   "metadata": {},
   "outputs": [
    {
     "name": "stdout",
     "output_type": "stream",
     "text": [
      "Linear regression between revenue and empl_val \n",
      "\n",
      "R^2 =  0.20227175381281604\n",
      "b0 = intercept =  22266.775480266093\n",
      "b1 = coef =  [28.87563087]\n",
      "empl_val = 22266.775480266093 + 28.87563087412222 * revenue\n"
     ]
    },
    {
     "name": "stderr",
     "output_type": "stream",
     "text": [
      "C:\\Users\\Mateus Maccieri\\Anaconda3\\lib\\site-packages\\scipy\\stats\\stats.py:1713: FutureWarning: Using a non-tuple sequence for multidimensional indexing is deprecated; use `arr[tuple(seq)]` instead of `arr[seq]`. In the future this will be interpreted as an array index, `arr[np.array(seq)]`, which will result either in an error or a different result.\n",
      "  return np.add.reduce(sorted[indexer] * weights, axis=axis) / sumval\n"
     ]
    },
    {
     "data": {
      "image/png": "[encoded data removed]",
      "text/plain": [
       "<Figure size 1152x576 with 2 Axes>"
      ]
     },
     "metadata": {
      "needs_background": "light"
     },
     "output_type": "display_data"
    }
   ],
   "source": [
    "companiesSLR('revenue', 'empl_val')"
   ]
  },
  {
   "cell_type": "markdown",
   "metadata": {},
   "source": [
    "___"
   ]
  },
  {
   "cell_type": "code",
   "execution_count": 502,
   "metadata": {},
   "outputs": [],
   "source": [
    "from sklearn.linear_model import LinearRegression\n",
    "lm = LinearRegression()\n"
   ]
  },
  {
   "cell_type": "markdown",
   "metadata": {},
   "source": [
    "### Splitting the data into 70% training and 30% testing"
   ]
  },
  {
   "cell_type": "markdown",
   "metadata": {},
   "source": [
    "### Linear regression\n",
    "\n",
    "### With Cross Validation\n"
   ]
  },
  {
   "cell_type": "code",
   "execution_count": 505,
   "metadata": {},
   "outputs": [
    {
     "name": "stdout",
     "output_type": "stream",
     "text": [
      "Linear regression with cross validation\n",
      "score array: [-2.39644183e+02 -4.89877121e-01  3.65080916e-01  1.59956138e-01\n",
      " -8.35477859e+01]\n",
      "scores mean -64.63136181176053\n",
      "We get really bad scores\n"
     ]
    }
   ],
   "source": [
    "# Checking cross validation\n",
    "from sklearn.metrics import mean_squared_error\n",
    "from sklearn.model_selection import cross_val_score\n",
    "from sklearn.model_selection import train_test_split\n",
    "print('Linear regression with cross validation')\n",
    "X = df.drop(columns = ['year_founded', 'city', 'company_name', 'money_raised', 'empl_val', 'success'])\n",
    "ytarget = df['empl_val']\n",
    "Xtrain, Xtest, Ytrain, Ytest = train_test_split(X, ytarget, test_size = .30, random_state = 42)\n",
    "\n",
    "\n",
    "clf = LinearRegression()\n",
    "\n",
    "scores = cross_val_score(clf, X, ytarget, cv=5)\n",
    "print('score array:', scores)\n",
    "print('scores mean', scores.mean())\n",
    "\n",
    "\n",
    "print('We get really bad scores')\n",
    "# lrm.score(Ytest, Yhat)\n",
    "# How can we get the code to see difference between Yhat and Ytest"
   ]
  },
  {
   "cell_type": "markdown",
   "metadata": {},
   "source": [
    "___"
   ]
  },
  {
   "cell_type": "code",
   "execution_count": 506,
   "metadata": {},
   "outputs": [
    {
     "name": "stdout",
     "output_type": "stream",
     "text": [
      "\n",
      "Multiple Linear Regression\n",
      "\n",
      "Using features: Index(['state', 'size', 'company_type', 'company_category', 'b2b', 'b2c',\n",
      "       'b2g', 'b2n', 'academia', 'nonprofit', 'revenue', 'age'],\n",
      "      dtype='object', name=0) and as target Index(['empl_val'], dtype='object') \n",
      "\n",
      "\n",
      "score train 0.2647623524462499\n",
      "test train -0.1292311881842516\n",
      "R^2 score is  1.0\n",
      "mse is  251257789198.6452\n"
     ]
    }
   ],
   "source": [
    "from sklearn.linear_model import LinearRegression\n",
    "\n",
    "print('\\nMultiple Linear Regression\\n')\n",
    "X = df.drop(columns = ['year_founded', 'city', 'company_name', 'money_raised', 'empl_val', 'success'])\n",
    "ytarget = df['empl_val']\n",
    "Xtrain, Xtest, Ytrain, Ytest = train_test_split(X, ytarget, test_size = .30, random_state = 42)\n",
    "print('Using features:', X.columns, 'and as target', pd.DataFrame(ytarget).columns,'\\n\\n')\n",
    "\n",
    "lm = LinearRegression()\n",
    "lm.fit(Xtrain, Ytrain)\n",
    "yhat = lm.predict(Xtest)\n",
    "score = lm.score(Xtest, yhat)\n",
    "print('score train', lm.score(Xtrain, Ytrain))\n",
    "print('test train', lm.score(Xtest, Ytest))\n",
    "\n",
    "mse = mean_squared_error(Ytest, yhat)\n",
    "print('R^2 score is ', score)\n",
    "print('mse is ', mse)\n"
   ]
  },
  {
   "cell_type": "code",
   "execution_count": 507,
   "metadata": {},
   "outputs": [
    {
     "name": "stdout",
     "output_type": "stream",
     "text": [
      "Multiple linear regression gives us very odd results.\n",
      "The R^2 = 1.0 means that the model can perfectly explain the variance in the data, however we get a really big mse score.\n",
      "We believe we do not have enough data in our dataset. We have lots of small companies, some very big companies, but nothing in between.\n",
      "A good number of companies have very big revenues, so these outliers significantly affect our data.\n",
      "\n",
      "\n"
     ]
    }
   ],
   "source": [
    "# print(lm.coef_)\n",
    "# # print(Xtest.columns)\n",
    "# # print(yhat - Ytest)\n",
    "# print('min difference', min(abs(yhat - Ytest)))\n",
    "# print('max difference', max(abs(yhat - Ytest)))\n",
    "# print(list(zip(yhat, Ytest)))\n",
    "# # 3 company type 10e4 \n",
    "# # 5 b2b 10e5\n",
    "# # 6 b2c 10e5\n",
    "# # 7 b2g 10e4\n",
    "# # 8 b2n 10e5\n",
    "# # 9 academia 10e5\n",
    "# # 10 nonprofit 10e4\n",
    "# # age 10e3\n",
    "\n",
    "# # state 10e1\n",
    "# # size 10e1\n",
    "# # company_category 10e2\n",
    "# # revenue 10e1\n",
    "\n",
    "# # it's possible to draw with multiple variables. Do multivariable normalization\n",
    "# import matplotlib.pyplot as plt\n",
    "# plt.scatter(range(len(yhat)), yhat/ 100)\n",
    "# plt.scatter(range(len(Ytest)), Ytest/ 100, color = 'r')\n",
    "# print('min yhat is ', min(yhat), 'max yhat is ', max(yhat))\n",
    "# print('min Ytest is ', min(Ytest), 'max Ytest is ', max(Ytest))\n",
    "\n",
    "\n",
    "# plt.scatter(range(len(yhat)), abs(yhat - Ytest))\n",
    "# model can predict really well the variance in the data\n",
    "print('Multiple linear regression gives us very odd results.')\n",
    "print('The R^2 = 1.0 means that the model can perfectly explain the variance in the data, however we get a really big mse score.')\n",
    "print('We believe we do not have enough data in our dataset. We have lots of small companies, some very big companies, but nothing in between.')\n",
    "print('A good number of companies have very big revenues, so these outliers significantly affect our data.\\n\\n')"
   ]
  },
  {
   "cell_type": "code",
   "execution_count": 508,
   "metadata": {},
   "outputs": [
    {
     "name": "stdout",
     "output_type": "stream",
     "text": [
      "End of regression\n",
      "_____________________________________________________________________________________\n",
      "\n",
      "\n"
     ]
    }
   ],
   "source": [
    "print('End of regression')\n",
    "print('_____________________________________________________________________________________\\n\\n')"
   ]
  },
  {
   "cell_type": "markdown",
   "metadata": {},
   "source": [
    "____"
   ]
  },
  {
   "cell_type": "code",
   "execution_count": 510,
   "metadata": {},
   "outputs": [
    {
     "name": "stdout",
     "output_type": "stream",
     "text": [
      "Classification\n",
      "\n",
      "\n",
      "We split all our models with 70% training and 30% testing.\n",
      "\n",
      "\n",
      "Naive Bayesian Classification\n"
     ]
    }
   ],
   "source": [
    "print('Classification\\n\\n')\n",
    "print('We split all our models with 70% training and 30% testing.\\n\\n')\n",
    "print('Naive Bayesian Classification')"
   ]
  },
  {
   "cell_type": "markdown",
   "metadata": {},
   "source": [
    "### It seems that regression is not the way to go.\n",
    "\n",
    "# Let's try classification."
   ]
  },
  {
   "cell_type": "markdown",
   "metadata": {},
   "source": [
    "## Naive Bayesian Classification"
   ]
  },
  {
   "cell_type": "markdown",
   "metadata": {},
   "source": [
    "### Splitting the data into 70% training and 30% testing\n"
   ]
  },
  {
   "cell_type": "code",
   "execution_count": 330,
   "metadata": {},
   "outputs": [],
   "source": [
    "# X = df.drop(columns = ['year_founded', 'city', 'company_name', 'money_raised', 'empl_val', 'success', 'size', 'revenue'])\n",
    "\n",
    "\n",
    "from sklearn.naive_bayes import GaussianNB\n",
    "from sklearn.metrics import accuracy_score"
   ]
  },
  {
   "cell_type": "code",
   "execution_count": 512,
   "metadata": {
    "scrolled": true
   },
   "outputs": [
    {
     "name": "stdout",
     "output_type": "stream",
     "text": [
      "Features used are  Index(['state', 'size', 'company_type', 'company_category', 'b2b', 'b2c',\n",
      "       'b2g', 'b2n', 'academia', 'nonprofit', 'revenue', 'age'],\n",
      "      dtype='object', name=0)\n",
      "target is degree of success\n",
      "Naive Bayes accuracy score: 0.7024793388429752 \n",
      "\n"
     ]
    }
   ],
   "source": [
    "X = df.drop(columns = ['year_founded', 'city', 'company_name', 'money_raised', 'empl_val', 'success'])\n",
    "ytarget = df['success']\n",
    "Xtrain, Xtest, Ytrain, Ytest = train_test_split(X, ytarget, test_size = .30, random_state = 42)\n",
    "print('Features used are ', X.columns)\n",
    "print('target is degree of success')\n",
    "model = GaussianNB()\n",
    "model.fit(Xtrain, Ytrain)\n",
    "yhat = model.predict(Xtest)\n",
    "print('Naive Bayes accuracy score:', accuracy_score(Ytest, yhat), '\\n')"
   ]
  },
  {
   "cell_type": "code",
   "execution_count": 513,
   "metadata": {},
   "outputs": [
    {
     "name": "stdout",
     "output_type": "stream",
     "text": [
      "Features used are  Index(['state', 'size', 'company_type', 'company_category', 'b2b', 'b2c',\n",
      "       'b2g', 'b2n', 'academia', 'nonprofit', 'revenue', 'age'],\n",
      "      dtype='object', name=0)\n",
      "target is degree of success\n",
      "Naive Bayes accuracy score cross validation:  0.7093608376308798 \n",
      "\n"
     ]
    }
   ],
   "source": [
    "from sklearn.cross_validation import cross_val_score\n",
    "from sklearn import svm\n",
    "X = df.drop(columns = ['year_founded', 'city', 'company_name', 'money_raised', 'empl_val', 'success'])\n",
    "Ytarget = df['success']\n",
    "print('Features used are ', X.columns)\n",
    "print('target is degree of success')\n",
    "model = GaussianNB()\n",
    "\n",
    "scores = cross_val_score(model, X, Ytarget, cv = 5)\n",
    "print('Naive Bayes accuracy score cross validation: ', scores.mean(), '\\n')"
   ]
  },
  {
   "cell_type": "code",
   "execution_count": 514,
   "metadata": {},
   "outputs": [
    {
     "name": "stdout",
     "output_type": "stream",
     "text": [
      "Naive Bayes Classification does not work so well with out data.\n",
      "\n",
      "\n"
     ]
    }
   ],
   "source": [
    "print('Naive Bayes Classification does not work so well with out data.\\n\\n')"
   ]
  },
  {
   "cell_type": "markdown",
   "metadata": {},
   "source": [
    "___"
   ]
  },
  {
   "cell_type": "markdown",
   "metadata": {},
   "source": [
    "### Naive Bayes Classification does not work so well with out data.\n",
    "\n",
    "### We'll try Support Vector Machines"
   ]
  },
  {
   "cell_type": "code",
   "execution_count": 515,
   "metadata": {},
   "outputs": [
    {
     "name": "stdout",
     "output_type": "stream",
     "text": [
      "Support Vector Machines\n",
      "\n"
     ]
    }
   ],
   "source": [
    "print('Support Vector Machines\\n')"
   ]
  },
  {
   "cell_type": "code",
   "execution_count": 516,
   "metadata": {},
   "outputs": [],
   "source": [
    "X = df.drop(columns = ['year_founded', 'city', 'company_name', 'money_raised', 'empl_val', 'success'])\n",
    "Ytarget = df['success']\n",
    "\n",
    "Xtrain, Xtest, Ytrain, Ytest = train_test_split(X, Ytarget, test_size = .30, random_state = 42)\n"
   ]
  },
  {
   "cell_type": "code",
   "execution_count": 518,
   "metadata": {
    "scrolled": false
   },
   "outputs": [
    {
     "name": "stdout",
     "output_type": "stream",
     "text": [
      "Using grid search to find best parameters.\n",
      "Best parameters are: {'C': 30, 'kernel': 'linear'}\n",
      "Best estimator is: SVC(C=30, cache_size=200, class_weight=None, coef0=0.0,\n",
      "  decision_function_shape='ovr', degree=3, gamma='auto', kernel='linear',\n",
      "  max_iter=-1, probability=False, random_state=None, shrinking=True,\n",
      "  tol=0.001, verbose=False) \n",
      "\n",
      "Mean test score using grid search: 0.8260933806146573 \n",
      "\n"
     ]
    }
   ],
   "source": [
    "# Grid search to check for different parameters\n",
    "from sklearn.model_selection import GridSearchCV\n",
    "from sklearn.svm import SVC\n",
    "\n",
    "# params = [{'kernel':['linear','poly','sigmoid', 'rbf'], 'C':['0.01', '1', '30', '100', '1E5', '1E10']}]\n",
    "params = [{'kernel':['linear','poly','sigmoid', 'rbf'], 'C':[0.001, 0.01, 1, 30, 1E6, 1E10]}]\n",
    "\n",
    "svm = SVC()\n",
    "# cv \n",
    "grid = GridSearchCV(svm, params )\n",
    "grid.fit(Xtrain, Ytrain)\n",
    "print('Using grid search to find best parameters.')\n",
    "print('Best parameters are:', grid.best_params_)\n",
    "print('Best estimator is:', grid.best_estimator_, '\\n')\n",
    "\n",
    "scores = grid.cv_results_\n",
    "print('Mean test score using grid search:', scores['mean_test_score'].mean(), '\\n')\n",
    "\n"
   ]
  },
  {
   "cell_type": "code",
   "execution_count": 521,
   "metadata": {},
   "outputs": [
    {
     "name": "stdout",
     "output_type": "stream",
     "text": [
      "SVM using best parameters from grid search\n",
      "Support Vector Machines accuracy score: 0.9586776859504132 \n",
      "\n"
     ]
    }
   ],
   "source": [
    "# Using the best score found previously kernel = linear, C = 30\n",
    "# X = df.drop(columns = ['year_founded', 'city', 'company_name', 'money_raised', 'empl_val', 'success', 'size', 'revenue'])\n",
    "X = df.drop(columns = ['year_founded', 'city', 'company_name', 'money_raised', 'empl_val', 'success'])\n",
    "\n",
    "Ytarget = df['success']\n",
    "\n",
    "Xtrain, Xtest, Ytrain, Ytest = train_test_split(X, Ytarget, test_size = .30, random_state = 42)\n",
    "svm = SVC(kernel='linear', C = 30)\n",
    "svm.fit(Xtrain, Ytrain)\n",
    "yhat = svm.predict(Xtest)\n",
    "print('SVM using best parameters from grid search')\n",
    "print('Support Vector Machines accuracy score:', accuracy_score(Ytest, yhat), '\\n')\n",
    "# no correlation between size revenue and success so regression\n",
    "# try multiple linear regression MLR these columns and ratio bc it's continuous. Combined there could be interesting result"
   ]
  },
  {
   "cell_type": "code",
   "execution_count": 522,
   "metadata": {},
   "outputs": [
    {
     "name": "stdout",
     "output_type": "stream",
     "text": [
      "SVM accuracy score cross validation:  0.9875918112205031 \n",
      "\n"
     ]
    },
    {
     "data": {
      "text/plain": [
       "Index(['state', 'size', 'company_type', 'company_category', 'b2b', 'b2c',\n",
       "       'b2g', 'b2n', 'academia', 'nonprofit', 'revenue', 'age'],\n",
       "      dtype='object', name=0)"
      ]
     },
     "execution_count": 522,
     "metadata": {},
     "output_type": "execute_result"
    }
   ],
   "source": [
    "# SVM with Cross Validation\n",
    "from sklearn.model_selection import cross_val_score\n",
    "from sklearn import svm\n",
    "X = df.drop(columns = ['year_founded', 'city', 'company_name', 'money_raised', 'empl_val', 'success'])\n",
    "Ytarget = df['success']\n",
    "\n",
    "Xtrain, Xtest, Ytrain, Ytest = train_test_split(X, Ytarget, test_size = .30, random_state = 42)\n",
    "clf = svm.SVC(kernel = 'linear', C = 30)\n",
    "scores = cross_val_score(clf, X, Ytarget, cv = 5)\n",
    "print('SVM accuracy score cross validation: ', scores.mean(), '\\n')\n",
    "X.columns"
   ]
  },
  {
   "cell_type": "code",
   "execution_count": 523,
   "metadata": {},
   "outputs": [
    {
     "name": "stdout",
     "output_type": "stream",
     "text": [
      "Check target values that were misclassified. Difference between actual results and predicted results\n",
      "[ 0  1 -1]\n",
      "The misclassified values only come from 1 degree of success difference, meaning employee values that are very close to the boundaries.\n",
      "The SVM model probably works well due to the 3 degrees of success we have and how big the gaps are from each other\n",
      "Something to try in the future can be to add the number of degree of success. Instead of 0-2, do 0-5\n"
     ]
    }
   ],
   "source": [
    "print('Check target values that were misclassified. Difference between actual results and predicted results')\n",
    "print((Ytest - yhat).unique())\n",
    "#df.loc[357, :]\n",
    "#df.loc[7, :]\n",
    "print('The misclassified values only come from 1 degree of success difference, meaning employee values that are very close to the boundaries.')\n",
    "\n",
    "print('The SVM model probably works well due to the 3 degrees of success we have and how big the gaps are from each other')\n",
    "print('Something to try in the future can be to add the number of degree of success. Instead of 0-2, do 0-5')"
   ]
  },
  {
   "cell_type": "markdown",
   "metadata": {},
   "source": [
    "___"
   ]
  },
  {
   "cell_type": "markdown",
   "metadata": {},
   "source": [
    "## Support Vector Machine seems to work really well with our data."
   ]
  },
  {
   "cell_type": "markdown",
   "metadata": {},
   "source": [
    "## We will give kmeans clustering a shot"
   ]
  },
  {
   "cell_type": "code",
   "execution_count": 524,
   "metadata": {},
   "outputs": [
    {
     "name": "stdout",
     "output_type": "stream",
     "text": [
      "Trying kmeans clustering with grid search to see best parameters to use\n",
      "\n",
      "\n",
      "best parameters {'n_clusters': 268}\n",
      "bests estimator KMeans(algorithm='auto', copy_x=True, init='k-means++', max_iter=300,\n",
      "    n_clusters=268, n_init=10, n_jobs=1, precompute_distances='auto',\n",
      "    random_state=None, tol=0.0001, verbose=0)\n"
     ]
    }
   ],
   "source": [
    "print('Trying kmeans clustering with grid search to see best parameters to use\\n\\n')\n",
    "from sklearn.cluster import KMeans\n",
    "from sklearn.model_selection import GridSearchCV\n",
    "X = df.drop(columns = ['city', 'company_name', 'money_raised'])\n",
    "\n",
    "kmeans = KMeans()\n",
    "params = {'n_clusters':[2,4,50,100,250, 268]}\n",
    "grid = GridSearchCV(kmeans, params )\n",
    "grid.fit(X)\n",
    "\n",
    "\n",
    "print('best parameters',grid.best_params_)\n",
    "\n",
    "print('bests estimator', grid.best_estimator_)"
   ]
  },
  {
   "cell_type": "code",
   "execution_count": 525,
   "metadata": {},
   "outputs": [
    {
     "name": "stdout",
     "output_type": "stream",
     "text": [
      "Clearly using 268 number of clusters show how kmeans does not work at all with our data\n",
      "the accuracy score is 0.007444168734491315\n",
      "for future reference, try a different clustering model\n",
      "\n",
      "\n"
     ]
    }
   ],
   "source": [
    "print('Clearly using 268 number of clusters show how kmeans does not work at all with our data')\n",
    "# Using best parameter found previusly\n",
    "kmeans = KMeans(n_clusters = 268)\n",
    "kmeans.fit(X)\n",
    "Y_means = kmeans.predict(X)\n",
    "print('the accuracy score is', accuracy_score(ytarget, Y_means))\n",
    "print('for future reference, try a different clustering model\\n\\n')"
   ]
  },
  {
   "cell_type": "code",
   "execution_count": 526,
   "metadata": {},
   "outputs": [],
   "source": [
    "# from sklearn import cluster\n",
    "# X = df.drop(columns = ['city', 'company_name', 'money_raised'])\n",
    "\n",
    "# cluster = cluster.SpectralClustering(n_clusters=200, affinity=\"precomputed\", n_init=200)\n",
    "# cluster.fit(X)\n",
    "# yhat = cluster.predict(X)"
   ]
  },
  {
   "cell_type": "markdown",
   "metadata": {},
   "source": [
    "___"
   ]
  },
  {
   "cell_type": "markdown",
   "metadata": {},
   "source": [
    "### Clustering was not good for our data. Our data does not contain any significant clusters"
   ]
  },
  {
   "cell_type": "markdown",
   "metadata": {},
   "source": [
    "## Fortunately,  SVM worked really well with our data with an accuracy score of 98%\n",
    "\n",
    "\n",
    "\n"
   ]
  },
  {
   "cell_type": "markdown",
   "metadata": {},
   "source": [
    "## Trying Neural Networks"
   ]
  },
  {
   "cell_type": "code",
   "execution_count": 527,
   "metadata": {},
   "outputs": [
    {
     "name": "stdout",
     "output_type": "stream",
     "text": [
      "Neural Networks\n"
     ]
    }
   ],
   "source": [
    "print('Neural Networks')"
   ]
  },
  {
   "cell_type": "code",
   "execution_count": 528,
   "metadata": {
    "scrolled": true
   },
   "outputs": [
    {
     "name": "stdout",
     "output_type": "stream",
     "text": [
      "Accuracy score for neural networks is 0.6694214876033058\n",
      "After trying different hidden layer sizes, the best one was: 1 hidden layer, 3 neurons.\n",
      "however, pretty much many different hidden layers give around the same score around .65-.75\n",
      "This model can be improved by using a lot more data than what we have.\n"
     ]
    }
   ],
   "source": [
    "from sklearn.neural_network import MLPClassifier\n",
    "from sklearn.preprocessing import StandardScaler\n",
    "\n",
    "# X = df.drop(columns = ['year_founded', 'city', 'company_name', 'money_raised', 'empl_val', 'success', 'size', 'revenue'])\n",
    "X = df.drop(columns = ['year_founded', 'city', 'company_name', 'money_raised', 'empl_val', 'success'])\n",
    "\n",
    "Ytarget = df['success']\n",
    "Xtrain, Xtest, Ytrain, Ytest = train_test_split(X, Ytarget, test_size = .30,  random_state = 42)\n",
    "scaler = StandardScaler()  \n",
    "scaler.fit(Xtrain)\n",
    "\n",
    "Xtrain = scaler.transform(Xtrain)  \n",
    "Xtest = scaler.transform(Xtest)  \n",
    "\n",
    "nn = MLPClassifier(alpha = 1e-1, hidden_layer_sizes=(3), max_iter = 4000)\n",
    "nn.fit(Xtrain, Ytrain)\n",
    "yhat = nn.predict(Xtest)\n",
    "print('Accuracy score for neural networks is', accuracy_score(Ytest, yhat))\n",
    "print('After trying different hidden layer sizes, the best one was: 1 hidden layer, 3 neurons.')\n",
    "print('however, pretty much many different hidden layers give around the same score around .65-.75')\n",
    "print('This model can be improved by using a lot more data than what we have.')\n"
   ]
  },
  {
   "cell_type": "code",
   "execution_count": null,
   "metadata": {},
   "outputs": [],
   "source": []
  },
  {
   "cell_type": "code",
   "execution_count": null,
   "metadata": {},
   "outputs": [],
   "source": []
  }
 ],
 "metadata": {
  "kernelspec": {
   "display_name": "Python 3",
   "language": "python",
   "name": "python3"
  },
  "language_info": {
   "codemirror_mode": {
    "name": "ipython",
    "version": 3
   },
   "file_extension": ".py",
   "mimetype": "text/x-python",
   "name": "python",
   "nbconvert_exporter": "python",
   "pygments_lexer": "ipython3",
   "version": "3.7.0"
  }
 },
 "nbformat": 4,
 "nbformat_minor": 2
}
